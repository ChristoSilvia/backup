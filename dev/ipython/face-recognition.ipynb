{
 "metadata": {
  "name": "",
  "signature": "sha256:460bcb8d4ec0a601e50ff06c890231a4c1c8628802b62378242dc064393680e8"
 },
 "nbformat": 3,
 "nbformat_minor": 0,
 "worksheets": [
  {
   "cells": [
    {
     "cell_type": "heading",
     "level": 4,
     "metadata": {},
     "source": [
      "Face Recognition on Labeled Faces in the Wild"
     ]
    },
    {
     "cell_type": "code",
     "collapsed": false,
     "input": [
      "%pylab inline\n",
      "\n",
      "import numpy as np"
     ],
     "language": "python",
     "metadata": {},
     "outputs": [],
     "prompt_number": 6
    },
    {
     "cell_type": "heading",
     "level": 3,
     "metadata": {},
     "source": [
      "The LFW dataset"
     ]
    },
    {
     "cell_type": "code",
     "collapsed": false,
     "input": [
      "print \"hello\""
     ],
     "language": "python",
     "metadata": {},
     "outputs": [],
     "prompt_number": 7
    },
    {
     "cell_type": "code",
     "collapsed": false,
     "input": [
      "from sklearn.datasets import fetch_lfw_people\n",
      "\n",
      "4.0"
     ],
     "language": "python",
     "metadata": {},
     "outputs": [],
     "prompt_number": 18
    },
    {
     "cell_type": "markdown",
     "metadata": {},
     "source": [
      "Let's introspect the images arrays to find the shapes"
     ]
    },
    {
     "cell_type": "code",
     "collapsed": false,
     "input": [
      "X = lfw_people.data\n",
      "y = lfw_people.target\n",
      "names = lfw_people.target_names\n",
      "\n",
      "n_samples, n_features = X.shape\n",
      "_, h, w = lfw_people.images.shape\n",
      "n_classes = len(names)\n",
      "\n",
      "print(\"n_samples: {}\".format(n_samples))\n",
      "print(\"n_features: {}\".format(n_features))\n",
      "print(\"n_classes: {}\".format(n_classes))"
     ],
     "language": "python",
     "metadata": {},
     "outputs": [],
     "prompt_number": 8
    },
    {
     "cell_type": "code",
     "collapsed": false,
     "input": [],
     "language": "python",
     "metadata": {},
     "outputs": [],
     "prompt_number": 8
    }
   ],
   "metadata": {}
  }
 ]
}