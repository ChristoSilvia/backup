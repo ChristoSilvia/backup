{
 "cells": [
  {
   "cell_type": "code",
   "execution_count": 2,
   "metadata": {
    "collapsed": false
   },
   "outputs": [
    {
     "data": {
      "text/plain": [
       "'awas'"
      ]
     },
     "execution_count": 2,
     "metadata": {},
     "output_type": "execute_result"
    }
   ],
   "source": [
    "\"aWas\".lower()"
   ]
  },
  {
   "cell_type": "code",
   "execution_count": 122,
   "metadata": {
    "collapsed": false
   },
   "outputs": [],
   "source": [
    "elements = [\"h\",\"he\",\"li\",\"be\",\"b\",\"c\",\"n\",\"o\",\"f\",\"ne\",\"na\",\n",
    "            \"mg\",\"al\",\"si\",\"p\",\"s\",\"cl\",\"ar\",\"k\",\"ca\",\"sc\",\n",
    "            \"ti\",\"v\",\"cr\",\"mn\",\"fe\",\"co\",\"ni\",\"cu\",\"zn\",\"ga\",\n",
    "            \"ge\",\"as\",\"se\",\"br\",\"kr\",\"rb\",\"sr\",\"y\",\"zr\",\"nb\",\n",
    "            \"tc\",\"ru\",\"rh\",\"pd\",\"ag\",\"cd\",\"in\",\"sn\",\"sb\",\"te\",\n",
    "            \"i\",\"xe\",\"cs\",\"ba\",\"la\",\"ce\",\"pr\",\"nd\",\"pm\",\"sm\",\n",
    "           \"eu\",\"gd\",\"tb\",\"dy\",\"ho\",\"er\",\"tm\",\"yb\",\"lu\",\"hf\",\n",
    "           \"ta\",\"w\",\"re\",\"os\",\"ir\",\"pt\",\"au\",\"hg\",\"tl\",\"pb\",\n",
    "           \"bi\",\"po\",\"at\",\"rn\",\"fr\",\"ra\",\"ac\",\"th\",\"pa\",\"u\",\n",
    "           \"np\",\"pu\",\"am\",\"cm\",\"bk\",\"cf\",\"es\",\"fm\",\"md\",\"no\",\n",
    "           \"lr\",\"rf\",\"db\",\"sg\",\"bh\",\"hs\",\"mt\",\"ds\",\"rg\"]"
   ]
  },
  {
   "cell_type": "code",
   "execution_count": 103,
   "metadata": {
    "collapsed": false
   },
   "outputs": [
    {
     "data": {
      "text/plain": [
       "'as'"
      ]
     },
     "execution_count": 103,
     "metadata": {},
     "output_type": "execute_result"
    }
   ],
   "source": [
    "\"asdf\"[:2]"
   ]
  },
  {
   "cell_type": "code",
   "execution_count": 104,
   "metadata": {
    "collapsed": false
   },
   "outputs": [],
   "source": [
    "def make_periodic( name, so_far ):\n",
    "    name = name.lower()\n",
    "    if name == \"\":\n",
    "        return so_far\n",
    "    else:\n",
    "        return [ make_periodic(name[len(element):], so_far+[element]) \n",
    "                for element in elements \n",
    "                if element == name[:len(element)] and make_periodic(name[len(element):], so_far+[element]) != []]"
   ]
  },
  {
   "cell_type": "code",
   "execution_count": 121,
   "metadata": {
    "collapsed": false
   },
   "outputs": [
    {
     "data": {
      "text/plain": [
       "[[[['he', 'ar', 'th'], ['he', 'ar', 'th']]]]"
      ]
     },
     "execution_count": 121,
     "metadata": {},
     "output_type": "execute_result"
    }
   ],
   "source": [
    "make_periodic( \"hearth\", [])"
   ]
  },
  {
   "cell_type": "code",
   "execution_count": null,
   "metadata": {
    "collapsed": true
   },
   "outputs": [],
   "source": []
  }
 ],
 "metadata": {
  "kernelspec": {
   "display_name": "Python 2",
   "language": "python",
   "name": "python2"
  },
  "language_info": {
   "codemirror_mode": {
    "name": "ipython",
    "version": 2
   },
   "file_extension": ".py",
   "mimetype": "text/x-python",
   "name": "python",
   "nbconvert_exporter": "python",
   "pygments_lexer": "ipython2",
   "version": "2.7.6"
  }
 },
 "nbformat": 4,
 "nbformat_minor": 0
}
