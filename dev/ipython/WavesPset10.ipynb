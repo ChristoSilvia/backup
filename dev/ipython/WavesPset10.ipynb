{
 "metadata": {
  "name": ""
 },
 "nbformat": 3,
 "nbformat_minor": 0,
 "worksheets": [
  {
   "cells": [
    {
     "cell_type": "heading",
     "level": 2,
     "metadata": {},
     "source": [
      "Problem Set 10, by\n",
      "Chris Silvia"
     ]
    },
    {
     "cell_type": "heading",
     "level": 4,
     "metadata": {},
     "source": [
      "Problem 2.5"
     ]
    },
    {
     "cell_type": "markdown",
     "metadata": {},
     "source": [
      "For an Einstein solid with each of the following values of $N$ and $q$, list all of the possible microstates."
     ]
    },
    {
     "cell_type": "markdown",
     "metadata": {},
     "source": [
      "The number of einstein microstates is the same as the number of ways to put $q$ balls in $N$ slots.  \n",
      "\n",
      "0 0 0 | | 0 0 |\n",
      "\n",
      "There are $N + q - 1$ possible places to put things in general, and choices of where the slots are ($q$ of them) uniquely determine the formula.\n",
      "\n",
      "$$\n",
      "\\Omega(N,q) = {{q + N -1} \\choose q}\n",
      "$$"
     ]
    },
    {
     "cell_type": "code",
     "collapsed": false,
     "input": [
      "import numpy as np\n",
      "\n",
      "def fact(n):\n",
      "    i = 1\n",
      "    for j in range(1,n+1):\n",
      "        i *= j\n",
      "    return i\n",
      "\n",
      "def choose(n,k):\n",
      "    \"\"\"Computes n choose k\"\"\"\n",
      "    return fact(n)/(fact(n-k) * fact(k))\n",
      "\n",
      "def einstein_solid(N,q):\n",
      "    \"\"\"Number of states for an einstein solid \n",
      "    with N oscillators and q units of energy. \n",
      "    Returns an integer\"\"\"\n",
      "    return choose(q + N - 1,q)\n",
      "\n",
      "def einstein_solid_microstates(N,q):\n",
      "    \"\"\"Lists, explicitly, the microstates for an\n",
      "    einstein solid of N oscillators with q units of\n",
      "    energy.  THIS IS RECURSIVE, don't do big things\"\"\"\n",
      "    states = []\n",
      "    if N == 1:\n",
      "        return [[q]]\n",
      "    elif q == 0:\n",
      "        return [[0 for i in range(0,N)]]\n",
      "    elif q == 1:\n",
      "        for i in range(0,N):\n",
      "            states += [[ 1 if n == i else 0 for n in range(0,N)]]\n",
      "        return states\n",
      "    else:\n",
      "        for i in range(0,q+1):\n",
      "            states += [[i]+xtail for xtail in einstein_solid_microstates(N-1,q-i)]\n",
      "        return states\n",
      "        \n",
      "\n",
      "data = [(\"a\",3,4),(\"b\",3,5),(\"c\",3,6),(\"d\",4,2),(\"e\",4,3)]\n",
      "\n",
      "for number,N,q in data:\n",
      "    print \"{0}: N={1} q={2} n_microstates={3}\\nThe actual microstates:\\n{4}\".format(\n",
      "    number,N,q,einstein_solid(N,q),einstein_solid_microstates(N,q))"
     ],
     "language": "python",
     "metadata": {},
     "outputs": [
      {
       "output_type": "stream",
       "stream": "stdout",
       "text": [
        "a: N=3 q=4 n_microstates=15\n",
        "The actual microstates:\n",
        "[[0, 0, 4], [0, 1, 3], [0, 2, 2], [0, 3, 1], [0, 4, 0], [1, 0, 3], [1, 1, 2], [1, 2, 1], [1, 3, 0], [2, 0, 2], [2, 1, 1], [2, 2, 0], [3, 1, 0], [3, 0, 1], [4, 0, 0]]\n",
        "b: N=3 q=5 n_microstates=21\n",
        "The actual microstates:\n",
        "[[0, 0, 5], [0, 1, 4], [0, 2, 3], [0, 3, 2], [0, 4, 1], [0, 5, 0], [1, 0, 4], [1, 1, 3], [1, 2, 2], [1, 3, 1], [1, 4, 0], [2, 0, 3], [2, 1, 2], [2, 2, 1], [2, 3, 0], [3, 0, 2], [3, 1, 1], [3, 2, 0], [4, 1, 0], [4, 0, 1], [5, 0, 0]]\n",
        "c: N=3 q=6 n_microstates=28\n",
        "The actual microstates:\n",
        "[[0, 0, 6], [0, 1, 5], [0, 2, 4], [0, 3, 3], [0, 4, 2], [0, 5, 1], [0, 6, 0], [1, 0, 5], [1, 1, 4], [1, 2, 3], [1, 3, 2], [1, 4, 1], [1, 5, 0], [2, 0, 4], [2, 1, 3], [2, 2, 2], [2, 3, 1], [2, 4, 0], [3, 0, 3], [3, 1, 2], [3, 2, 1], [3, 3, 0], [4, 0, 2], [4, 1, 1], [4, 2, 0], [5, 1, 0], [5, 0, 1], [6, 0, 0]]\n",
        "d: N=4 q=2 n_microstates=10\n",
        "The actual microstates:\n",
        "[[0, 0, 0, 2], [0, 0, 1, 1], [0, 0, 2, 0], [0, 1, 1, 0], [0, 1, 0, 1], [0, 2, 0, 0], [1, 1, 0, 0], [1, 0, 1, 0], [1, 0, 0, 1], [2, 0, 0, 0]]\n",
        "e: N=4 q=3 n_microstates=20\n",
        "The actual microstates:\n",
        "[[0, 0, 0, 3], [0, 0, 1, 2], [0, 0, 2, 1], [0, 0, 3, 0], [0, 1, 0, 2], [0, 1, 1, 1], [0, 1, 2, 0], [0, 2, 1, 0], [0, 2, 0, 1], [0, 3, 0, 0], [1, 0, 0, 2], [1, 0, 1, 1], [1, 0, 2, 0], [1, 1, 1, 0], [1, 1, 0, 1], [1, 2, 0, 0], [2, 1, 0, 0], [2, 0, 1, 0], [2, 0, 0, 1], [3, 0, 0, 0]]\n"
       ]
      }
     ],
     "prompt_number": 28
    },
    {
     "cell_type": "markdown",
     "metadata": {},
     "source": [
      "f) When $N = 1$, there is exactly one way of putting all the energy into that one box."
     ]
    },
    {
     "cell_type": "markdown",
     "metadata": {},
     "source": [
      "g) When $q = 1$, there are $N \\choose q$ ways of putting the one quantum of energy into each of the $N$ oscillators."
     ]
    },
    {
     "cell_type": "heading",
     "level": 4,
     "metadata": {},
     "source": [
      "Problem 2.6"
     ]
    },
    {
     "cell_type": "markdown",
     "metadata": {},
     "source": [
      "Want: multiplicity of an einstein solid with $N = 30$ and $q = 30$."
     ]
    },
    {
     "cell_type": "code",
     "collapsed": false,
     "input": [
      "print \"There are {0} states for an einstein solid with 30 oscillators and 30 units of energy\".format(einstein_solid(30,30))"
     ],
     "language": "python",
     "metadata": {},
     "outputs": [
      {
       "output_type": "stream",
       "stream": "stdout",
       "text": [
        "There are 59132290782430712 states for an einstein solid with 30 oscillators and 30 units of energy\n"
       ]
      }
     ],
     "prompt_number": 8
    },
    {
     "cell_type": "heading",
     "level": 4,
     "metadata": {},
     "source": [
      "Problem 2.8"
     ]
    },
    {
     "cell_type": "markdown",
     "metadata": {},
     "source": [
      "Consider a system of two einstein solids $A$ and $B$, each containing 10 oscillators, with at total of 20 units of energy.  The solids are weakly coupled and total energy is fixed.\n",
      "\n",
      "Macrostates can only be distinguished by how much total energy is in $A$ and not $B$, or vice versa."
     ]
    },
    {
     "cell_type": "code",
     "collapsed": false,
     "input": [
      "q = 20\n",
      "\n",
      "microstates = [ einstein_solid(10,qa)*einstein_solid(10,q-qa) for qa in range(0,20+1)]\n",
      "n_microstates = sum(microstates)\n",
      "normalized_microstates = [float(omega)/float(n_microstates) for omega in microstates]\n",
      "\n",
      "print \"a) There are {0} macrostates\".format(len(microstates))\n",
      "print \"b) There are {0} microstates\".format(sum(microstates))\n",
      "print \"c) The probability of all the energy in A is {0}\".format(normalized_microstates[20])\n",
      "print \"d) The probability of finding half the energy in A is {0}\".format(normalized_microstates[10])"
     ],
     "language": "python",
     "metadata": {},
     "outputs": [
      {
       "output_type": "stream",
       "stream": "stdout",
       "text": [
        "a) There are 21 macrostates\n",
        "b) There are 68923264410 microstates\n",
        "c) The probability of all the energy in A is 0.00014530659692\n",
        "d) The probability of finding half the energy in A is 0.123814432718\n"
       ]
      }
     ],
     "prompt_number": 57
    },
    {
     "cell_type": "markdown",
     "metadata": {},
     "source": [
      "e) The system would exhibit irreversible behavior if the system starts out initially in a very unlikely state."
     ]
    },
    {
     "cell_type": "heading",
     "level": 4,
     "metadata": {},
     "source": [
      "Problem 2.10"
     ]
    },
    {
     "cell_type": "markdown",
     "metadata": {},
     "source": [
      "This graph is interactions between an einstein solid $A$ with $N_A = 200$ oscillators and an einstein solid $B$ with $N_B = 100$ oscillators.  There are 100 units of energy in total."
     ]
    },
    {
     "cell_type": "code",
     "collapsed": false,
     "input": [
      "%matplotlib inline\n",
      "import numpy as np\n",
      "\n",
      "import matplotlib.pyplot as plt\n",
      "\n",
      "NA,NB = 200,100\n",
      "q = 100\n",
      "\n",
      "qadistribution = [ einstein_solid(NA,qa)*einstein_solid(NB,q-qa) for qa in range(0,100+1)]\n",
      "n_microstates = sum(qadistribution)\n",
      "normalized_qadistribution = [float(omega) / float(n_microstates) for omega in qadistribution]\n",
      "\n",
      "print \"The most probable state where qa = {1} has a probability of {0}\".format(\n",
      "        max(normalized_qadistribution),np.argmax(normalized_qadistribution))\n",
      "print \"The least probable state where qa = {1} has a probability of {0}\".format(\n",
      "        min(normalized_qadistribution),np.argmin(normalized_qadistribution))\n",
      "plt.title(\"Energy Probability Distribution\")\n",
      "plt.xlabel(\"q_a\")\n",
      "plt.ylabel(\"probability\")\n",
      "plt.plot(range(0,101),normalized_qadistribution)"
     ],
     "language": "python",
     "metadata": {},
     "outputs": [
      {
       "output_type": "stream",
       "stream": "stdout",
       "text": [
        "The most probable state where qa = 67 has a probability of 0.073151397822\n",
        "The least probable state where qa = 0 has a probability of 2.69266665552e-38\n"
       ]
      },
      {
       "metadata": {},
       "output_type": "pyout",
       "prompt_number": 55,
       "text": [
        "[<matplotlib.lines.Line2D at 0xb012ec0c>]"
       ]
      },
      {
       "metadata": {},
       "output_type": "display_data",
       "png": "[encoded data removed]",
       "text": [
        "<matplotlib.figure.Figure at 0xb039390c>"
       ]
      }
     ],
     "prompt_number": 55
    },
    {
     "cell_type": "heading",
     "level": 4,
     "metadata": {},
     "source": [
      "Problem 2.22"
     ]
    },
    {
     "cell_type": "markdown",
     "metadata": {},
     "source": [
      "The goal of this problem is to get an idea of the width of the peak of the multiplicity function of a system of two large einstein solids."
     ]
    },
    {
     "cell_type": "markdown",
     "metadata": {},
     "source": [
      "The multiplicity of an einstein solid with $N$ oscillators and $q$ units of energy is ${{N-q+1} \\choose q}$.  So, two einstein solids, each with $N$ oscillators and sharing $2N$ units of energy. The only distinguishable thing is the total energy in each system, so there are $2N+1$ total ways to distribute $2N$ balls into two buckets.\n",
      "\n",
      "a) $2N + 1$"
     ]
    },
    {
     "cell_type": "markdown",
     "metadata": {},
     "source": [
      "By (2.18), the multiplicity of an einstein solid, for large $q$ and $N$, is given by:\n",
      "$$\n",
      "\\Omega(N,q) \\approx \\frac{\\left( \\frac{q+N}{q} \\right)^q \\left( \\frac{q+N}{N} \\right)^N}{\\sqrt{2 \\pi q \\left( \\frac{q + N}{N} \\right) }}\n",
      "$$"
     ]
    },
    {
     "cell_type": "markdown",
     "metadata": {},
     "source": [
      "If we treat the combined system as a single einstein solid, the total number of microstates is given by the multiplicity of the two systems together, with the desired amount of energy, which is $\\Omega(2N,2N)$."
     ]
    },
    {
     "cell_type": "markdown",
     "metadata": {},
     "source": [
      "b)\n",
      "$$\n",
      "TotalMicrostates\n",
      "=\n",
      "\\Omega(2N,2N) \n",
      "\\approx \n",
      "\\frac{\\left( \\frac{2N+2N}{2N} \\right)^2N \\left( \\frac{2N+2N}{2N} \\right)^2N}{\\sqrt{2 \\pi (2N) \\left( \\frac{2N + 2N}{2N} \\right) }}\n",
      "=\n",
      "\\frac{2^{4N}}{\\sqrt{8 \\pi N}}\n",
      "$$"
     ]
    },
    {
     "cell_type": "markdown",
     "metadata": {},
     "source": [
      "Of course the most likely macrostate is the one where the energy is shared equally between the two systems.\n",
      "The multiplicity of this happening is $\\Omega(N,N) \\times \\Omega(N,N)$\n",
      "\n",
      "c)\n",
      "$$\n",
      "EqualSharingMultiplicity\n",
      "= \n",
      "\\Omega(N,N)\\Omega(N,N)\n",
      "\\approx\n",
      "\\left( \\frac{\\left( \\frac{N+N}{N} \\right)^N \\left( \\frac{N+N}{N} \\right)^N}{\\sqrt{2 \\pi (N) \\left( \\frac{N + N}{N} \\right) }} \\right)^2\n",
      "=\n",
      "\\left( \\frac{ 2^{2N} }{\\sqrt{4 \\pi N}} \\right)^2\n",
      "=\n",
      "\\frac{2^{4N}}{4 \\pi N}\n",
      "$$"
     ]
    },
    {
     "cell_type": "markdown",
     "metadata": {},
     "source": [
      "This tells us that the graph is quite sharp.  The total area under the graph is the total number of microstates, $\\frac{2^{4N}}{\\sqrt{8 \\pi N}}$.  The maximum height of the graph is $\\frac{2^{4N}}{4 \\pi N}$, though.\n",
      "\n",
      "If this was a rectangle, it would be:\n",
      "\n",
      "$$\n",
      "\\frac{2^{4N}}{\\sqrt{8 \\pi N}} \\left( \\frac{2^{4N}}{4 \\pi N} \\right)^{-1}\n",
      "=\n",
      "\\sqrt{2 \\pi N}\n",
      "$$"
     ]
    },
    {
     "cell_type": "code",
     "collapsed": false,
     "input": [
      "import numpy as np\n",
      "width = np.sqrt(2*np.pi*1e23)\n",
      "\n",
      "print \"For the case N=10^23, the width is {0}\".format(width)\n",
      "print \"{0} of the graph have reasonable large probabilities\".format(width/2e23)"
     ],
     "language": "python",
     "metadata": {},
     "outputs": [
      {
       "output_type": "stream",
       "stream": "stdout",
       "text": [
        "For the case N=10^23, the width is 7.92665459521e+11\n",
        "3.96332729761e-12 of the graph have reasonable large probabilities\n"
       ]
      }
     ],
     "prompt_number": 59
    },
    {
     "cell_type": "heading",
     "level": 4,
     "metadata": {},
     "source": [
      "Problem 2.26"
     ]
    },
    {
     "cell_type": "markdown",
     "metadata": {},
     "source": [
      "Consider an ideal monotomic gas living in a two-dimensional universe, occupying an area $A$ instead of a volume $V$.  Find a formula for the multiplicity of the gas."
     ]
    },
    {
     "cell_type": "markdown",
     "metadata": {},
     "source": [
      "Suppose the system has an area $A$ and total energy $U$.  There is only kinetic energy.  Then, the momenta $p_x$ and $p_y$ are constrained such that $U = \\frac{1}{2m} \\left( p_x^2 + p_y^2 \\right)$. \n",
      "\n",
      "The momenta take up a \"momentum circle\", with \"radius\" $2mU$.  The particles take up position space.  The number of states should be proportional to the area and the circumference of the momentum circle.  By heisenburg uncertainty principle, there constant of proportionality is $\\frac{1}{h^2}$ since we're in two dimenstions.  The total number of states for one particle is thus:\n",
      "\n",
      "$$\n",
      "\\Omega(U)\n",
      "=\n",
      "\\frac{A C_p}{h^2}\n",
      "$$\n",
      "\n",
      "where $C_p$ denotes the circumfrence of the momentum circle. When we have $N$ particles, we exponentiate the states.  Supposing they are distingushable,\n",
      "$$\n",
      "\\Omega_{distinguishable}(U,N)\n",
      "=\n",
      "\\frac{A^N}{h^{2N}} \\times {\\text{Area of momentum hypersurface}}\n",
      "$$\n",
      "\n",
      "There are $N!$ ways to exchange $N$ particles, and each one of the same, so in the case of identical particles:\n",
      "$$\n",
      "\\Omega(U,N)\n",
      "=\n",
      "\\frac{1}{N!} \\frac{A^N}{h^{2N}}  \\times {\\text{Area of momentum hypersurface}}\n",
      "$$"
     ]
    },
    {
     "cell_type": "markdown",
     "metadata": {},
     "source": [
      "The momentum hypersurface if a $2N$-dimensional hypersurface. \"area\"(d) = $\\frac{2 \\pi^{d/2}}{(d/2 - 1)!} r^{d-1}$, so, when $d = 2N$ and $r = 2mU$:\n",
      "\n",
      "$$\n",
      "\\Omega(U,N)\n",
      "=\n",
      "\\frac{1}{N!} \\frac{A^N}{h^{2N}}  \\times {\\text{Area of momentum hypersurface}}\n",
      "=\n",
      "\\frac{1}{N!} \\frac{A^N}{h^{2N}} \\frac{2 \\pi^{N}}{(N - 1)!} {\\sqrt{2mU}}^{2N-1}\n",
      "=\n",
      "\\frac{1}{N!} \\frac{A^N}{h^{2N}} \\frac{2 \\pi^{N}}{N!} {2mU}^{N}\n",
      "$$"
     ]
    },
    {
     "cell_type": "heading",
     "level": 4,
     "metadata": {},
     "source": [
      "Problem 7"
     ]
    },
    {
     "cell_type": "markdown",
     "metadata": {},
     "source": [
      "$$\n",
      "S_{ideal}(U,V,N) = N k_b \\left( \\log \\left( \\frac{V}{N} \\left( \\frac{4 \\pi m U}{3 N h^2} \\right)^{3/2} \\right) + 5/2 \\right)\n",
      "$$"
     ]
    },
    {
     "cell_type": "code",
     "collapsed": false,
     "input": [],
     "language": "python",
     "metadata": {},
     "outputs": []
    }
   ],
   "metadata": {}
  }
 ]
}