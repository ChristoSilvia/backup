{
 "metadata": {
  "name": "",
  "signature": "sha256:ed4175906918c34d8256a15a0e8e85b74448fc72daefcee775c1b79d353be9b3"
 },
 "nbformat": 3,
 "nbformat_minor": 0,
 "worksheets": [
  {
   "cells": [
    {
     "cell_type": "code",
     "collapsed": false,
     "input": [
      "%matplotlib inline\n",
      "import matplotlib.pyplot as plt\n",
      "import numpy as np"
     ],
     "language": "python",
     "metadata": {},
     "outputs": [],
     "prompt_number": 1
    },
    {
     "cell_type": "code",
     "collapsed": false,
     "input": [
      "def loc_maker(m,k,g,vo):\n",
      "  \"\"\" mv' = mg - kv^2 \"\"\"\n",
      "  a = np.sqrt(m*g/k)\n",
      "  def loc(t):\n",
      "    return -a*np.tanh(t/(a*g) + np.log(2) + np.log(v0))\n",
      "  return np.vectorize(loc)"
     ],
     "language": "python",
     "metadata": {},
     "outputs": [],
     "prompt_number": 3
    },
    {
     "cell_type": "code",
     "collapsed": false,
     "input": [
      "T = np.linspace(0,4)\n",
      "plt.plot(T,loc_maker(1))"
     ],
     "language": "python",
     "metadata": {},
     "outputs": []
    }
   ],
   "metadata": {}
  }
 ]
}