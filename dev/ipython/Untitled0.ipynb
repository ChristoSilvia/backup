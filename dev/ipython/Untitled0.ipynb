{
 "metadata": {
  "name": ""
 },
 "nbformat": 3,
 "nbformat_minor": 0,
 "worksheets": [
  {
   "cells": [
    {
     "cell_type": "code",
     "collapsed": false,
     "input": [
      "def n_ordered_bases(dim,char):\n",
      "    n = 1\n",
      "    for i in range(0,dim):\n",
      "      n = n*(char**dim - char**i)\n",
      "    return n\n",
      "\n",
      "def m_lin_ind_vectors(dim,char,m):\n",
      "    n = 1\n",
      "    for i in range(0,m):\n",
      "        n = n*(char**dim - char**i)\n",
      "    return n\n",
      "\n",
      "m_lin_ind_vectors(8,3,5)/n_ordered_bases(5,3),m_lin_ind_vectors(8,3,3)/n_ordered_bases(3,3)"
     ],
     "language": "python",
     "metadata": {},
     "outputs": [
      {
       "metadata": {},
       "output_type": "pyout",
       "prompt_number": 13,
       "text": [
        "(25095280L, 25095280L)"
       ]
      }
     ],
     "prompt_number": 13
    },
    {
     "cell_type": "code",
     "collapsed": false,
     "input": [],
     "language": "python",
     "metadata": {},
     "outputs": []
    }
   ],
   "metadata": {}
  }
 ]
}