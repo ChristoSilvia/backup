{
 "metadata": {
  "name": ""
 },
 "nbformat": 3,
 "nbformat_minor": 0,
 "worksheets": [
  {
   "cells": [
    {
     "cell_type": "heading",
     "level": 3,
     "metadata": {},
     "source": [
      "Separation of Variables"
     ]
    },
    {
     "cell_type": "heading",
     "level": 4,
     "metadata": {},
     "source": [
      "Purpose of Workbook:"
     ]
    },
    {
     "cell_type": "markdown",
     "metadata": {},
     "source": [
      "Separation of variables is a powerful method, and can be used to solve a well-known diffusion problem.  However, this method can be difficult to understand completely, so many intuitive explanations are provided."
     ]
    },
    {
     "cell_type": "markdown",
     "metadata": {},
     "source": [
      "The basic idea of separation of variables is to break down the _initial conditions_ of the problem into simple components, find the response to each component, and then add up these individual responses.  This will give the response for _arbitrary_ initial conditions."
     ]
    },
    {
     "cell_type": "markdown",
     "metadata": {},
     "source": [
      "This workbook borrows and plaigerizes [Stanley J. Farlow's](http://www.math.umaine.edu/~farlow/) excellent book [Partial Differential Equations for Scientists and Engineers](http://www.amazon.com/Differential-Equations-Scientists-Engineers-Mathematics/dp/048667620X/ref=asap_B001IGNPM0_1_1?s=books&ie=UTF8&qid=1416765032&sr=1-1)."
     ]
    },
    {
     "cell_type": "heading",
     "level": 4,
     "metadata": {},
     "source": [
      "Desired Result:"
     ]
    },
    {
     "cell_type": "markdown",
     "metadata": {},
     "source": [
      "After completing this workbook, the student should be able to determine whether a PDE can be solved by separation of variables.  If it can, the student should be able to completely determine the future behavior of the system by summing solutions."
     ]
    },
    {
     "cell_type": "heading",
     "level": 4,
     "metadata": {},
     "source": [
      "Introduction:"
     ]
    },
    {
     "cell_type": "markdown",
     "metadata": {},
     "source": [
      "Separation of variables is one of the oldest techniques for solving Initial-Boundary-Value-Problems (IBVP's) and applies to problems where:\n",
      "\n",
      "1. The PDE is [linear](www.google.com) and [homogenous](www.google.com).\n",
      "2. The boundary conditions are of the form <br/> <br /> $$\\alpha u_x(0,t) + \\beta u(0,t) = 0$$ $$\\gamma u_x(1,t) + \\delta u(1,t) = 0$$ <br /> where $\\alpha$,$\\beta$,$\\gamma$,$\\delta$ are constants (boundary conditions of this form are called __linear homogenous BC's__)"
     ]
    },
    {
     "cell_type": "markdown",
     "metadata": {},
     "source": [
      "The method dates back to [Joseph Fourier](http://en.wikipedia.org/wiki/Joseph_Fourier) (in fact, it's occasionally called \"Fourier's Method\") and is probably the most widely used method for finding solutions to PDE's.  \n",
      "\n",
      "![No picture of Joseph Fourier is available](http://upload.wikimedia.org/wikipedia/commons/thumb/a/aa/Fourier2.jpg/250px-Fourier2.jpg \"Joseph Fourier\")\n",
      "\n",
      "For most people who are familiar with the method, it is their first try when attempting to solve PDE's and other methods are used only when separation of variables fails."
     ]
    },
    {
     "cell_type": "heading",
     "level": 4,
     "metadata": {},
     "source": [
      "Considering an Example:"
     ]
    },
    {
     "cell_type": "markdown",
     "metadata": {},
     "source": [
      "Instead of showing how this method works in general, we are going to apply it to a familiar problem.  Consider the IBVP problem (diffusion problem):\n",
      "\n",
      "<table>\n",
      "<tr><td>PDE</td><td>$u_t = \\alpha^2 u_{xx}$</td><td>$0 < x < 1$ and $0 < t < \\infty$</td></tr>\n",
      "<tr><td>BCs</td><td>$u(0,t) = u(1,t) = 0$</td><td>$0 < t < \\infty$</tr>\n",
      "<tr><td>IC</td><td>$u(x,0) = \\phi(x)$</td><td>$0 < x < 1$.</td></tr>\n",
      "</table>"
     ]
    },
    {
     "cell_type": "markdown",
     "metadata": {},
     "source": [
      "Before we dive in, let's first think about the problem.  Here, we have a finite rod where temperature at the ends is fixed at zero (suppose it's a temperature problem where zero means so many degrees). We are also given data for the problem in the form of an initial condition; our goal is to find the temperature $u(x,t)$ for later points in time.\n",
      "\n",
      "Now for the method itself- but first an overview."
     ]
    },
    {
     "cell_type": "heading",
     "level": 4,
     "metadata": {},
     "source": [
      "Overview of Separation of Variables"
     ]
    },
    {
     "cell_type": "markdown",
     "metadata": {},
     "source": [
      "Separaton of variables looks for simple-type solutions to the PDE of the form\n",
      "\n",
      "$$ u(x,t) = X(x)T(t) $$\n",
      "\n",
      "where $X(x)$ is some function of $x$ alone, and $T(t)$ is some function of $t$ alone.  The solutions are simple because any temperature $u(x,t)$ of this form will retain its basic \"shape\" for different values of time $t$."
     ]
    },
    {
     "cell_type": "markdown",
     "metadata": {},
     "source": [
      "The heat equation describes diffusive processes.  It is defined as such:\n",
      "\n",
      "$$ u_t = \\kappa^2 u_{xx} $$\n",
      "\n",
      "Consider the initial-value problem:\n",
      "* PDE: $u_t = \\kappa^2 u_{xx}$\n",
      "* Initial Conditions: $u(x,0) = \\phi(x)$, representing the heat distribution at time $t=0$.\n",
      "* Boundary Values: $u(0,t) = 0$ and $u(L,t) = 0$."
     ]
    },
    {
     "cell_type": "markdown",
     "metadata": {},
     "source": [
      "### Exercise 1:\n",
      "Let A be a constant.\n",
      "Verify (on paper) that $u(x,t) = A e^{- \\kappa t} \\sin( \\frac{\\pi}{L} x)$ satisfies the PDE and boundary values.\n",
      "Plot some of the spatial values of u at times $t=0,1,2,0$.\n",
      "At what time is u effectively zero?"
     ]
    },
    {
     "cell_type": "code",
     "collapsed": false,
     "input": [
      "%matplotlib inline\n",
      "\n",
      "import numpy as np\n",
      "import matplotlib.pyplot as plt\n",
      "\n",
      "L = 1.0\n",
      "A = 1.0\n",
      "k = 1.0\n",
      "\n",
      "X = np.linspace(0,1)\n",
      "\n",
      "def u(x,t):\n",
      "    return A*np.exp(-k*t)*np.sin(np.pi/L*x)\n",
      "\n",
      "plt.axis([0,1,-1.1,1.1])\n",
      "plt.plot(X,[u(x,0) for x in X])\n",
      "plt.plot(X,[u(x,1) for x in X])\n"
     ],
     "language": "python",
     "metadata": {},
     "outputs": [
      {
       "metadata": {},
       "output_type": "pyout",
       "prompt_number": 1,
       "text": [
        "[<matplotlib.lines.Line2D at 0xb0b97e0c>]"
       ]
      },
      {
       "metadata": {},
       "output_type": "display_data",
       "png": "[encoded data removed]",
       "text": [
        "<matplotlib.figure.Figure at 0xb645c1cc>"
       ]
      }
     ],
     "prompt_number": 1
    },
    {
     "cell_type": "markdown",
     "metadata": {},
     "source": [
      "### Exercise 2:\n",
      "\n",
      "Find (on paper) another solution to the heat equation, with the same boundary values as above.\n",
      "\n",
      "Plot it for different values of time"
     ]
    },
    {
     "cell_type": "markdown",
     "metadata": {},
     "source": [
      "### Exercise 3:\n",
      "\n",
      "Show (on paper) that\n",
      "\n",
      "$$\n",
      "\\int_0^L \\sin \\left( \\frac{m L}{\\pi} x \\right) \\sin \\left( \\frac{n L}{\\pi} x \\right) dx\n",
      "$$\n",
      "\n",
      "is zero if $ m \\neq n$.  Determine its value for $n=m$."
     ]
    },
    {
     "cell_type": "markdown",
     "metadata": {},
     "source": [
      "### Exercise 4:\n",
      "\n",
      "Show (on paper) that if $f$ and $g$ are solutions to the heat equation, then $f + g$ is a solution to the heat equation."
     ]
    },
    {
     "cell_type": "code",
     "collapsed": false,
     "input": [],
     "language": "python",
     "metadata": {},
     "outputs": []
    }
   ],
   "metadata": {}
  }
 ]
}