{
 "metadata": {
  "name": ""
 },
 "nbformat": 3,
 "nbformat_minor": 0,
 "worksheets": [
  {
   "cells": [
    {
     "cell_type": "markdown",
     "metadata": {},
     "source": [
      "ahaztu ditut        I forgot them (1)\n",
      "\n",
      "ahaztu zaizkit      I forgot (zaizki)\n",
      "\n",
      "ahaztu zaizu        You(s.) forgot him\n",
      "\n",
      "hurbildu natzaizue  He approached me\n",
      "\n",
      "hurbildu zait       I approached (you (pl))\n",
      "\n",
      "lagundu ditugu      We helped them\n",
      "\n",
      "lagundu dituzu      You helped them\n",
      "\n",
      "lagundu nauzue      You helped me\n",
      "\n",
      "mintzatu natzaizu  \n",
      "\n",
      "maintzatu gatzaizkizue\n",
      "\n",
      "mintzatu zaizkigu   We talked to (zaizki)\n",
      "\n",
      "ukitu ditugu        We touched them\n",
      "\n",
      "ukitu naute         They touched me"
     ]
    },
    {
     "cell_type": "markdown",
     "metadata": {},
     "source": [
      "#### Objects\n",
      "\n",
      "| them | ditu |\n",
      "| me | nau | \n",
      "| us | natzai |\n",
      "| zai | you(pl). |"
     ]
    },
    {
     "cell_type": "markdown",
     "metadata": {},
     "source": [
      "#### Subjects\n",
      "\n",
      "t = I\n",
      "\n",
      "te = they"
     ]
    },
    {
     "cell_type": "code",
     "collapsed": false,
     "input": [],
     "language": "python",
     "metadata": {},
     "outputs": []
    }
   ],
   "metadata": {}
  }
 ]
}