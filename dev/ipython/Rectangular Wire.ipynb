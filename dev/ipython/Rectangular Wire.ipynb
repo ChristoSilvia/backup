{
 "metadata": {
  "name": "",
  "signature": "sha256:03f5ebbb09ef8cce7c609536132ea0613f09c1f2cdb74c7eaf04fe75d8e4d9ae"
 },
 "nbformat": 3,
 "nbformat_minor": 0,
 "worksheets": [
  {
   "cells": [
    {
     "cell_type": "heading",
     "level": 1,
     "metadata": {},
     "source": [
      "What magnetic field does current through a rectangular wire produce?"
     ]
    },
    {
     "cell_type": "markdown",
     "metadata": {},
     "source": [
      "Although Hans Christian Oersted's dissertation was philosophical, he was captivated by physics.  From reading Kant, he felt that there were deep physical connections between the various areas of nature, things that he wanted to discover.  So, when a German, Johann Wilhelm Ritter, told Oersted that he believed that there was a connection between electricity and magnetism, he was intruiged.\n",
      "\n",
      "The idea fell to the back of his mind, and he soon sank into the minutae of running the physics program at the University of Copenhagen. One day, years later, in the middle of a lecture, Oersted noticed that a compass needle was deflected from magnetic north when a nearby battery was connected, and swung back to magnetic north as the current ceased.\n",
      "\n",
      "Oersted's result brought new vigour to the study of electrodynamics, attracting the attention of the french physicist Andre-Marie Ampere, who developed a precise description of the forces between current-carrying wire.  Jean-Baptiste Biot and Felix Savart refined this work to find a simple formula for the magnetic field that current-carrying wires produce.\n",
      "\n",
      "Oersted's attentions moved to chemistry, and he became the first person to produce pure aluminum.  He died in 1851, in Copenhagen.\n",
      "\n",
      "Later, american Josiah Willard Gibbs reformulated the Biot-Savart force law in his vector notation, which is the notation used today."
     ]
    },
    {
     "cell_type": "markdown",
     "metadata": {},
     "source": [
      "Given a current density $\\vec{J}(\\vec{r}) \\frac{C}{\\sec m^2}$, a magnetic field of strength $\\vec{H} \\frac{C m}{\\sec}$ is felt at the origin.\n",
      "\n",
      "$$\n",
      "\\vec{H}\n",
      "=\n",
      "\\int_V \\frac{\\hat{r} \\times \\vec{J}}{r^2} d^3x\n",
      "$$\n",
      "\n",
      "This law holds in any case.  Other methods for finding magnetic fields such as Ampere's law, are not useful when there is no symmetry."
     ]
    },
    {
     "cell_type": "markdown",
     "metadata": {},
     "source": [
      "Consider a wire extending infinitely, parallel to the x axis, of infinitesimal diameter, carrying a current $I \\frac{C}{sec}$, and intersecting the point $(x_0,y_0,z_0)$.  This can be written as a current density using dirac deltas:\n",
      "\n",
      "$\n",
      "\\vec{J}(x,y,z) = \n",
      "\\delta(y-y_0)\n",
      "\\delta(z-z_0)\n",
      "\\left(\n",
      "\\begin{array}{c}\n",
      "I\\\\\n",
      "0\\\\\n",
      "0\\\\\n",
      "\\end{array}\n",
      "\\right)\n",
      "$\n",
      "\n",
      "We then can reduce $\\vec{H}$ to a single integral:\n",
      "\n",
      "$\n",
      "\\vec{H}\n",
      "=\n",
      "\\int\n",
      "\\frac{1}{x^2 + y_0^2 + z_0^2}\n",
      "\\left(\n",
      "\\begin{array}{c}\n",
      "0\\\\\n",
      "-z_0 I\\\\\n",
      "y_0 I\\\\\n",
      "\\end{array}\n",
      "\\right)\n",
      "dx\n",
      "$\n",
      "\n",
      "Which analytically evaluates to something."
     ]
    },
    {
     "cell_type": "code",
     "collapsed": false,
     "input": [],
     "language": "python",
     "metadata": {},
     "outputs": []
    }
   ],
   "metadata": {}
  }
 ]
}