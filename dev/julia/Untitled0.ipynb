{
 "metadata": {
  "language": "Julia",
  "name": ""
 },
 "nbformat": 3,
 "nbformat_minor": 0,
 "worksheets": [
  {
   "cells": [
    {
     "cell_type": "code",
     "collapsed": false,
     "input": [
      "println(\"Hello, World\")"
     ],
     "language": "python",
     "metadata": {},
     "outputs": [
      {
       "output_type": "stream",
       "stream": "stdout",
       "text": [
        "Hello, World\n"
       ]
      }
     ],
     "prompt_number": 1
    },
    {
     "cell_type": "code",
     "collapsed": false,
     "input": [
      "function sayhello(name)\n",
      "    println(\"Hello, \", name)\n",
      "end"
     ],
     "language": "python",
     "metadata": {},
     "outputs": [
      {
       "metadata": {},
       "output_type": "pyout",
       "prompt_number": 2,
       "text": [
        "sayhello (generic function with 1 method)"
       ]
      }
     ],
     "prompt_number": 2
    },
    {
     "cell_type": "code",
     "collapsed": false,
     "input": [
      "sayhello(\"friend\")"
     ],
     "language": "python",
     "metadata": {},
     "outputs": [
      {
       "output_type": "stream",
       "stream": "stdout",
       "text": [
        "Hello, friend"
       ]
      },
      {
       "output_type": "stream",
       "stream": "stdout",
       "text": [
        "\n"
       ]
      }
     ],
     "prompt_number": 3
    },
    {
     "cell_type": "code",
     "collapsed": false,
     "input": [
      "i = 2.0"
     ],
     "language": "python",
     "metadata": {},
     "outputs": [
      {
       "metadata": {},
       "output_type": "pyout",
       "prompt_number": 4,
       "text": [
        "2.0"
       ]
      }
     ],
     "prompt_number": 4
    },
    {
     "cell_type": "code",
     "collapsed": false,
     "input": [
      "z = 0.5 + 0.5im"
     ],
     "language": "python",
     "metadata": {},
     "outputs": [
      {
       "metadata": {},
       "output_type": "pyout",
       "prompt_number": 5,
       "text": [
        "0.5 + 0.5im"
       ]
      }
     ],
     "prompt_number": 5
    },
    {
     "cell_type": "code",
     "collapsed": false,
     "input": [
      "z * (0.1 + 0.9im)"
     ],
     "language": "python",
     "metadata": {},
     "outputs": [
      {
       "metadata": {},
       "output_type": "pyout",
       "prompt_number": 6,
       "text": [
        "-0.4 + 0.5im"
       ]
      }
     ],
     "prompt_number": 6
    },
    {
     "cell_type": "code",
     "collapsed": false,
     "input": [
      "println(\"\\$\")\n",
      "println(\"$pi\")"
     ],
     "language": "python",
     "metadata": {},
     "outputs": [
      {
       "output_type": "stream",
       "stream": "stdout",
       "text": [
        "$\n"
       ]
      },
      {
       "output_type": "stream",
       "stream": "stdout",
       "text": [
        "\u03c0 = 3.1415926535897...\n"
       ]
      }
     ],
     "prompt_number": 7
    },
    {
     "cell_type": "code",
     "collapsed": false,
     "input": [
      "vecfile = open(\"/tmp/myvector.txt\",\"w\")\n",
      "\n",
      "function writenumbers(fhandle:: IOStream)\n",
      "    for i in [1:0.5:5]\n",
      "        print(fhandle,i)\n",
      "        if i == 5\n",
      "            continue\n",
      "        end\n",
      "        print(fhandle,\",\")\n",
      "    end\n",
      "end\n",
      "\n",
      "writenumbers(vecfile)\n",
      "close(vecfile)"
     ],
     "language": "python",
     "metadata": {},
     "outputs": [],
     "prompt_number": 14
    },
    {
     "cell_type": "code",
     "collapsed": false,
     "input": [
      "f_in = open(\"/tmp/myvector.txt\",\"r\")\n",
      "myvec2 = readcsv( f_in )\n",
      "close(f_in)\n",
      "myvec2"
     ],
     "language": "python",
     "metadata": {},
     "outputs": [
      {
       "metadata": {},
       "output_type": "pyout",
       "prompt_number": 19,
       "text": [
        "1x8 Array{Float64,2}:\n",
        " 1.0  1.5  2.0  2.5  3.0  3.5  4.0  4.5"
       ]
      }
     ],
     "prompt_number": 19
    },
    {
     "cell_type": "code",
     "collapsed": false,
     "input": [
      "x = 1\n",
      "typeof(x)"
     ],
     "language": "python",
     "metadata": {},
     "outputs": [
      {
       "metadata": {},
       "output_type": "pyout",
       "prompt_number": 22,
       "text": [
        "Int32"
       ]
      }
     ],
     "prompt_number": 22
    },
    {
     "cell_type": "code",
     "collapsed": false,
     "input": [
      "typemax(Int32)"
     ],
     "language": "python",
     "metadata": {},
     "outputs": [
      {
       "metadata": {},
       "output_type": "pyout",
       "prompt_number": 24,
       "text": [
        "2147483647"
       ]
      }
     ],
     "prompt_number": 24
    },
    {
     "cell_type": "code",
     "collapsed": false,
     "input": [
      "typeof(0.5 + 0.5im)"
     ],
     "language": "python",
     "metadata": {},
     "outputs": [
      {
       "metadata": {},
       "output_type": "pyout",
       "prompt_number": 25,
       "text": [
        "Complex{Float64} (constructor with 1 method)"
       ]
      }
     ],
     "prompt_number": 25
    },
    {
     "cell_type": "code",
     "collapsed": false,
     "input": [
      "a = ones(5)"
     ],
     "language": "python",
     "metadata": {},
     "outputs": [
      {
       "metadata": {},
       "output_type": "pyout",
       "prompt_number": 26,
       "text": [
        "5-element Array{Float64,1}:\n",
        " 1.0\n",
        " 1.0\n",
        " 1.0\n",
        " 1.0\n",
        " 1.0"
       ]
      }
     ],
     "prompt_number": 26
    },
    {
     "cell_type": "code",
     "collapsed": false,
     "input": [
      "b = [ 5:9 ]"
     ],
     "language": "python",
     "metadata": {},
     "outputs": [
      {
       "metadata": {},
       "output_type": "pyout",
       "prompt_number": 27,
       "text": [
        "5-element Array{Int32,1}:\n",
        " 5\n",
        " 6\n",
        " 7\n",
        " 8\n",
        " 9"
       ]
      }
     ],
     "prompt_number": 27
    },
    {
     "cell_type": "code",
     "collapsed": false,
     "input": [
      "c = eye(4)"
     ],
     "language": "python",
     "metadata": {},
     "outputs": [
      {
       "metadata": {},
       "output_type": "pyout",
       "prompt_number": 28,
       "text": [
        "4x4 Array{Float64,2}:\n",
        " 1.0  0.0  0.0  0.0\n",
        " 0.0  1.0  0.0  0.0\n",
        " 0.0  0.0  1.0  0.0\n",
        " 0.0  0.0  0.0  1.0"
       ]
      }
     ],
     "prompt_number": 28
    },
    {
     "cell_type": "code",
     "collapsed": false,
     "input": [
      "type LP\n",
      "    c\n",
      "    A::Matrix{Float64}\n",
      "    b::Vector{Float64}\n",
      "end\n",
      "\n",
      "randlp(n,m) = LP(rand(n),rand(n,m),rand(m))\n",
      "\n",
      "mylp = randlp(10,5)\n",
      "\n",
      "println(mylp.c)"
     ],
     "language": "python",
     "metadata": {},
     "outputs": [
      {
       "ename": "LoadError",
       "evalue": "invalid redefinition of constant LP\nat In[32]:5",
       "output_type": "pyerr",
       "traceback": [
        "invalid redefinition of constant LP\nat In[32]:5",
        ""
       ]
      }
     ],
     "prompt_number": 32
    },
    {
     "cell_type": "code",
     "collapsed": false,
     "input": [
      "type LP2{T}\n",
      "    c::Vector{T}\n",
      "    A::Matrix{T}\n",
      "    b::Vector{T}\n",
      "end"
     ],
     "language": "python",
     "metadata": {},
     "outputs": [],
     "prompt_number": 33
    },
    {
     "cell_type": "code",
     "collapsed": false,
     "input": [
      "lp = LP2{Float64}(mylp.c,mylp.A,mylp.b)"
     ],
     "language": "python",
     "metadata": {},
     "outputs": [
      {
       "metadata": {},
       "output_type": "pyout",
       "prompt_number": 34,
       "text": [
        "LP2{Float64}([0.6899979838382697,0.04803000056113338,0.1866660605642163,0.9934055557999484,0.7230417767666117,0.19475721640191113,0.2765717231857501,0.781747993645338,0.17529101391274549,0.02112467600803325],10x5 Array{Float64,2}:\n",
        " 0.872482   0.992126  0.78403   0.73769    0.982827 \n",
        " 0.767471   0.605397  0.801655  0.442022   0.85661  \n",
        " 0.296449   0.684569  0.328762  0.70739    0.0940001\n",
        " 0.0550813  0.86139   0.88111   0.0911149  0.6752   \n",
        " 0.151874   0.395428  0.426173  0.265834   0.60785  \n",
        " 0.65547    0.3514    0.146202  0.496531   0.203844 \n",
        " 0.146872   0.615611  0.563954  0.736224   0.727617 \n",
        " 0.723096   0.478765  0.906005  0.274775   0.493849 \n",
        " 0.265806   0.419576  0.457276  0.484987   0.751555 \n",
        " 0.700347   0.854361  0.909673  0.7411     0.30515  ,[0.7055796360626876,0.9291920686001442,0.9932445088387796,0.8632210811263354,0.7603653718042243])"
       ]
      }
     ],
     "prompt_number": 34
    },
    {
     "cell_type": "code",
     "collapsed": false,
     "input": [
      "super(Float64)"
     ],
     "language": "python",
     "metadata": {},
     "outputs": [
      {
       "metadata": {},
       "output_type": "pyout",
       "prompt_number": 35,
       "text": [
        "FloatingPoint"
       ]
      }
     ],
     "prompt_number": 35
    },
    {
     "cell_type": "code",
     "collapsed": false,
     "input": [
      "super(FloatingPoint)"
     ],
     "language": "python",
     "metadata": {},
     "outputs": [
      {
       "metadata": {},
       "output_type": "pyout",
       "prompt_number": 36,
       "text": [
        "Real"
       ]
      }
     ],
     "prompt_number": 36
    },
    {
     "cell_type": "code",
     "collapsed": false,
     "input": [
      "super(Real)"
     ],
     "language": "python",
     "metadata": {},
     "outputs": [
      {
       "metadata": {},
       "output_type": "pyout",
       "prompt_number": 37,
       "text": [
        "Number"
       ]
      }
     ],
     "prompt_number": 37
    },
    {
     "cell_type": "code",
     "collapsed": false,
     "input": [
      "super(Number)"
     ],
     "language": "python",
     "metadata": {},
     "outputs": [
      {
       "metadata": {},
       "output_type": "pyout",
       "prompt_number": 38,
       "text": [
        "Any"
       ]
      }
     ],
     "prompt_number": 38
    },
    {
     "cell_type": "code",
     "collapsed": false,
     "input": [
      "super(Any)"
     ],
     "language": "python",
     "metadata": {},
     "outputs": [
      {
       "metadata": {},
       "output_type": "pyout",
       "prompt_number": 39,
       "text": [
        "Any"
       ]
      }
     ],
     "prompt_number": 39
    },
    {
     "cell_type": "code",
     "collapsed": false,
     "input": [
      "function type_hierarchy(t :: Type)\n",
      "    tmp_type = t\n",
      "    type_list = [t]\n",
      "    while super(tmp_type) != tmp_type\n",
      "        tmp_type = super(tmp_type)\n",
      "        append!(type_list,[tmp_type])\n",
      "    end\n",
      "    return type_list\n",
      "end\n",
      "\n",
      "type_hierarchy(Int32)"
     ],
     "language": "python",
     "metadata": {},
     "outputs": [
      {
       "metadata": {},
       "output_type": "pyout",
       "prompt_number": 47,
       "text": [
        "6-element Array{DataType,1}:\n",
        " Int32  \n",
        " Signed \n",
        " Integer\n",
        " Real   \n",
        " Number \n",
        " Any    "
       ]
      }
     ],
     "prompt_number": 47
    },
    {
     "cell_type": "code",
     "collapsed": false,
     "input": [
      "function vec_norm(ar :: Array{Float64, 1})\n",
      "    y = 0.0\n",
      "    for i in 1:length(ar)\n",
      "        y += ar[i]*ar[i]\n",
      "    end\n",
      "    return sqrt(y)\n",
      "end\n",
      "\n",
      "function vec_norm(ar :: Array{Complex{Float64},1})\n",
      "    y = 0.0\n",
      "    for i in 1:length(ar)\n",
      "        y += norm(ar[i])^2\n",
      "    end\n",
      "    return sqrt(y)\n",
      "end"
     ],
     "language": "python",
     "metadata": {},
     "outputs": [
      {
       "metadata": {},
       "output_type": "pyout",
       "prompt_number": 78,
       "text": [
        "vec_norm (generic function with 2 methods)"
       ]
      }
     ],
     "prompt_number": 78
    },
    {
     "cell_type": "code",
     "collapsed": false,
     "input": [
      "vec_norm([1.0 + 0.5im, 1.0, 1.0])"
     ],
     "language": "python",
     "metadata": {},
     "outputs": [
      {
       "metadata": {},
       "output_type": "pyout",
       "prompt_number": 80,
       "text": [
        "1.8027756377319946"
       ]
      }
     ],
     "prompt_number": 80
    },
    {
     "cell_type": "code",
     "collapsed": false,
     "input": [],
     "language": "python",
     "metadata": {},
     "outputs": [
      {
       "metadata": {},
       "output_type": "pyout",
       "prompt_number": 77,
       "text": [
        "0.7071067811865476"
       ]
      }
     ],
     "prompt_number": 77
    },
    {
     "cell_type": "code",
     "collapsed": false,
     "input": [
      "path = ccall( (:getenv,\"libc\"), Ptr{Uint8}, (Ptr{Uint8},), \"PATH\")"
     ],
     "language": "python",
     "metadata": {},
     "outputs": [
      {
       "metadata": {},
       "output_type": "pyout",
       "prompt_number": 81,
       "text": [
        "Ptr{Uint8} @0xbf97f43c"
       ]
      }
     ],
     "prompt_number": 81
    },
    {
     "cell_type": "code",
     "collapsed": false,
     "input": [
      "bytestring(path)"
     ],
     "language": "python",
     "metadata": {},
     "outputs": [
      {
       "metadata": {},
       "output_type": "pyout",
       "prompt_number": 82,
       "text": [
        "\"/home/chris/dev/elixir-play/elixir/bin:/usr/local/heroku/bin:/home/chris/.opam/system/bin:/home/chris/.cabal/bin:/home/chris/bin:/usr/lib/postgresql/9.3/bin:/usr/local/sbin:/usr/local/bin:/usr/sbin:/usr/bin:/sbin:/bin:/usr/games:/usr/local/games\""
       ]
      }
     ],
     "prompt_number": 82
    },
    {
     "cell_type": "code",
     "collapsed": false,
     "input": [
      "using PyPlot\n",
      "x = 0:0.01:2pi\n",
      "plot(cos(x),sin(x))"
     ],
     "language": "python",
     "metadata": {},
     "outputs": [
      {
       "metadata": {},
       "output_type": "display_data",
       "png": "[encoded data removed]",
       "text": [
        "Figure(PyObject <matplotlib.figure.Figure object at 0xb5889e2c>)"
       ]
      },
      {
       "metadata": {},
       "output_type": "pyout",
       "prompt_number": 92,
       "text": [
        "1-element Array{Any,1}:\n",
        " PyObject <matplotlib.lines.Line2D object at 0xafb0d44c>"
       ]
      }
     ],
     "prompt_number": 92
    },
    {
     "cell_type": "code",
     "collapsed": false,
     "input": [
      "function plus(x::Float64, y::Float64)\n",
      "    return x+y\n",
      "end"
     ],
     "language": "python",
     "metadata": {},
     "outputs": [
      {
       "metadata": {},
       "output_type": "pyout",
       "prompt_number": 88,
       "text": [
        "plus (generic function with 1 method)"
       ]
      }
     ],
     "prompt_number": 88
    },
    {
     "cell_type": "code",
     "collapsed": false,
     "input": [
      "code_typed(plus, (Float64,Float64))"
     ],
     "language": "python",
     "metadata": {},
     "outputs": [
      {
       "metadata": {},
       "output_type": "pyout",
       "prompt_number": 89,
       "text": [
        "1-element Array{Any,1}:\n",
        " :($(Expr(:lambda, {:x,:y}, {{},{{:x,Float64,0},{:y,Float64,0}},{}}, quote  # In[88], line 2:\n",
        "        return top(box)(Float64,top(add_float)(x::Float64,y::Float64))::Float64\n",
        "    end)))"
       ]
      }
     ],
     "prompt_number": 89
    },
    {
     "cell_type": "code",
     "collapsed": false,
     "input": [
      "code_llvm(plus, (Float64,Float64))"
     ],
     "language": "python",
     "metadata": {},
     "outputs": [
      {
       "output_type": "stream",
       "stream": "stdout",
       "text": [
        "\n",
        "define double @julia_plus(double, double) {\n",
        "top:\n",
        "  %2 = fadd double %0, %1, !dbg !14630\n",
        "  ret double %2, !dbg !14630\n",
        "}\n"
       ]
      }
     ],
     "prompt_number": 90
    },
    {
     "cell_type": "code",
     "collapsed": false,
     "input": [
      "function conf_self_map(zero_point::Complex{Float64})\n",
      "    a = zero_point\n",
      "    ca = zero_point'\n",
      "    function f(z::Complex{Float64})\n",
      "        return (z - a)/(1 - ca*z)\n",
      "    end\n",
      "    return f\n",
      "end\n",
      "\n",
      "function conf(zero_point::Complex{Float64},z::Complex{Float64})\n",
      "    return (z-zero_point)/(1-zero_point'*z)\n",
      "end\n",
      "\n",
      "function inlined(z::Complex{Float64})\n",
      "    return (z - (0.5 + 0.5im))/(1-(0.5 -0.5im)*z)\n",
      "end\n",
      "\n",
      "g = conf_self_map(0.5 + 0.5im)\n",
      "\n",
      "function profile(f)\n",
      "    for i in 1:1e8\n",
      "        f(0.5 + 0.5im)\n",
      "    end\n",
      "end\n",
      "\n",
      "@time profile(g)\n",
      "\n",
      "@time profile(inlined)"
     ],
     "language": "python",
     "metadata": {},
     "outputs": [
      {
       "output_type": "stream",
       "stream": "stdout",
       "text": [
        "elapsed time: "
       ]
      },
      {
       "output_type": "stream",
       "stream": "stdout",
       "text": [
        "13.410034921 seconds (4000075172 bytes allocated)\n",
        "elapsed time: "
       ]
      },
      {
       "output_type": "stream",
       "stream": "stdout",
       "text": [
        "12.884916357 seconds (4000041568 bytes allocated)\n"
       ]
      },
      {
       "output_type": "stream",
       "stream": "stdout",
       "text": [
        "elapsed time: "
       ]
      },
      {
       "output_type": "stream",
       "stream": "stdout",
       "text": [
        "13.055430214 seconds (4000075172 bytes allocated)\n",
        "elapsed time: "
       ]
      },
      {
       "output_type": "stream",
       "stream": "stdout",
       "text": [
        "12.929603972 seconds (4000041568 bytes allocated)\n"
       ]
      }
     ],
     "prompt_number": 123
    },
    {
     "cell_type": "code",
     "collapsed": false,
     "input": [
      "function f(n::Int32)\n",
      "    s = 0.0 :: Float64\n",
      "    for i in 1:n\n",
      "        s += i/2\n",
      "    end\n",
      "    s\n",
      "end\n",
      "\n",
      "@time f(10^6)"
     ],
     "language": "python",
     "metadata": {},
     "outputs": [
      {
       "output_type": "stream",
       "stream": "stdout",
       "text": [
        "elapsed time: 0."
       ]
      },
      {
       "output_type": "stream",
       "stream": "stdout",
       "text": [
        "009034468 seconds (47960 bytes allocated)\n"
       ]
      },
      {
       "metadata": {},
       "output_type": "pyout",
       "prompt_number": 134,
       "text": [
        "2.5000025e11"
       ]
      }
     ],
     "prompt_number": 134
    },
    {
     "cell_type": "code",
     "collapsed": false,
     "input": [
      "anorm(x::Vector) = sqrt(real(dot(x,x)))\n",
      "anorm(A::Matrix) = maximum(svd(A)[2])\n",
      "\n",
      "@time anorm(randn(100,100))\n",
      "\n",
      "@time anorm(randn(10000,1))"
     ],
     "language": "python",
     "metadata": {},
     "outputs": [
      {
       "output_type": "stream",
       "stream": "stdout",
       "text": [
        "elapsed time: 0."
       ]
      },
      {
       "output_type": "stream",
       "stream": "stdout",
       "text": [
        "017838475 seconds (658412 bytes allocated)\n",
        "elapsed time: 0.000665486 seconds (241272 bytes allocated)\n"
       ]
      },
      {
       "metadata": {},
       "output_type": "pyout",
       "prompt_number": 142,
       "text": [
        "100.96335165707164"
       ]
      }
     ],
     "prompt_number": 142
    },
    {
     "cell_type": "code",
     "collapsed": false,
     "input": [
      "real(0.5 + 0.2im)"
     ],
     "language": "python",
     "metadata": {},
     "outputs": [
      {
       "metadata": {},
       "output_type": "pyout",
       "prompt_number": 143,
       "text": [
        "0.5"
       ]
      }
     ],
     "prompt_number": 143
    },
    {
     "cell_type": "code",
     "collapsed": false,
     "input": [
      "using PyPlot\n",
      "plot(cos(0:0.01:2pi\n",
      "scatter(0.1,0.1) "
     ],
     "language": "python",
     "metadata": {},
     "outputs": [
      {
       "metadata": {},
       "output_type": "display_data",
       "png": "[encoded data removed]",
       "text": [
        "Figure(PyObject <matplotlib.figure.Figure object at 0xb58609ec>)"
       ]
      },
      {
       "metadata": {},
       "output_type": "pyout",
       "prompt_number": 144,
       "text": [
        "PyObject <matplotlib.collections.PathCollection object at 0xafad9bcc>"
       ]
      }
     ],
     "prompt_number": 144
    },
    {
     "cell_type": "code",
     "collapsed": false,
     "input": [],
     "language": "python",
     "metadata": {},
     "outputs": []
    }
   ],
   "metadata": {}
  }
 ]
}