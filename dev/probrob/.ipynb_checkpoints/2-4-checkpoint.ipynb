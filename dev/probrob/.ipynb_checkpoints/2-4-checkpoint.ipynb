{
 "metadata": {
  "name": "",
  "signature": "sha256:d5277a4874e4cb4b2a36e0d4b41eb4a2212f6eb71687b43c0afe4ada74e3aea4"
 },
 "nbformat": 3,
 "nbformat_minor": 0,
 "worksheets": [
  {
   "cells": [
    {
     "cell_type": "code",
     "collapsed": false,
     "input": [],
     "language": "python",
     "metadata": {},
     "outputs": []
    }
   ],
   "metadata": {}
  }
 ]
}