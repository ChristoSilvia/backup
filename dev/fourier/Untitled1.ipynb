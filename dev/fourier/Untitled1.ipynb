{
 "metadata": {
  "name": "",
  "signature": "sha256:16ee4aaa387fc9aa30c58c56e36da8f7643c68926cf5b4b8f694595ef89c0dd2"
 },
 "nbformat": 3,
 "nbformat_minor": 0,
 "worksheets": [
  {
   "cells": [
    {
     "cell_type": "code",
     "collapsed": false,
     "input": [
      "%matplotlib inline\n",
      "import numpy as np\n",
      "import scipy as sp\n",
      "import scipy.linalg as la\n",
      "import matplotlib.pyplot as plt"
     ],
     "language": "python",
     "metadata": {},
     "outputs": [],
     "prompt_number": 1
    },
    {
     "cell_type": "markdown",
     "metadata": {},
     "source": [
      "Suppose we have the differential equation:\n",
      "\n",
      "$\n",
      "y'(t) =\n",
      "\\left[\n",
      "\\begin{array}{cc}\n",
      "1 & -20 \\\\\n",
      "3 & 4 \\\\\n",
      "\\end{array}\n",
      "\\right]\n",
      "y(t),\n",
      "y(0) =\n",
      "\\left[\n",
      "\\begin{array}{c}\n",
      "1 \\\\\n",
      "0 \\\\\n",
      "\\end{array}\n",
      "\\right]\n",
      "$"
     ]
    },
    {
     "cell_type": "code",
     "collapsed": false,
     "input": [
      "import scipy.integrate as sint\n",
      "\n",
      "A = np.array([[1, -20],\n",
      "              [3,4]], dtype=np.double)\n",
      "\n",
      "def yprime(y,t):\n",
      "    return sp.dot(A,y)\n",
      "\n",
      "t = np.linspace(0,1,51)\n",
      "yzero = np.array([1,0])\n",
      "\n",
      "# solve using ideint\n",
      "y = sint.odeint(yprime,yzero,t)\n",
      "plt.plot(y[:,0], y[:,1])\n",
      "\n",
      "plt.xlim([-4,9])\n",
      "plt.ylim([-3,5])\n",
      "\n",
      "# Solve for 10 t vals usin the matrix exponential\n",
      "tvals = np.linspace(0,0.9,11) + 0.1*np.random.randn(11)\n",
      "\n",
      "for tval in tvals:\n",
      "    yval = sp.dot(la.expm(A*tval), yzero)\n",
      "    plt.plot(yval[0], yval[1], 'rs')\n"
     ],
     "language": "python",
     "metadata": {},
     "outputs": [
      {
       "metadata": {},
       "output_type": "display_data",
       "png": "[encoded data removed]",
       "text": [
        "<matplotlib.figure.Figure at 0xafeb004c>"
       ]
      }
     ],
     "prompt_number": 11
    },
    {
     "cell_type": "code",
     "collapsed": false,
     "input": [
      "import networkx as nx\n",
      "\n",
      "Adj = np.array([[0,1,1,0,0,0],\n",
      "                [1,0,1,1,1,0],\n",
      "                [1,1,0,0,0,0],\n",
      "                [0,1,0,0,0,1],\n",
      "                [0,1,0,0,0,0],\n",
      "                [0,0,0,1,0,0]])\n",
      "\n",
      "G = nx.from_numpy_matrix(Adj)\n",
      "nx.draw(G, node_color='y', node_size=1000,with_labels=True)"
     ],
     "language": "python",
     "metadata": {},
     "outputs": [
      {
       "metadata": {},
       "output_type": "display_data",
       "png": "[encoded data removed]",
       "text": [
        "<matplotlib.figure.Figure at 0xafcf14ac>"
       ]
      }
     ],
     "prompt_number": 21
    },
    {
     "cell_type": "code",
     "collapsed": false,
     "input": [
      "adjf = np.array(Adj,dtype=np.double)\n",
      "exadjf = la.expm(adjf)\n",
      "centralities = np.diag(la.expm(np.array(Adj, dtype=np.double)))\n",
      "nodeorder = np.argsort(centralities)[::-1]\n",
      "\n",
      "print np.array([nodeorder, centralities[nodeorder]])"
     ],
     "language": "python",
     "metadata": {},
     "outputs": [
      {
       "output_type": "stream",
       "stream": "stdout",
       "text": [
        "[[ 1.          0.          2.          3.          4.          5.        ]\n",
        " [ 4.44723536  2.86427609  2.86427609  2.36018456  1.71615913  1.59432922]]\n"
       ]
      }
     ],
     "prompt_number": 26
    },
    {
     "cell_type": "code",
     "collapsed": false,
     "input": [
      "[np.linalg.matrix_power(Adj,i) for i in range(0,10)]"
     ],
     "language": "python",
     "metadata": {},
     "outputs": [
      {
       "metadata": {},
       "output_type": "pyout",
       "prompt_number": 34,
       "text": [
        "[array([[1, 0, 0, 0, 0, 0],\n",
        "        [0, 1, 0, 0, 0, 0],\n",
        "        [0, 0, 1, 0, 0, 0],\n",
        "        [0, 0, 0, 1, 0, 0],\n",
        "        [0, 0, 0, 0, 1, 0],\n",
        "        [0, 0, 0, 0, 0, 1]]), array([[0, 1, 1, 0, 0, 0],\n",
        "        [1, 0, 1, 1, 1, 0],\n",
        "        [1, 1, 0, 0, 0, 0],\n",
        "        [0, 1, 0, 0, 0, 1],\n",
        "        [0, 1, 0, 0, 0, 0],\n",
        "        [0, 0, 0, 1, 0, 0]]), array([[2, 1, 1, 1, 1, 0],\n",
        "        [1, 4, 1, 0, 0, 1],\n",
        "        [1, 1, 2, 1, 1, 0],\n",
        "        [1, 0, 1, 2, 1, 0],\n",
        "        [1, 0, 1, 1, 1, 0],\n",
        "        [0, 1, 0, 0, 0, 1]]), array([[2, 5, 3, 1, 1, 1],\n",
        "        [5, 2, 5, 5, 4, 0],\n",
        "        [3, 5, 2, 1, 1, 1],\n",
        "        [1, 5, 1, 0, 0, 2],\n",
        "        [1, 4, 1, 0, 0, 1],\n",
        "        [1, 0, 1, 2, 1, 0]]), array([[ 8,  7,  7,  6,  5,  1],\n",
        "        [ 7, 19,  7,  2,  2,  5],\n",
        "        [ 7,  7,  8,  6,  5,  1],\n",
        "        [ 6,  2,  6,  7,  5,  0],\n",
        "        [ 5,  2,  5,  5,  4,  0],\n",
        "        [ 1,  5,  1,  0,  0,  2]]), array([[14, 26, 15,  8,  7,  6],\n",
        "        [26, 18, 26, 24, 19,  2],\n",
        "        [15, 26, 14,  8,  7,  6],\n",
        "        [ 8, 24,  8,  2,  2,  7],\n",
        "        [ 7, 19,  7,  2,  2,  5],\n",
        "        [ 6,  2,  6,  7,  5,  0]]), array([[41, 44, 40, 32, 26,  8],\n",
        "        [44, 95, 44, 20, 18, 24],\n",
        "        [40, 44, 41, 32, 26,  8],\n",
        "        [32, 20, 32, 31, 24,  2],\n",
        "        [26, 18, 26, 24, 19,  2],\n",
        "        [ 8, 24,  8,  2,  2,  7]]), array([[ 84, 139,  85,  52,  44,  32],\n",
        "        [139, 126, 139, 119,  95,  20],\n",
        "        [ 85, 139,  84,  52,  44,  32],\n",
        "        [ 52, 119,  52,  22,  20,  31],\n",
        "        [ 44,  95,  44,  20,  18,  24],\n",
        "        [ 32,  20,  32,  31,  24,   2]]), array([[224, 265, 223, 171, 139,  52],\n",
        "        [265, 492, 265, 146, 126, 119],\n",
        "        [223, 265, 224, 171, 139,  52],\n",
        "        [171, 146, 171, 150, 119,  22],\n",
        "        [139, 126, 139, 119,  95,  20],\n",
        "        [ 52, 119,  52,  22,  20,  31]]), array([[488, 757, 489, 317, 265, 171],\n",
        "        [757, 802, 757, 611, 492, 146],\n",
        "        [489, 757, 488, 317, 265, 171],\n",
        "        [317, 611, 317, 168, 146, 150],\n",
        "        [265, 492, 265, 146, 126, 119],\n",
        "        [171, 146, 171, 150, 119,  22]])]"
       ]
      }
     ],
     "prompt_number": 34
    },
    {
     "cell_type": "code",
     "collapsed": false,
     "input": [],
     "language": "python",
     "metadata": {},
     "outputs": []
    }
   ],
   "metadata": {}
  }
 ]
}