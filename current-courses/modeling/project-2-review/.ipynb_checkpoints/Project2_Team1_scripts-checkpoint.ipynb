{
 "cells": [
  {
   "cell_type": "code",
   "execution_count": 3,
   "metadata": {
    "collapsed": false,
    "scrolled": true
   },
   "outputs": [],
   "source": [
    "from __future__ import division\n",
    "import math\n",
    "\n",
    "from matplotlib import pyplot as plt\n",
    "import seaborn as sns\n",
    "import numpy as np\n",
    "\n",
    "%matplotlib inline"
   ]
  },
  {
   "cell_type": "code",
   "execution_count": 4,
   "metadata": {
    "collapsed": true
   },
   "outputs": [],
   "source": [
    "import matplotlib as mpl\n",
    "mpl.rc('savefig', dpi=300)"
   ]
  },
  {
   "cell_type": "code",
   "execution_count": 5,
   "metadata": {
    "collapsed": true,
    "scrolled": true
   },
   "outputs": [],
   "source": [
    "city_width = 16 # blocks\n",
    "city_length = 100 # blocks\n",
    "city_area = city_width * city_length # blocks^2\n",
    "drone_speed = 10 # meters / second\n",
    "cell_dist = 250 # meters\n",
    "time_between_recharging = 18000 # seconds\n",
    "charging_time = 500 # seconds\n",
    "medium_priority_freq = 1 / 900 # 1 / second\n",
    "high_priority_freq = 1 / 300 # 1 / second\n",
    "low_priority_freq = 1 / 1200 # 1 / second\n",
    "repair_probability = 0.001\n",
    "time_penalty_for_turn = 500 # seconds"
   ]
  },
  {
   "cell_type": "markdown",
   "metadata": {},
   "source": [
    "##Part 1"
   ]
  },
  {
   "cell_type": "code",
   "execution_count": 6,
   "metadata": {
    "collapsed": false,
    "scrolled": true
   },
   "outputs": [
    {
     "name": "stdout",
     "output_type": "stream",
     "text": [
      "46.0\n"
     ]
    }
   ],
   "source": [
    "n_min = lambda freq, region_area: math.ceil(freq * cell_dist * region_area * (time_between_recharging + charging_time) / (drone_speed * time_between_recharging))\n",
    "print n_min(medium_priority_freq, city_area)"
   ]
  },
  {
   "cell_type": "code",
   "execution_count": 7,
   "metadata": {
    "collapsed": true,
    "scrolled": true
   },
   "outputs": [],
   "source": [
    "step_size = 1 # seconds\n",
    "num_steps = 60 * 60 * 6 # 6 hours"
   ]
  },
  {
   "cell_type": "code",
   "execution_count": null,
   "metadata": {
    "collapsed": true,
    "scrolled": true
   },
   "outputs": [],
   "source": [
    "def simulate_surveillance(num_drones, region_area, repair_probability=0, uniform_init=True, rand_dirs=False):\n",
    "    step_length = drone_speed * step_size\n",
    "    path_length = int(math.ceil(region_area * cell_dist / step_length))\n",
    "    times_since_last_observation = np.zeros((num_steps, path_length))\n",
    "    \n",
    "    if uniform_init:\n",
    "        drone_positions = np.arange(0, path_length, path_length / num_drones, dtype=int)\n",
    "    else:\n",
    "        drone_positions = np.random.choice(range(path_length), size=num_drones, replace=True)    \n",
    "    \n",
    "    if rand_dirs:\n",
    "        drone_dirs = 2 * (np.random.random(num_drones) < 0.5) - 1\n",
    "    else:\n",
    "        drone_dirs = np.ones(num_drones)\n",
    "                \n",
    "    for t in xrange(num_steps):\n",
    "        not_in_repair = np.random.random(num_drones) >= repair_probability\n",
    "        drone_positions = (drone_positions + not_in_repair * drone_dirs) % path_length\n",
    "        times_since_last_observation[t, :] = times_since_last_observation[t-1, :] + step_size\n",
    "        times_since_last_observation[t, drone_positions[not_in_repair].astype(int)] = 0\n",
    "        \n",
    "    return times_since_last_observation"
   ]
  },
  {
   "cell_type": "code",
   "execution_count": null,
   "metadata": {
    "collapsed": false,
    "scrolled": true
   },
   "outputs": [],
   "source": [
    "times_since_last_observation = simulate_surveillance(n_min(medium_priority_freq, city_area), city_area)\n",
    "assert (times_since_last_observation < 1 / medium_priority_freq).all()\n",
    "print \"Tests passed\""
   ]
  },
  {
   "cell_type": "code",
   "execution_count": null,
   "metadata": {
    "collapsed": true
   },
   "outputs": [],
   "source": [
    "step_size = 10 # seconds"
   ]
  },
  {
   "cell_type": "markdown",
   "metadata": {},
   "source": [
    "##Part 2"
   ]
  },
  {
   "cell_type": "markdown",
   "metadata": {},
   "source": [
    "Charge time penalty for making turns"
   ]
  },
  {
   "cell_type": "code",
   "execution_count": null,
   "metadata": {
    "collapsed": false,
    "scrolled": true
   },
   "outputs": [],
   "source": [
    "assert time_between_recharging - 2 * time_penalty_for_turn * min(city_width, city_length) > 0"
   ]
  },
  {
   "cell_type": "code",
   "execution_count": null,
   "metadata": {
    "collapsed": false,
    "scrolled": true
   },
   "outputs": [],
   "source": [
    "n_min_with_charge_penalty = lambda freq, region_width, region_length, time_penalty_for_turn: math.ceil(freq * cell_dist * region_width * region_length * (time_between_recharging - 2 * time_penalty_for_turn * min(region_width, region_length) + charging_time) / (drone_speed * (time_between_recharging - 2 * time_penalty_for_turn * min(region_width, region_length))))\n",
    "print n_min_with_charge_penalty(medium_priority_freq, city_width, city_length, time_penalty_for_turn)"
   ]
  },
  {
   "cell_type": "code",
   "execution_count": null,
   "metadata": {
    "collapsed": false,
    "scrolled": true
   },
   "outputs": [],
   "source": [
    "xs = range(time_between_recharging // (2 * min(city_width, city_length)))\n",
    "ys = [n_min_with_charge_penalty(medium_priority_freq, city_width, city_length, x) for x in xs]"
   ]
  },
  {
   "cell_type": "code",
   "execution_count": null,
   "metadata": {
    "collapsed": false,
    "scrolled": false
   },
   "outputs": [],
   "source": [
    "plt.xlabel('Time penalty for turning 90 degrees (seconds)')\n",
    "plt.ylabel('Minimum number of drones')\n",
    "plt.plot(xs, ys)\n",
    "plt.savefig('part2a.pdf', dpi=300)\n",
    "plt.show()"
   ]
  },
  {
   "cell_type": "markdown",
   "metadata": {},
   "source": [
    "Consider repairs"
   ]
  },
  {
   "cell_type": "code",
   "execution_count": null,
   "metadata": {
    "collapsed": false,
    "scrolled": true
   },
   "outputs": [],
   "source": [
    "def prob_freq_constraint_broken(num_drones, repair_probability):\n",
    "    times_since_last_observation = simulate_surveillance(num_drones, city_area, repair_probability=repair_probability, uniform_init=False)\n",
    "    return np.mean(times_since_last_observation > 1 / medium_priority_freq)"
   ]
  },
  {
   "cell_type": "code",
   "execution_count": null,
   "metadata": {
    "collapsed": false
   },
   "outputs": [],
   "source": [
    "xs = np.arange(10, 1000, 10)\n",
    "repair_probabilities = [0.1, 0.5, 0.75]\n",
    "ys = [[prob_freq_constraint_broken(x, rp) for x in xs] for rp in repair_probabilities]"
   ]
  },
  {
   "cell_type": "code",
   "execution_count": null,
   "metadata": {
    "collapsed": false,
    "scrolled": false
   },
   "outputs": [],
   "source": [
    "plt.xlabel('Number of drones')\n",
    "plt.ylabel('Probability of breaking constraints')\n",
    "for rp, ys_of_rp in zip(repair_probabilities, ys):\n",
    "    plt.plot(xs, ys_of_rp, label='repair probability = %0.2f' % rp)\n",
    "plt.legend(loc='best')\n",
    "plt.savefig('part2b.pdf', dpi=300)\n",
    "plt.show()"
   ]
  },
  {
   "cell_type": "markdown",
   "metadata": {},
   "source": [
    "##Part 3"
   ]
  },
  {
   "cell_type": "code",
   "execution_count": null,
   "metadata": {
    "collapsed": true,
    "scrolled": true
   },
   "outputs": [],
   "source": [
    "low_priority_areas = [88] # blocks^2\n",
    "medium_priority_areas = [56, 80, 136, 600, 600] # blocks^2\n",
    "high_priority_areas = [16, 24] # blocks^2"
   ]
  },
  {
   "cell_type": "code",
   "execution_count": null,
   "metadata": {
    "collapsed": false,
    "scrolled": true
   },
   "outputs": [],
   "source": [
    "areas = low_priority_areas + medium_priority_areas + high_priority_areas\n",
    "priority_freqs = ([low_priority_freq] * len(low_priority_areas)) + ([medium_priority_freq] * len(medium_priority_areas)) + ([high_priority_freq] * len(high_priority_areas))"
   ]
  },
  {
   "cell_type": "code",
   "execution_count": null,
   "metadata": {
    "collapsed": false,
    "scrolled": true
   },
   "outputs": [],
   "source": [
    "print sum(n_min(freq, area) for area, freq in zip(areas, priority_freqs))"
   ]
  },
  {
   "cell_type": "code",
   "execution_count": null,
   "metadata": {
    "collapsed": false,
    "scrolled": true
   },
   "outputs": [],
   "source": [
    "assert all((simulate_surveillance(n_min(freq, area), area) < 1 / freq).all() for area, freq in zip(areas, priority_freqs))\n",
    "print \"Tests passed\""
   ]
  },
  {
   "cell_type": "markdown",
   "metadata": {},
   "source": [
    "##Part 4"
   ]
  },
  {
   "cell_type": "code",
   "execution_count": null,
   "metadata": {
    "collapsed": false,
    "scrolled": true
   },
   "outputs": [],
   "source": [
    "def prob_freq_constraint_broken(num_drones):\n",
    "    times_since_last_observation = simulate_surveillance(num_drones, city_area, uniform_init=False, rand_dirs=True)\n",
    "    return np.mean(times_since_last_observation > 1 / medium_priority_freq)"
   ]
  },
  {
   "cell_type": "code",
   "execution_count": null,
   "metadata": {
    "collapsed": false
   },
   "outputs": [],
   "source": [
    "xs = np.arange(10, 1000, 10)\n",
    "ys = [prob_freq_constraint_broken(x) for x in xs]"
   ]
  },
  {
   "cell_type": "code",
   "execution_count": null,
   "metadata": {
    "collapsed": false,
    "scrolled": false
   },
   "outputs": [],
   "source": [
    "plt.xlabel('Number of drones')\n",
    "plt.ylabel('Probability of breaking constraints')\n",
    "plt.plot(xs, ys, label='simulation')\n",
    "plt.plot(xs, xs*(1 - drone_speed / (medium_priority_freq * cell_dist * city_area))**xs, label='union bound')\n",
    "plt.ylim([0, 1])\n",
    "plt.legend(loc='best')\n",
    "plt.savefig('part4.pdf', dpi=300)\n",
    "plt.show()"
   ]
  },
  {
   "cell_type": "code",
   "execution_count": null,
   "metadata": {
    "collapsed": true
   },
   "outputs": [],
   "source": []
  }
 ],
 "metadata": {
  "kernelspec": {
   "display_name": "Python 2",
   "language": "python",
   "name": "python2"
  },
  "language_info": {
   "codemirror_mode": {
    "name": "ipython",
    "version": 2
   },
   "file_extension": ".py",
   "mimetype": "text/x-python",
   "name": "python",
   "nbconvert_exporter": "python",
   "pygments_lexer": "ipython2",
   "version": "2.7.10"
  }
 },
 "nbformat": 4,
 "nbformat_minor": 0
}
