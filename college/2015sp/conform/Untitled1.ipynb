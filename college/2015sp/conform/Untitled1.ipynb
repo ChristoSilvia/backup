{
 "cells": [
  {
   "cell_type": "code",
   "execution_count": 1,
   "metadata": {
    "collapsed": false
   },
   "outputs": [
    {
     "name": "stderr",
     "output_type": "stream",
     "text": [
      "INFO: Loading help data...\n"
     ]
    }
   ],
   "source": [
    "using PyPlot"
   ]
  },
  {
   "cell_type": "code",
   "execution_count": 9,
   "metadata": {
    "collapsed": false
   },
   "outputs": [
    {
     "data": {
      "text/plain": [
       "4-element Array{Complex{Float64},1}:\n",
       "           1.0+0.0im\n",
       "   6.12323e-17+1.0im\n",
       " -1.0+1.22465e-16im \n",
       "  -1.83697e-16-1.0im"
      ]
     },
     "execution_count": 9,
     "metadata": {},
     "output_type": "execute_result"
    }
   ],
   "source": [
    "exp( 1.0im * linspace(0,2*π,4 + 1)[1:4])"
   ]
  },
  {
   "cell_type": "code",
   "execution_count": 35,
   "metadata": {
    "collapsed": false
   },
   "outputs": [
    {
     "data": {
      "text/plain": [
       "regular_polygon_integrand (generic function with 1 method)"
      ]
     },
     "execution_count": 35,
     "metadata": {},
     "output_type": "execute_result"
    }
   ],
   "source": [
    "function regular_polygon_integrand(n)\n",
    "    prevertices = exp( 1.0im * linspace(0, 2*π, n + 1)[1:n])\n",
    "    \n",
    "    function along_angle(θ)\n",
    "        function integrand(r)\n",
    "            z = prod([(1.0 - r*exp(θ*1.0im)/prevertex )^(-2.0/n) for prevertex in prevertices])\n",
    "            z / abs(z)\n",
    "        end\n",
    "    end\n",
    "end"
   ]
  },
  {
   "cell_type": "code",
   "execution_count": 37,
   "metadata": {
    "collapsed": false
   },
   "outputs": [
    {
     "data": {
      "text/plain": [
       "0.9910074729373095 + 0.08366861289842432im"
      ]
     },
     "execution_count": 37,
     "metadata": {},
     "output_type": "execute_result"
    }
   ],
   "source": [
    "quadgk(regular_polygon_integrand(4)(2.0), 0, 1.0)[1]"
   ]
  },
  {
   "cell_type": "code",
   "execution_count": 40,
   "metadata": {
    "collapsed": false
   },
   "outputs": [
    {
     "data": {
      "text/plain": [
       "1.0 + 2.453100097673777e-18im"
      ]
     },
     "execution_count": 40,
     "metadata": {},
     "output_type": "execute_result"
    }
   ],
   "source": [
    "regular_polygon_integrand(4)(π/2.0)(0.2)"
   ]
  },
  {
   "cell_type": "code",
   "execution_count": 43,
   "metadata": {
    "collapsed": false
   },
   "outputs": [
    {
     "data": {
      "text/plain": [
       "integrand (generic function with 1 method)"
      ]
     },
     "execution_count": 43,
     "metadata": {},
     "output_type": "execute_result"
    }
   ],
   "source": [
    "function integrand(r, n, θ)\n",
    "    prevertices = exp( 1.0im * linspace(0, 2*π, n + 1)[1:n])\n",
    "    prod([(1.0 - r*exp(θ*1.0im)/prevertex ) for prevertex in prevertices])\n",
    "end"
   ]
  },
  {
   "cell_type": "code",
   "execution_count": 46,
   "metadata": {
    "collapsed": false
   },
   "outputs": [
    {
     "data": {
      "text/plain": [
       "0.9895530992175775 - 0.02337139841862737im"
      ]
     },
     "execution_count": 46,
     "metadata": {},
     "output_type": "execute_result"
    }
   ],
   "source": [
    "integrand(0.4,4,5.0)"
   ]
  },
  {
   "cell_type": "code",
   "execution_count": 160,
   "metadata": {
    "collapsed": false
   },
   "outputs": [
    {
     "data": {
      "text/plain": [
       "integrand (generic function with 1 method)"
      ]
     },
     "execution_count": 160,
     "metadata": {},
     "output_type": "execute_result"
    }
   ],
   "source": [
    "function integrand( vertex_angles, vertex_locations , θ)\n",
    "    realpart = exp( sum( log(0.5)/2.0* vertex_angles.*log(1.0 - cos(θ - vertex_locations))) )\n",
    "    anglepart = 1.0im * exp(-1.0im * (sum( vertex_angles .* (sign(θ - vertex_locations)*π/2.0 + vertex_locations - θ)) + θ))\n",
    "    realpart * anglepart\n",
    "end"
   ]
  },
  {
   "cell_type": "code",
   "execution_count": 161,
   "metadata": {
    "collapsed": false
   },
   "outputs": [
    {
     "data": {
      "text/plain": [
       "lengths (generic function with 1 method)"
      ]
     },
     "execution_count": 161,
     "metadata": {},
     "output_type": "execute_result"
    }
   ],
   "source": [
    "function lengths(vertex_angles, vertex_locations)\n",
    "    n = length(vertex_angles)\n",
    "    [ quadgk(t -> integrand( vertex_angles, vertex_locations, t), \n",
    "                            vertex_locations[i] + 1e-5, \n",
    "        vertex_locations[(i % n)+1] - 1e-5)[1]\n",
    "        for i in 1:(n-1)]\n",
    "end"
   ]
  },
  {
   "cell_type": "code",
   "execution_count": 167,
   "metadata": {
    "collapsed": false
   },
   "outputs": [
    {
     "data": {
      "text/plain": [
       "3-element Array{Any,1}:\n",
       " 1.19739\n",
       " 2.61879\n",
       " 1.19739"
      ]
     },
     "execution_count": 167,
     "metadata": {},
     "output_type": "execute_result"
    }
   ],
   "source": [
    "L = lengths( [0.5, 0.5, 0.5, 0.5], [0, 0.05*π, π, 1.05*π])\n",
    "[ abs(l) for l in L ]"
   ]
  },
  {
   "cell_type": "code",
   "execution_count": 155,
   "metadata": {
    "collapsed": false
   },
   "outputs": [
    {
     "data": {
      "text/plain": [
       "4-element Array{Any,1}:\n",
       " -1.57263-1.14258im\n",
       " -1.57263-1.14258im\n",
       " -1.57263-1.14258im\n",
       " -1.57263-1.14258im"
      ]
     },
     "execution_count": 155,
     "metadata": {},
     "output_type": "execute_result"
    }
   ],
   "source": [
    "L = lengths( [2.0/5.0, 2.0/5.0, 2.0/5.0, 2.0/5.0, 2.0/5.0], π * [0, 2.0/5.0, 4.0/5.0, 6.0/5.0, 8.0/5.0])\n",
    "#[abs(l) for l in L]"
   ]
  },
  {
   "cell_type": "code",
   "execution_count": 104,
   "metadata": {
    "collapsed": false
   },
   "outputs": [
    {
     "name": "stdout",
     "output_type": "stream",
     "text": [
      "-1.3877787807814457e-17 - 1.4316471934821366im1.4316471934821375 - 1.2611439670351388e-14im"
     ]
    }
   ],
   "source": [
    "print(quadgk(t -> integrand( [0.5, 0.5, 0.5, 0.5], [0, π/2.0, π, 1.5*π], t), 1e-6, 0.5*π - 1e-6)[1])\n",
    "print(quadgk(t -> integrand( [0.5, 0.5, 0.5, 0.5], [0, π/2.0, π, 1.5*π], t), 0.5*π + 1e-6, π-1e-6)[1])"
   ]
  },
  {
   "cell_type": "code",
   "execution_count": 75,
   "metadata": {
    "collapsed": false
   },
   "outputs": [
    {
     "data": {
      "image/png": "[encoded data removed]",
      "text/plain": [
       "Figure(PyObject <matplotlib.figure.Figure object at 0xae603d8c>)"
      ]
     },
     "metadata": {},
     "output_type": "display_data"
    },
    {
     "data": {
      "text/plain": [
       "1-element Array{Any,1}:\n",
       " PyObject <matplotlib.lines.Line2D object at 0xa9d47c0c>"
      ]
     },
     "execution_count": 75,
     "metadata": {},
     "output_type": "execute_result"
    }
   ],
   "source": [
    "T = linspace(0,π/2.0, 400)\n",
    "plot(T, [integrand( [0.5, 0.5, 0.5, 0.5], [0, π/2.0, π, 1.5*π], t) for t in T])"
   ]
  },
  {
   "cell_type": "code",
   "execution_count": 219,
   "metadata": {
    "collapsed": false
   },
   "outputs": [
    {
     "data": {
      "text/plain": [
       "f (generic function with 1 method)"
      ]
     },
     "execution_count": 219,
     "metadata": {},
     "output_type": "execute_result"
    }
   ],
   "source": [
    "function f( prevertices, poly_angles, z)\n",
    "    r, θ = abs(z), angle(z)\n",
    "    function integrand(r)\n",
    "        exp(\n",
    "          -sum(\n",
    "            poly_angles .* (log(2.0)/2.0*log(1.0-r*cos(θ - prevertices)) \n",
    "          + 1.0im*atan2(r*sin(θ-prevertices), 1.0 - r*cos(θ - prevertices) ) ))\n",
    "          + 1.0im*θ\n",
    "        )\n",
    "    end\n",
    "    quadgk(integrand, 0, r)[1]\n",
    "end"
   ]
  },
  {
   "cell_type": "code",
   "execution_count": 223,
   "metadata": {
    "collapsed": false
   },
   "outputs": [],
   "source": [
    "R = linspace(0.1, 1.0, 20)*ones(50)'; Theta = ones(20)*linspace(0,2*π, 50)';\n",
    "Z = R .* exp( 1.0im* Theta);"
   ]
  },
  {
   "cell_type": "code",
   "execution_count": 224,
   "metadata": {
    "collapsed": false
   },
   "outputs": [],
   "source": [
    "W = [f( [0, 0.5*π, π, 1.5*π], [0.5, 0.5, 0.5, 0.5], z) for z in Z];"
   ]
  },
  {
   "cell_type": "code",
   "execution_count": 225,
   "metadata": {
    "collapsed": false
   },
   "outputs": [
    {
     "data": {
      "image/png": "[encoded data removed]",
      "text/plain": [
       "Figure(PyObject <matplotlib.figure.Figure object at 0xa98ec2ac>)"
      ]
     },
     "metadata": {},
     "output_type": "display_data"
    }
   ],
   "source": [
    "scatter(real(W), imag(W)); #plot(real(Z), imag(Z));"
   ]
  },
  {
   "cell_type": "code",
   "execution_count": null,
   "metadata": {
    "collapsed": true
   },
   "outputs": [],
   "source": []
  }
 ],
 "metadata": {
  "kernelspec": {
   "display_name": "Julia 0.3.6",
   "language": "julia",
   "name": "julia 0.3"
  },
  "language_info": {
   "name": "julia",
   "version": "0.3.6"
  }
 },
 "nbformat": 4,
 "nbformat_minor": 0
}
