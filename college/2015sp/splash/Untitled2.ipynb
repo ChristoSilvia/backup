{
 "cells": [
  {
   "cell_type": "code",
   "execution_count": 34,
   "metadata": {
    "collapsed": false
   },
   "outputs": [],
   "source": [
    "using PyPlot\n",
    "using Sundials"
   ]
  },
  {
   "cell_type": "code",
   "execution_count": 45,
   "metadata": {
    "collapsed": false
   },
   "outputs": [
    {
     "name": "stderr",
     "output_type": "stream",
     "text": [
      "\n",
      "[CVODES ERROR]  CVode\n",
      "  At t = 0 and h = 3.09004e-147, the corrector convergence test failed repeatedly or with |h| = hmin.\n",
      "\n",
      "\n",
      "[CVODES ERROR]  CVode\n",
      "  At t = 0 and h = 7.86134e-74, the corrector convergence test failed repeatedly or with |h| = hmin.\n",
      "\n"
     ]
    }
   ],
   "source": [
    "T = 100.0 #Newtons\n",
    "m_initial = 1.0 #Kg\n",
    "burn_rate = 0.1 #Kg/sec\n",
    "propellant_fraction = 0.7 #1\n",
    "phi = 0.0\n",
    "g = 9.8 # m/sec^2\n",
    "\n",
    "function rocket(t, X, Xdot)\n",
    "    x = X[1]; vx = X[2]; y = X[3]; vy = X[4]; theta=X[5]; vtheta=X[6]; m=X[7];\n",
    "    thrusting = m > (1-propellant_fraction)*m_initial\n",
    "    if thrusting\n",
    "        thrust = T\n",
    "    else\n",
    "        thrust = 0.0\n",
    "    end\n",
    "    Xdot = [   vx, \n",
    "        thrust/m * cos(theta + phi),\n",
    "        vy,\n",
    "        -g + thrust/m * sin(theta + phi),\n",
    "        vtheta,\n",
    "        atan2(vy, vx) - theta,\n",
    "        thrusting ? -burn_rate : 0.0 ]\n",
    "end\n",
    "\n",
    "initial_conditions = [0.0,0.01,0.0,1.0,1.5,0.0, m_initial];\n",
    "T = [0.0:0.01:2.0]\n",
    "Results = Sundials.cvode(rocket, initial_conditions, T);"
   ]
  },
  {
   "cell_type": "code",
   "execution_count": null,
   "metadata": {
    "collapsed": true
   },
   "outputs": [],
   "source": []
  }
 ],
 "metadata": {
  "kernelspec": {
   "display_name": "Julia 0.3.6",
   "language": "julia",
   "name": "julia 0.3"
  },
  "language_info": {
   "name": "julia",
   "version": "0.3.6"
  }
 },
 "nbformat": 4,
 "nbformat_minor": 0
}
