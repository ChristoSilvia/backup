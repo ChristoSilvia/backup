{
 "cells": [
  {
   "cell_type": "code",
   "execution_count": 1,
   "metadata": {
    "collapsed": false
   },
   "outputs": [
    {
     "name": "stderr",
     "output_type": "stream",
     "text": [
      "INFO: Loading help data...\n"
     ]
    },
    {
     "ename": "LoadError",
     "evalue": "syntax: extra token \"matplotlib\" after end of expression\nwhile loading In[1], in expression starting on line 3",
     "output_type": "error",
     "traceback": [
      "syntax: extra token \"matplotlib\" after end of expression\nwhile loading In[1], in expression starting on line 3",
      ""
     ]
    }
   ],
   "source": [
    "using PyPlot\n",
    "using ODE\n",
    "%matplotlib inline"
   ]
  },
  {
   "cell_type": "code",
   "execution_count": 6,
   "metadata": {
    "collapsed": false
   },
   "outputs": [
    {
     "data": {
      "text/plain": [
       "0.01"
      ]
     },
     "execution_count": 6,
     "metadata": {},
     "output_type": "execute_result"
    }
   ],
   "source": [
    "a = 0\n",
    "b = 0.9\n",
    "dx = 0.01"
   ]
  },
  {
   "cell_type": "code",
   "execution_count": 3,
   "metadata": {
    "collapsed": false
   },
   "outputs": [
    {
     "data": {
      "text/plain": [
       "1.0"
      ]
     },
     "execution_count": 3,
     "metadata": {},
     "output_type": "execute_result"
    }
   ],
   "source": [
    "initial_condition = 1.0"
   ]
  },
  {
   "cell_type": "code",
   "execution_count": 11,
   "metadata": {
    "collapsed": false
   },
   "outputs": [
    {
     "data": {
      "text/plain": [
       "first_order (generic function with 1 method)"
      ]
     },
     "execution_count": 11,
     "metadata": {},
     "output_type": "execute_result"
    }
   ],
   "source": [
    "function first_order(t,x)\n",
    "    -x\n",
    "end"
   ]
  },
  {
   "cell_type": "code",
   "execution_count": 12,
   "metadata": {
    "collapsed": false
   },
   "outputs": [
    {
     "data": {
      "text/plain": [
       "([0.0,0.0172355,0.0802374,0.144249,0.208283,0.272318,0.336353,0.400388,0.464423,0.528458,0.592493,0.656528,0.720563,0.784598,0.848633,0.9],[1.0,0.982912,0.922897,0.865671,0.811975,0.76161,0.714368,0.670057,0.628494,0.58951,0.552943,0.518645,0.486474,0.456299,0.427996,0.406566])"
      ]
     },
     "execution_count": 12,
     "metadata": {},
     "output_type": "execute_result"
    }
   ],
   "source": [
    "Domain = [a:dx:b]\n",
    "X,Y = ode23(first_order, initial_condition, Domain)"
   ]
  },
  {
   "cell_type": "code",
   "execution_count": 13,
   "metadata": {
    "collapsed": false
   },
   "outputs": [
    {
     "data": {
      "image/png": "[encoded data removed]",
      "text/plain": [
       "Figure(PyObject <matplotlib.figure.Figure object at 0xaa03658c>)"
      ]
     },
     "metadata": {},
     "output_type": "display_data"
    },
    {
     "data": {
      "text/plain": [
       "1-element Array{Any,1}:\n",
       " PyObject <matplotlib.lines.Line2D object at 0xaa221d8c>"
      ]
     },
     "execution_count": 13,
     "metadata": {},
     "output_type": "execute_result"
    }
   ],
   "source": [
    "plot(X,Y)"
   ]
  },
  {
   "cell_type": "code",
   "execution_count": 30,
   "metadata": {
    "collapsed": false
   },
   "outputs": [
    {
     "data": {
      "text/plain": [
       "newton (generic function with 2 methods)"
      ]
     },
     "execution_count": 30,
     "metadata": {},
     "output_type": "execute_result"
    }
   ],
   "source": [
    "function newton(f, df, x::FloatingPoint, eps)\n",
    "    while abs(f(x)) > eps\n",
    "        x = x - f(x)/df(x)\n",
    "    end\n",
    "    x\n",
    "end"
   ]
  },
  {
   "cell_type": "code",
   "execution_count": 31,
   "metadata": {
    "collapsed": false
   },
   "outputs": [
    {
     "data": {
      "text/plain": [
       "1.4142135623746899"
      ]
     },
     "execution_count": 31,
     "metadata": {},
     "output_type": "execute_result"
    }
   ],
   "source": [
    "newton(x -> x.^2 - 2, x -> 2.*x, 1.0, 0.000001)"
   ]
  },
  {
   "cell_type": "code",
   "execution_count": 39,
   "metadata": {
    "collapsed": false
   },
   "outputs": [
    {
     "data": {
      "text/plain": [
       "9.8"
      ]
     },
     "execution_count": 39,
     "metadata": {},
     "output_type": "execute_result"
    }
   ],
   "source": [
    "T = 100.0 #Newtons\n",
    "m_initial = 1.0 #Kg\n",
    "burn_rate = 0.1 #Kg/sec\n",
    "propellant_fraction = 0.7 #1\n",
    "phi = 0.0\n",
    "g = 9.8 # m/sec^2"
   ]
  },
  {
   "cell_type": "code",
   "execution_count": 122,
   "metadata": {
    "collapsed": false
   },
   "outputs": [],
   "source": [
    "T = 20.0 #Newtons\n",
    "m_initial = 1.0 #Kg\n",
    "burn_rate = 0.1 #Kg/sec\n",
    "propellant_fraction = 0.7 #1\n",
    "phi = 0.0\n",
    "g = 9.8 # m/sec^2\n",
    "function rocket(t, X)\n",
    "    x = X[1]; vx = X[2]; y = X[3]; vy = X[4]; theta=X[5]; vtheta=X[6]; m=X[7];\n",
    "    thrusting = m > (1-propellant_fraction)*m_initial\n",
    "    if thrusting\n",
    "        thrust = T\n",
    "    else\n",
    "        thrust = 0.0\n",
    "    end\n",
    "    [   vx, \n",
    "        thrust/m * cos(theta + phi),\n",
    "        vy,\n",
    "        -g + thrust/m * sin(theta + phi),\n",
    "        vtheta,\n",
    "        atan2(vy, vx) - theta,\n",
    "        thrusting ? -burn_rate : 0.0 ]\n",
    "end\n",
    "initial_conditions = [0.0,0.0,0.0,0.0,1.4,0.0, m_initial];\n",
    "T, Rocket = ode23(rocket, initial_conditions, [0.0:0.01:20.0]);"
   ]
  },
  {
   "cell_type": "code",
   "execution_count": 125,
   "metadata": {
    "collapsed": false
   },
   "outputs": [
    {
     "data": {
      "text/plain": [
       "shooting (generic function with 1 method)"
      ]
     },
     "execution_count": 125,
     "metadata": {},
     "output_type": "execute_result"
    }
   ],
   "source": [
    "function shooting(angle, desired_point, tolerance)\n",
    "    err_dist = Inf\n",
    "    \n",
    "    while err_dist > tolerance\n",
    "        initial_conditions = [0.0, 0.0, 0.0, 0.0, angle, 0.0, m_initial]\n",
    "        Times = [0.0:0.01:10.0]\n",
    "        T, Rocket = ode23(rocket, initial_conditions, Times)\n",
    "        \n",
    "        closest_index = 1\n",
    "        for i in 1:length(Rocket)\n",
    "            if abs(Rocket[i][1] - desired_point[0]) < abs(Rocket[i][1] - Rocket[closest_index][1])\n",
    "                closest_index = i\n",
    "            end\n",
    "        end\n",
    "        err_dist = desired_point[2] - Rocket[closest_index][3]\n",
    "        angle = angle + 0.1*tanh(err_dist)\n",
    "    end\n",
    "    [0.0, 0.0, 0.0, 0.0, angle, 0.0, m_initial]\n",
    "end"
   ]
  },
  {
   "cell_type": "code",
   "execution_count": 126,
   "metadata": {
    "collapsed": false
   },
   "outputs": [
    {
     "ename": "LoadError",
     "evalue": "arrays could not be broadcast to a common size\nwhile loading In[126], in expression starting on line 1",
     "output_type": "error",
     "traceback": [
      "arrays could not be broadcast to a common size\nwhile loading In[126], in expression starting on line 1",
      "",
      " in broadcast_shape at broadcast.jl:40",
      " in ./ at broadcast.jl:300",
      " in ode23 at /home/chris/.julia/v0.3/ODE/src/ODE.jl:73",
      " in shooting at In[125]:7"
     ]
    }
   ],
   "source": [
    "shooting(1.4, [100,20], 0.01)"
   ]
  },
  {
   "cell_type": "code",
   "execution_count": 123,
   "metadata": {
    "collapsed": false
   },
   "outputs": [],
   "source": [
    "X = zeros(length(Rocket))\n",
    "Y = zeros(length(Rocket))\n",
    "VX = zeros(length(Rocket))\n",
    "for i in 1:length(Rocket)\n",
    "    X[i] = Rocket[i][1]\n",
    "    VX[i] = Rocket[i][2]\n",
    "    Y[i] = Rocket[i][3]\n",
    "end"
   ]
  },
  {
   "cell_type": "code",
   "execution_count": 124,
   "metadata": {
    "collapsed": false
   },
   "outputs": [
    {
     "data": {
      "image/png": "[encoded data removed]",
      "text/plain": [
       "Figure(PyObject <matplotlib.figure.Figure object at 0xa8a8a1ec>)"
      ]
     },
     "metadata": {},
     "output_type": "display_data"
    },
    {
     "data": {
      "text/plain": [
       "1-element Array{Any,1}:\n",
       " PyObject <matplotlib.lines.Line2D object at 0xa80aabac>"
      ]
     },
     "execution_count": 124,
     "metadata": {},
     "output_type": "execute_result"
    }
   ],
   "source": [
    "plot(X,Y)"
   ]
  },
  {
   "cell_type": "code",
   "execution_count": null,
   "metadata": {
    "collapsed": true
   },
   "outputs": [],
   "source": []
  }
 ],
 "metadata": {
  "kernelspec": {
   "display_name": "Julia 0.3.6",
   "language": "julia",
   "name": "julia 0.3"
  },
  "language_info": {
   "name": "julia",
   "version": "0.3.6"
  }
 },
 "nbformat": 4,
 "nbformat_minor": 0
}
