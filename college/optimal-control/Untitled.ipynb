{
 "cells": [
  {
   "cell_type": "code",
   "execution_count": 350,
   "metadata": {
    "collapsed": true
   },
   "outputs": [],
   "source": [
    "%matplotlib inline\n",
    "import numpy as np\n",
    "import matplotlib.pyplot as plt\n",
    "from scipy.integrate import odeint\n",
    "from scipy.optimize import minimize"
   ]
  },
  {
   "cell_type": "code",
   "execution_count": 351,
   "metadata": {
    "collapsed": true
   },
   "outputs": [],
   "source": [
    "m_0 = 20000 #kg\n",
    "b = 100.0 # kg/sec\n",
    "f = 300000 # N (kg m/sec^2)\n",
    "G = 6.674e-11 # N m/kg^2 ( m^2/kg sec^2)\n",
    "M = 5.972e24 # kg\n",
    "Omega = 0.0#(2.0*np.pi)/(24*60*60) # 1/sec (number of seconds in a day)\n",
    "r_earth = 6384000 # m"
   ]
  },
  {
   "cell_type": "code",
   "execution_count": 352,
   "metadata": {
    "collapsed": true
   },
   "outputs": [],
   "source": [
    "def func(x,t):\n",
    "    m = m_0 - b * t\n",
    "    \n",
    "    r = x[0]\n",
    "    theta = x[1]\n",
    "    p_r = x[2]\n",
    "    p_theta = x[3]\n",
    "    psi_r = x[4]\n",
    "    psi_theta = x[5]\n",
    "    psi_p_r = x[6]\n",
    "    psi_p_theta = x[7]\n",
    "    \n",
    "    phi = theta + np.arctan2(p_theta/(m*r) - psi_p_r, p_r/m + r*psi_p_theta)\n",
    "    #print(phi - theta)\n",
    "    \n",
    "    r_dot = p_r/m\n",
    "    theta_dot = p_theta/(m*r**2)\n",
    "    p_r_dot = -G*M*m/r**2 + p_theta**2/(m*r**3) + f*np.cos(phi - theta)\n",
    "    p_theta_dot = f*r*np.sin(phi - theta)\n",
    "    psi_r_dot = - p_theta*f/(m*r**2)*np.sin(phi - theta) + b*p_theta**2/(m**2*r**3) -\\\n",
    "        b*G*M/r**2\n",
    "    psi_theta_dot = - p_r * f / m * np.sin(phi - theta) -\\\n",
    "        p_theta/(m*r)*f*np.cos(phi - theta) -\\\n",
    "        psi_p_r*f*np.sin(phi - theta) +\\\n",
    "        psi_p_theta*f*r*np.cos(phi - theta)\n",
    "    psi_p_r_dot = f/m*np.cos(phi - theta) - b*p_r/m**2 - psi_r/m\n",
    "    psi_p_theta_dot = f/(m*r)*np.sin(phi - theta) - b*p_r/(m*r)**2 -\\\n",
    "        2*psi_p_r*p_theta/(m*r**3) - psi_theta/(m*r**2)\n",
    "        \n",
    "    x_dot = np.array([r_dot, theta_dot, p_r_dot, p_theta_dot, psi_r_dot, psi_theta_dot, psi_p_r_dot, psi_p_theta_dot])\n",
    "    return x_dot"
   ]
  },
  {
   "cell_type": "code",
   "execution_count": 353,
   "metadata": {
    "collapsed": true
   },
   "outputs": [],
   "source": [
    "r_0 = r_earth\n",
    "theta_0 = 0.0\n",
    "p_r_0 = 0.0\n",
    "p_theta_0 = m_0*r_earth**2*Omega\n",
    "\n",
    "initial_heading = 0.0 # straight up at theta=0\n",
    "initial_angular_velocity = 0.0"
   ]
  },
  {
   "cell_type": "code",
   "execution_count": 354,
   "metadata": {
    "collapsed": true
   },
   "outputs": [],
   "source": [
    "psi_r_0 = 0.0\n",
    "psi_theta_0 = 0.0\n",
    "psi_p_r_0 = r_earth*Omega\n",
    "psi_p_theta_0 = 0.25"
   ]
  },
  {
   "cell_type": "code",
   "execution_count": 355,
   "metadata": {
    "collapsed": true
   },
   "outputs": [],
   "source": [
    "def heading(psi_p_theta_0):\n",
    "    x_0[7] = psi_p_theta_0\n",
    "    x_dot_0 = func(x_0, 0.0)\n",
    "    phi_dot_0 = x_dot_0[1] + (\\\n",
    "        (p_r_0/m_0 + r_0*psi_p_theta_0)*(x_dot_0[5]/(m_0*r_0) - x_dot_0[6])\\\n",
    "        - (p_theta_0/(m_0*r_0) - psi_p_r_0)*(x_dot_0[2]/m_0 + x_dot_0[0]*psi_p_theta_0 + r_0*x_dot_0[7]))\\\n",
    "        /(p_r_0/m_0 + r_0*psi_p_theta_0)**2 + (p_theta_0/(m_0*r_0) - psi_p_r_0)**2\n",
    "    return phi_dot_0"
   ]
  },
  {
   "cell_type": "code",
   "execution_count": 356,
   "metadata": {
    "collapsed": false
   },
   "outputs": [],
   "source": [
    "minimize_object = minimize(heading, 0.6, tol=1e-10)\n",
    "phi_dot_0 = minimize_object.x\n",
    "x_0[7] = phi_dot_0"
   ]
  },
  {
   "cell_type": "code",
   "execution_count": 357,
   "metadata": {
    "collapsed": false
   },
   "outputs": [],
   "source": [
    "T = np.linspace(0,20,200)\n",
    "x_0 = np.array([r_0, theta_0, p_r_0, p_theta_0, psi_r_0, psi_theta_0, psi_p_r_0, psi_p_theta_0])\n",
    "Y = odeint(func,x_0, T)"
   ]
  },
  {
   "cell_type": "code",
   "execution_count": 358,
   "metadata": {
    "collapsed": true
   },
   "outputs": [],
   "source": [
    "orientation = Y[:,1] + np.arctan2(\\\n",
    "    Y[:,3]/((m_0-b*T)*Y[:,0]) - Y[:,6], \n",
    "    Y[:,2]/(m_0-b*T) + Y[:,0]*Y[:,7])"
   ]
  },
  {
   "cell_type": "code",
   "execution_count": 359,
   "metadata": {
    "collapsed": false
   },
   "outputs": [
    {
     "data": {
      "text/plain": [
       "[<matplotlib.lines.Line2D at 0x7fef77f39610>]"
      ]
     },
     "execution_count": 359,
     "metadata": {},
     "output_type": "execute_result"
    },
    {
     "data": {
      "image/png": "[encoded data removed]",
      "text/plain": [
       "<matplotlib.figure.Figure at 0x7fef7807eb90>"
      ]
     },
     "metadata": {},
     "output_type": "display_data"
    }
   ],
   "source": [
    "plt.plot(T, orientation)"
   ]
  },
  {
   "cell_type": "code",
   "execution_count": 360,
   "metadata": {
    "collapsed": false
   },
   "outputs": [
    {
     "data": {
      "text/plain": [
       "[<matplotlib.lines.Line2D at 0x7fef77ed2cd0>]"
      ]
     },
     "execution_count": 360,
     "metadata": {},
     "output_type": "execute_result"
    },
    {
     "data": {
      "image/png": "[encoded data removed]",
      "text/plain": [
       "<matplotlib.figure.Figure at 0x7fef77fdc9d0>"
      ]
     },
     "metadata": {},
     "output_type": "display_data"
    }
   ],
   "source": [
    "plt.plot(T,Y[:,3])"
   ]
  },
  {
   "cell_type": "code",
   "execution_count": 361,
   "metadata": {
    "collapsed": false
   },
   "outputs": [
    {
     "data": {
      "text/plain": [
       "[<matplotlib.lines.Line2D at 0x7fef77e1f050>]"
      ]
     },
     "execution_count": 361,
     "metadata": {},
     "output_type": "execute_result"
    },
    {
     "data": {
      "image/png": "[encoded data removed]",
      "text/plain": [
       "<matplotlib.figure.Figure at 0x7fef7803e250>"
      ]
     },
     "metadata": {},
     "output_type": "display_data"
    }
   ],
   "source": [
    "#plt.plot(r_earth*np.cos(np.linspace(0,2*np.pi,2000)), r_earth*np.sin(np.linspace(0,2*np.pi,2000)))\n",
    "plt.plot(Y[:,0]*np.cos(Y[:,1]), Y[:,0]*np.sin(Y[:,1]))\n",
    "#plt.axis([r_earth-10.0, r_earth+10.0, -10, 1000]);"
   ]
  },
  {
   "cell_type": "code",
   "execution_count": null,
   "metadata": {
    "collapsed": true
   },
   "outputs": [],
   "source": []
  }
 ],
 "metadata": {
  "kernelspec": {
   "display_name": "Python 2",
   "language": "python",
   "name": "python2"
  },
  "language_info": {
   "codemirror_mode": {
    "name": "ipython",
    "version": 2
   },
   "file_extension": ".py",
   "mimetype": "text/x-python",
   "name": "python",
   "nbconvert_exporter": "python",
   "pygments_lexer": "ipython2",
   "version": "2.7.10"
  }
 },
 "nbformat": 4,
 "nbformat_minor": 0
}
