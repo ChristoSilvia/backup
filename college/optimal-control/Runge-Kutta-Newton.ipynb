{
 "cells": [
  {
   "cell_type": "code",
   "execution_count": 46,
   "metadata": {
    "collapsed": false
   },
   "outputs": [],
   "source": [
    "using PyPlot"
   ]
  },
  {
   "cell_type": "code",
   "execution_count": 47,
   "metadata": {
    "collapsed": false
   },
   "outputs": [
    {
     "data": {
      "text/plain": [
       "rk3 (generic function with 1 method)"
      ]
     },
     "execution_count": 47,
     "metadata": {},
     "output_type": "execute_result"
    }
   ],
   "source": [
    "# from http://www.mymathlib.com/diffeq/runge-kutta/runge_kutta_v2_3.html\n",
    "function rk3(func, x0, dt, n)\n",
    "    X = Array(typeof(x0), n)\n",
    "    T = Array(typeof(dt), n)\n",
    "    X[1] = x0\n",
    "    T[1] = 0.0\n",
    "    for i = 2:n\n",
    "        T[i] = T[i-1] + dt\n",
    "        k1 = func(X[i-1], T[i-1])\n",
    "        k2 = func(X[i-1] + dt/3.0*k1, T[i-1] + dt/3.0)\n",
    "        k3 = func(X[i-1] + 2*dt/3.0*k2, T[i-1] + 2.0*dt/3.0)\n",
    "        X[i] = X[i-1] + 0.25*dt*(k1 + 3*k3)\n",
    "    end\n",
    "    return T, X\n",
    "end"
   ]
  },
  {
   "cell_type": "code",
   "execution_count": 48,
   "metadata": {
    "collapsed": false
   },
   "outputs": [
    {
     "data": {
      "text/plain": [
       "func (generic function with 1 method)"
      ]
     },
     "execution_count": 48,
     "metadata": {},
     "output_type": "execute_result"
    }
   ],
   "source": [
    "function func(x,t)\n",
    "    return [x[2], -x[1]]\n",
    "end"
   ]
  },
  {
   "cell_type": "code",
   "execution_count": 49,
   "metadata": {
    "collapsed": false
   },
   "outputs": [
    {
     "data": {
      "text/plain": [
       "rk3_other_way (generic function with 1 method)"
      ]
     },
     "execution_count": 49,
     "metadata": {},
     "output_type": "execute_result"
    }
   ],
   "source": [
    "function rk3_other_way(func, x0, dt, n)\n",
    "    X_2 = Array(Float64, (length(x0), n))\n",
    "    X_3 = Array(Float64, (length(x0), n))\n",
    "    T = linspace(0, (n-1)*dt, n)\n",
    "    X_2[:,1] = x0\n",
    "    X_3[:,1] = x0\n",
    "    for i = 2:n\n",
    "        k1 = func(X_2[:,i-1], T[i-1])\n",
    "        k2 = func(X_2[:,i-1] + 0.5*dt*k1,T[i-1] + 0.5*dt)\n",
    "        k3 = func(X_2[:,i-1] + 0.75*dt*k2, T[i-1] + 0.75*dt)\n",
    "        k4 = func(X_2[:,i-1] + dt*(2*k1 + 3*k2 + 4*k3)/9.0,T[i])\n",
    "        X_3[:,i] = X_2[:,i-1] + dt*(2*k1 + 3*k2 + 4*k3)/9.0\n",
    "        X_2[:,i] = X_2[:,i-1] + dt*(7*k1 + 6*k2 + 8*k3 + 3*k4)/24.0\n",
    "    end\n",
    "    return T, X_2, X_3\n",
    "end"
   ]
  },
  {
   "cell_type": "code",
   "execution_count": 50,
   "metadata": {
    "collapsed": false
   },
   "outputs": [
    {
     "ename": "LoadError",
     "evalue": "syntax: incomplete: \"function\" at In[50]:1 requires end\nwhile loading In[50], in expression starting on line 1",
     "output_type": "error",
     "traceback": [
      "syntax: incomplete: \"function\" at In[50]:1 requires end\nwhile loading In[50], in expression starting on line 1",
      ""
     ]
    }
   ],
   "source": [
    "function rk3_other_way(func, x0, starting_stepsize, ending)\n",
    "    X = Array(Float64, (length(x0), 1))\n",
    "    T = [0.0]\n",
    "    X[:,1] = x0\n",
    "    dt = starting_stepsize\n",
    "    while T[end] < ending_time\n",
    "        while true\n",
    "            k1 = func(X_2[:,i-1], T[end])\n",
    "            k2 = func(X_2[:,i-1] + 0.5*dt*k1,T[end] + 0.5*dt)\n",
    "            k3 = func(X_2[:,i-1] + 0.75*dt*k2, T[end] + 0.75*dt)\n",
    "            k4 = func(X_2[:,i-1] + dt*(2*k1 + 3*k2 + 4*k3)/9.0,T[end] + dt)\n",
    "            dx_3 = dt*(2*k1 + 3*k2 + 4*k3)/9.0\n",
    "            dx_2 = dt*(7*k1 + 6*k2 + 8*k3 + 3*k4)/24.0\n",
    "            \n",
    "            if norm(dx_3 - dx_2) > tol\n",
    "                if dt > min_step_size\n",
    "                    dt *= 0.5\n",
    "                else\n",
    "                    break\n",
    "                end\n",
    "            else\n",
    "                break\n",
    "            end\n",
    "        end\n",
    "        \n",
    "        push!(T, T[end] + dt)\n",
    "        push!(X)\n",
    "        \n",
    "    for i = 2:n\n",
    "        k1 = func(X_2[:,i-1], T[i-1])\n",
    "        k2 = func(X_2[:,i-1] + 0.5*dt*k1,T[i-1] + 0.5*dt)\n",
    "        k3 = func(X_2[:,i-1] + 0.75*dt*k2, T[i-1] + 0.75*dt)\n",
    "        k4 = func(X_2[:,i-1] + dt*(2*k1 + 3*k2 + 4*k3)/9.0,T[i])\n",
    "        X_3[:,i] = X_2[:,i-1] + dt*(2*k1 + 3*k2 + 4*k3)/9.0\n",
    "        X_2[:,i] = X_2[:,i-1] + dt*(7*k1 + 6*k2 + 8*k3 + 3*k4)/24.0\n",
    "    end\n",
    "    return T, X_2, X_3\n",
    "end"
   ]
  },
  {
   "cell_type": "code",
   "execution_count": 51,
   "metadata": {
    "collapsed": false
   },
   "outputs": [
    {
     "data": {
      "text/plain": [
       "1.0e-6"
      ]
     },
     "execution_count": 51,
     "metadata": {},
     "output_type": "execute_result"
    }
   ],
   "source": [
    "x0 = [1.0, 0.0]\n",
    "dt = 1.0\n",
    "tol = 1e-6"
   ]
  },
  {
   "cell_type": "code",
   "execution_count": 52,
   "metadata": {
    "collapsed": false
   },
   "outputs": [
    {
     "data": {
      "text/plain": [
       "2-element Array{Float64,1}:\n",
       " 1.0\n",
       " 0.0"
      ]
     },
     "execution_count": 52,
     "metadata": {},
     "output_type": "execute_result"
    }
   ],
   "source": [
    "X = Array(Float64, (length(x0), 1))\n",
    "T = [0.0]\n",
    "X[:,1] = x0"
   ]
  },
  {
   "cell_type": "code",
   "execution_count": 53,
   "metadata": {
    "collapsed": false
   },
   "outputs": [
    {
     "data": {
      "text/plain": [
       "2"
      ]
     },
     "execution_count": 53,
     "metadata": {},
     "output_type": "execute_result"
    }
   ],
   "source": [
    "i = 2"
   ]
  },
  {
   "cell_type": "code",
   "execution_count": 54,
   "metadata": {
    "collapsed": false
   },
   "outputs": [
    {
     "data": {
      "text/plain": [
       "2-element Array{Float64,1}:\n",
       " 1.0\n",
       " 1.0"
      ]
     },
     "execution_count": 54,
     "metadata": {},
     "output_type": "execute_result"
    }
   ],
   "source": [
    "dx_3 = [0.0, 0.0]\n",
    "dx_2 = [1.0, 1.0]"
   ]
  },
  {
   "cell_type": "code",
   "execution_count": 55,
   "metadata": {
    "collapsed": false
   },
   "outputs": [
    {
     "ename": "LoadError",
     "evalue": "min_step_size not defined\nwhile loading In[55], in expression starting on line 1",
     "output_type": "error",
     "traceback": [
      "min_step_size not defined\nwhile loading In[55], in expression starting on line 1",
      "",
      " in anonymous at ./no file:10"
     ]
    }
   ],
   "source": [
    "while true\n",
    "    k1 = func(X_2[:,i-1], T[i-1])\n",
    "    k2 = func(X_2[:,i-1] + 0.5*dt*k1,T[i-1] + 0.5*dt)\n",
    "    k3 = func(X_2[:,i-1] + 0.75*dt*k2, T[i-1] + 0.75*dt)\n",
    "    k4 = func(X_2[:,i-1] + dt*(2*k1 + 3*k2 + 4*k3)/9.0,T[i-1] + dt)\n",
    "    dx_3 = dt*(2*k1 + 3*k2 + 4*k3)/9.0\n",
    "    dx_2 = dt*(7*k1 + 6*k2 + 8*k3 + 3*k4)/24.0\n",
    "    \n",
    "    if norm(dx_3 - dx_2) > tol\n",
    "        if dt > min_step_size\n",
    "            dt *= 0.5\n",
    "        else\n",
    "            break\n",
    "        end\n",
    "    else\n",
    "        break\n",
    "    end\n",
    "end"
   ]
  },
  {
   "cell_type": "code",
   "execution_count": 56,
   "metadata": {
    "collapsed": false
   },
   "outputs": [
    {
     "data": {
      "text/plain": [
       "2-element Array{Float64,1}:\n",
       " -0.479167\n",
       " -0.8125  "
      ]
     },
     "execution_count": 56,
     "metadata": {},
     "output_type": "execute_result"
    }
   ],
   "source": [
    "dx_2"
   ]
  },
  {
   "cell_type": "code",
   "execution_count": 57,
   "metadata": {
    "collapsed": false
   },
   "outputs": [
    {
     "data": {
      "text/plain": [
       "2-element Array{Float64,1}:\n",
       " -0.5     \n",
       " -0.833333"
      ]
     },
     "execution_count": 57,
     "metadata": {},
     "output_type": "execute_result"
    }
   ],
   "source": [
    "dx_3"
   ]
  },
  {
   "cell_type": "code",
   "execution_count": 58,
   "metadata": {
    "collapsed": false
   },
   "outputs": [
    {
     "ename": "LoadError",
     "evalue": "BoundsError()\nwhile loading In[58], in expression starting on line 1",
     "output_type": "error",
     "traceback": [
      "BoundsError()\nwhile loading In[58], in expression starting on line 1",
      ""
     ]
    }
   ],
   "source": [
    "while true\n",
    "    k1 = func(X_2[:,i-1], T[i-1])\n",
    "    k2 = func(X_2[:,i-1] + 0.5*dt*k1,T[i-1] + 0.5*dt)\n",
    "    k3 = func(X_2[:,i-1] + 0.75*dt*k2, T[i-1] + 0.75*dt)\n",
    "    k4 = func(X_2[:,i-1] + dt*(2*k1 + 3*k2 + 4*k3)/9.0,T[i])\n",
    "    dx_3 = dt*(2*k1 + 3*k2 + 4*k3)/9.0\n",
    "    dx_2 = dt*(7*k1 + 6*k2 + 8*k3 + 3*k4)/24.0\n",
    "end\n",
    "    "
   ]
  },
  {
   "cell_type": "code",
   "execution_count": 59,
   "metadata": {
    "collapsed": false
   },
   "outputs": [
    {
     "data": {
      "text/plain": [
       "3-element Array{Float64,1}:\n",
       " 1.0\n",
       " 2.0\n",
       " 3.0"
      ]
     },
     "execution_count": 59,
     "metadata": {},
     "output_type": "execute_result"
    }
   ],
   "source": [
    "a = [1.0, 2.0, 3.0]"
   ]
  },
  {
   "cell_type": "code",
   "execution_count": 60,
   "metadata": {
    "collapsed": false
   },
   "outputs": [
    {
     "data": {
      "text/plain": [
       "4-element Array{Float64,1}:\n",
       " 1.0\n",
       " 2.0\n",
       " 3.0\n",
       " 1.0"
      ]
     },
     "execution_count": 60,
     "metadata": {},
     "output_type": "execute_result"
    }
   ],
   "source": [
    "push!(a, 1.0)"
   ]
  },
  {
   "cell_type": "code",
   "execution_count": 61,
   "metadata": {
    "collapsed": false
   },
   "outputs": [
    {
     "data": {
      "text/plain": [
       "([0.0,0.01,0.02,0.03,0.04,0.05,0.06,0.07,0.08,0.09  …  0.91,0.92,0.93,0.94,0.95,0.96,0.97,0.98,0.99,1.0],\n",
       "2x101 Array{Float64,2}:\n",
       " 1.0   0.99995      0.9998      0.99955    …   0.557024   0.548692   0.540304\n",
       " 0.0  -0.00999981  -0.0199986  -0.0299954     -0.830496  -0.836025  -0.84147 ,\n",
       "\n",
       "2x101 Array{Float64,2}:\n",
       " 1.0   0.99995      0.9998      0.99955    …   0.557024   0.548692   0.540304\n",
       " 0.0  -0.00999983  -0.0199986  -0.0299955     -0.830496  -0.836025  -0.84147 )"
      ]
     },
     "execution_count": 61,
     "metadata": {},
     "output_type": "execute_result"
    }
   ],
   "source": [
    "T, X_2, X_3 = rk3_other_way(func, [1.0, 0.0], 0.01, 101)"
   ]
  },
  {
   "cell_type": "code",
   "execution_count": 62,
   "metadata": {
    "collapsed": false
   },
   "outputs": [
    {
     "data": {
      "image/png": "[encoded data removed]",
      "text/plain": [
       "Figure(PyObject <matplotlib.figure.Figure object at 0x7f44ba90d990>)"
      ]
     },
     "metadata": {},
     "output_type": "display_data"
    },
    {
     "data": {
      "text/plain": [
       "1-element Array{Any,1}:\n",
       " PyObject <matplotlib.lines.Line2D object at 0x7f44ba843110>"
      ]
     },
     "execution_count": 62,
     "metadata": {},
     "output_type": "execute_result"
    }
   ],
   "source": [
    "plot(T, X_2[1,:][:])\n",
    "plot(T, X_3[1,:][:])"
   ]
  },
  {
   "cell_type": "code",
   "execution_count": 63,
   "metadata": {
    "collapsed": false
   },
   "outputs": [
    {
     "data": {
      "text/plain": [
       "rk4 (generic function with 1 method)"
      ]
     },
     "execution_count": 63,
     "metadata": {},
     "output_type": "execute_result"
    }
   ],
   "source": [
    "function rk4(func, x0, dt, n)\n",
    "    X = Array(typeof(x0), n)\n",
    "    T = Array(typeof(dt), n)\n",
    "    X[1] = x0\n",
    "    T[1] = 0.0\n",
    "    for i = 2:n\n",
    "        T[i] = T[i-1] + dt\n",
    "        k1 = func(X[i-1], T[i-1])\n",
    "        k2 = func(X[i-1] + 0.5*dt*k1, T[i-1] + 0.5*dt)\n",
    "        k3 = func(X[i-1] + 0.5*dt*k2, T[i-1] + 0.5*dt)\n",
    "        k4 = func(X[i-1] + dt*k3, T[i-1] + dt)\n",
    "        X[i] = X[i-1] + dt*(k1/6.0 + k2/3.0 + k3/3.0 + k4/6.0)\n",
    "    end\n",
    "    return T, X\n",
    "end"
   ]
  },
  {
   "cell_type": "code",
   "execution_count": 64,
   "metadata": {
    "collapsed": false
   },
   "outputs": [
    {
     "data": {
      "text/plain": [
       "func (generic function with 1 method)"
      ]
     },
     "execution_count": 64,
     "metadata": {},
     "output_type": "execute_result"
    }
   ],
   "source": [
    "function func(x, t)\n",
    "    return -0.3*x\n",
    "end"
   ]
  },
  {
   "cell_type": "code",
   "execution_count": 65,
   "metadata": {
    "collapsed": false
   },
   "outputs": [
    {
     "ename": "LoadError",
     "evalue": "euler_multidimensional not defined\nwhile loading In[65], in expression starting on line 1",
     "output_type": "error",
     "traceback": [
      "euler_multidimensional not defined\nwhile loading In[65], in expression starting on line 1",
      ""
     ]
    }
   ],
   "source": [
    "T_euler, X_euler = euler_multidimensional(func, 1.0, 0.01, 101)"
   ]
  },
  {
   "cell_type": "code",
   "execution_count": 66,
   "metadata": {
    "collapsed": false
   },
   "outputs": [
    {
     "ename": "LoadError",
     "evalue": "X_euler not defined\nwhile loading In[66], in expression starting on line 1",
     "output_type": "error",
     "traceback": [
      "X_euler not defined\nwhile loading In[66], in expression starting on line 1",
      ""
     ]
    }
   ],
   "source": [
    "plot(T_euler, X_euler[1,:][:])"
   ]
  },
  {
   "cell_type": "code",
   "execution_count": 67,
   "metadata": {
    "collapsed": false
   },
   "outputs": [],
   "source": [
    "T_euler, X_euler = euler(func, 1.0, 0.01, 101); \n",
    "T_rk2, X_rk2 = rk2(func, 1.0, 0.01, 101);\n",
    "T_rk3, X_rk3 = rk3(func, 1.0, 0.01, 101);\n",
    "T_rk4, X_rk4 = rk4(func, 1.0, 0.01, 101);"
   ]
  },
  {
   "cell_type": "code",
   "execution_count": 68,
   "metadata": {
    "collapsed": false
   },
   "outputs": [
    {
     "ename": "LoadError",
     "evalue": "dimensions must match\nwhile loading In[68], in expression starting on line 1",
     "output_type": "error",
     "traceback": [
      "dimensions must match\nwhile loading In[68], in expression starting on line 1",
      "",
      " in promote_shape at ./operators.jl:191",
      " in - at ./array.jl:719"
     ]
    }
   ],
   "source": [
    "plot(T_euler, X_euler - exp(-0.3*T_euler))\n",
    "plot(T_rk2, X_rk2 - exp(-0.3*T_rk2))"
   ]
  },
  {
   "cell_type": "code",
   "execution_count": 69,
   "metadata": {
    "collapsed": false
   },
   "outputs": [
    {
     "ename": "LoadError",
     "evalue": "dimensions must match\nwhile loading In[69], in expression starting on line 1",
     "output_type": "error",
     "traceback": [
      "dimensions must match\nwhile loading In[69], in expression starting on line 1",
      "",
      " in promote_shape at ./operators.jl:191",
      " in - at ./array.jl:719"
     ]
    }
   ],
   "source": [
    "plot(T_rk2, X_rk2 - exp(-0.3*T_rk2))\n",
    "plot(T_rk3, X_rk3 - exp(-0.3*T_rk3))"
   ]
  },
  {
   "cell_type": "code",
   "execution_count": 70,
   "metadata": {
    "collapsed": false
   },
   "outputs": [
    {
     "data": {
      "image/png": "[encoded data removed]",
      "text/plain": [
       "Figure(PyObject <matplotlib.figure.Figure object at 0x7f44ba7ecf90>)"
      ]
     },
     "metadata": {},
     "output_type": "display_data"
    },
    {
     "data": {
      "text/plain": [
       "1-element Array{Any,1}:\n",
       " PyObject <matplotlib.lines.Line2D object at 0x7f44ba76efd0>"
      ]
     },
     "execution_count": 70,
     "metadata": {},
     "output_type": "execute_result"
    }
   ],
   "source": [
    "plot(T_rk3, X_rk3 - exp(-0.3*T_rk3))\n",
    "plot(T_rk4, X_rk4 - exp(-0.3*T_rk4))"
   ]
  },
  {
   "cell_type": "code",
   "execution_count": 71,
   "metadata": {
    "collapsed": false
   },
   "outputs": [
    {
     "data": {
      "text/plain": [
       "harmonic (generic function with 1 method)"
      ]
     },
     "execution_count": 71,
     "metadata": {},
     "output_type": "execute_result"
    }
   ],
   "source": [
    "function harmonic(x,t)\n",
    "    return [x[2], -x[1]]\n",
    "end"
   ]
  },
  {
   "cell_type": "code",
   "execution_count": 72,
   "metadata": {
    "collapsed": false
   },
   "outputs": [
    {
     "data": {
      "text/plain": [
       "euler (generic function with 1 method)"
      ]
     },
     "execution_count": 72,
     "metadata": {},
     "output_type": "execute_result"
    }
   ],
   "source": [
    "function euler(func, x0, dt, n)\n",
    "    X = Array(Float64,(length(x0),n))\n",
    "    T = linspace(0, (n-1)*dt, n)\n",
    "    X[:,1] = x0\n",
    "    for i= 2:n\n",
    "        X[:,i] = X[:,i-1] + func(X[:,i-1], T[i-1])*dt\n",
    "    end\n",
    "    return T, X\n",
    "end        "
   ]
  },
  {
   "cell_type": "code",
   "execution_count": 73,
   "metadata": {
    "collapsed": false
   },
   "outputs": [
    {
     "data": {
      "text/plain": [
       "([0.0,0.01,0.02,0.03,0.04,0.05,0.06,0.07,0.08,0.09  …  9.91,9.92,9.93,9.94,9.95,9.96,9.97,9.98,9.99,10.0],\n",
       "2x1001 Array{Float64,2}:\n",
       " 1.0   1.0    0.9999   0.9997    …  -0.893445  -0.887907  -0.88228 \n",
       " 0.0  -0.01  -0.02    -0.029999      0.553805   0.562739   0.571618)"
      ]
     },
     "execution_count": 73,
     "metadata": {},
     "output_type": "execute_result"
    }
   ],
   "source": [
    "euler(harmonic, [1.0, 0.0], 0.01, 1001)"
   ]
  },
  {
   "cell_type": "code",
   "execution_count": 74,
   "metadata": {
    "collapsed": false
   },
   "outputs": [
    {
     "data": {
      "text/plain": [
       "rk2 (generic function with 1 method)"
      ]
     },
     "execution_count": 74,
     "metadata": {},
     "output_type": "execute_result"
    }
   ],
   "source": [
    "function rk2(func, x0, dt, n)\n",
    "    X = Array(Float64,(length(x0), n))\n",
    "    T = linspace(0, (n-1)*dt, n)\n",
    "    X[:,1] = x0\n",
    "    for i = 2:n\n",
    "        k1 = func(X[:,i-1], T[i-1])\n",
    "        k2 = func(X[:,i-1] + 0.5*dt*k1, T[i-1] + 0.5*dt)\n",
    "        X[:,i] = X[:,i-1] + dt*k2\n",
    "    end\n",
    "    return T, X\n",
    "end"
   ]
  },
  {
   "cell_type": "code",
   "execution_count": 75,
   "metadata": {
    "collapsed": false
   },
   "outputs": [
    {
     "data": {
      "text/plain": [
       "rk2_with_derivs (generic function with 1 method)"
      ]
     },
     "execution_count": 75,
     "metadata": {},
     "output_type": "execute_result"
    }
   ],
   "source": [
    "function rk2_with_derivs(func, jacobian, x0, dt, n)\n",
    "    X = Array(Float64,(length(x0), n))\n",
    "    T = linspace(0, (n-1)*dt, n)\n",
    "    deriv = eye(length(x0))\n",
    "    X[:,1] = x0\n",
    "    for i = 2:n\n",
    "        k1 = func(X[:,i-1], T[i-1])\n",
    "        k2 = func(X[:,i-1] + 0.5*dt*k1, T[i-1] + 0.5*dt)\n",
    "        X[:,i] = X[:,i-1] + dt*k2\n",
    "        deriv *= (eye(length(x0)) + 0.5*dt*jacobian(X[:,i-1], T[i-1]))\n",
    "        deriv *= (eye(length(x0)) + 0.5*dt*jacobian(X[:,i-1] + 0.5*dt*k1, T[i-1] + 0.5*dt))\n",
    "    end\n",
    "    return T, X, deriv\n",
    "end"
   ]
  },
  {
   "cell_type": "code",
   "execution_count": 76,
   "metadata": {
    "collapsed": false
   },
   "outputs": [
    {
     "data": {
      "text/plain": [
       "([0.0,0.01,0.02,0.03,0.04,0.05,0.06,0.07,0.08,0.09  …  9.91,9.92,9.93,9.94,9.95,9.96,9.97,9.98,9.99,10.0],\n",
       "2x1001 Array{Float64,2}:\n",
       " 1.0   0.99995   0.9998     0.99955   …  -0.849697  -0.844382  -0.838982\n",
       " 0.0  -0.01     -0.019999  -0.029996      0.527274   0.535745   0.544162)"
      ]
     },
     "execution_count": 76,
     "metadata": {},
     "output_type": "execute_result"
    }
   ],
   "source": [
    "rk2(harmonic, [1.0, 0.0], 0.01, 1001)"
   ]
  },
  {
   "cell_type": "code",
   "execution_count": 77,
   "metadata": {
    "collapsed": false
   },
   "outputs": [
    {
     "data": {
      "text/plain": [
       "ten_seconds_later (generic function with 1 method)"
      ]
     },
     "execution_count": 77,
     "metadata": {},
     "output_type": "execute_result"
    }
   ],
   "source": [
    "function ten_seconds_later(initial_velocity)\n",
    "    _, X, derivs = rk2_with_derivs(harmonic, jacobian, [1.0, initial_velocity], 0.01, 1001)\n",
    "    return X[1,end], derivs[1,2]\n",
    "end"
   ]
  },
  {
   "cell_type": "code",
   "execution_count": 78,
   "metadata": {
    "collapsed": false
   },
   "outputs": [
    {
     "data": {
      "text/plain": [
       "newton (generic function with 1 method)"
      ]
     },
     "execution_count": 78,
     "metadata": {},
     "output_type": "execute_result"
    }
   ],
   "source": [
    "function newton(function_and_derivative, initial_guess, tol)\n",
    "    x = initial_guess\n",
    "    f_of_x, df_of_x = function_and_derivative(initial_guess)\n",
    "    while norm(f_of_x) > tol\n",
    "        x -= df_of_x\\f_of_x\n",
    "        f_of_x, df_of_x = function_and_derivative(x)\n",
    "    end\n",
    "    return x\n",
    "end"
   ]
  },
  {
   "cell_type": "code",
   "execution_count": 79,
   "metadata": {
    "collapsed": false
   },
   "outputs": [
    {
     "data": {
      "text/plain": [
       "-1.5417880658286134"
      ]
     },
     "execution_count": 79,
     "metadata": {},
     "output_type": "execute_result"
    }
   ],
   "source": [
    "v_init = newton(ten_seconds_later, 0.0, 1e-10)"
   ]
  },
  {
   "cell_type": "code",
   "execution_count": 80,
   "metadata": {
    "collapsed": false
   },
   "outputs": [
    {
     "data": {
      "text/plain": [
       "([0.0,0.01,0.02,0.03,0.04,0.05,0.06,0.07,0.08,0.09  …  9.91,9.92,9.93,9.94,9.95,9.96,9.97,9.98,9.99,10.0],\n",
       "2x1001 Array{Float64,2}:\n",
       "  1.0       0.984532   0.968966  …  -0.036752  -0.0183769  -4.21227e-12\n",
       " -1.54179  -1.55171   -1.56148       1.83733    1.8376      1.83769    ,\n",
       "\n",
       "2x2 Array{Float64,2}:\n",
       " -0.860359  -0.557721\n",
       "  0.557721  -0.860359)"
      ]
     },
     "execution_count": 80,
     "metadata": {},
     "output_type": "execute_result"
    }
   ],
   "source": [
    "T, X, _ = rk2_with_derivs(harmonic, jacobian, [1.0, v_init], 0.01, 1001)"
   ]
  },
  {
   "cell_type": "code",
   "execution_count": 81,
   "metadata": {
    "collapsed": false
   },
   "outputs": [
    {
     "data": {
      "image/png": "[encoded data removed]",
      "text/plain": [
       "Figure(PyObject <matplotlib.figure.Figure object at 0x7f44bb1e51d0>)"
      ]
     },
     "metadata": {},
     "output_type": "display_data"
    },
    {
     "data": {
      "text/plain": [
       "1-element Array{Any,1}:\n",
       " PyObject <matplotlib.lines.Line2D object at 0x7f44ba61ff50>"
      ]
     },
     "execution_count": 81,
     "metadata": {},
     "output_type": "execute_result"
    }
   ],
   "source": [
    "plot(T, X[1,:][:])\n",
    "plot(T, cos(T) + v_init*sin(T))"
   ]
  },
  {
   "cell_type": "code",
   "execution_count": 82,
   "metadata": {
    "collapsed": false
   },
   "outputs": [
    {
     "data": {
      "text/plain": [
       "euler_with_derivs (generic function with 1 method)"
      ]
     },
     "execution_count": 82,
     "metadata": {},
     "output_type": "execute_result"
    }
   ],
   "source": [
    "function euler_with_derivs(func, jacobian, x0, dt, n)\n",
    "    X = Array(Float64,(length(x0),n))\n",
    "    T = linspace(0, (n-1)*dt, n)\n",
    "    derivs = eye(length(x0))\n",
    "    X[:,1] = x0\n",
    "    for i= 2:n\n",
    "        derivs *= (eye(length(x0)) + jacobian(X[:,i-1], T[i-1])*dt)\n",
    "        X[:,i] = X[:,i-1] + func(X[:,i-1], T[i-1])*dt\n",
    "    end\n",
    "    return T, X, derivs\n",
    "end"
   ]
  },
  {
   "cell_type": "code",
   "execution_count": 83,
   "metadata": {
    "collapsed": false
   },
   "outputs": [
    {
     "data": {
      "text/plain": [
       "([0.0,0.01,0.02,0.03,0.04,0.05,0.06,0.07,0.08,0.09  …  9.91,9.92,9.93,9.94,9.95,9.96,9.97,9.98,9.99,10.0],\n",
       "2x1001 Array{Float64,2}:\n",
       " 1.0   1.0    0.9999   0.9997    …  -0.893445  -0.887907  -0.88228 \n",
       " 0.0  -0.01  -0.02    -0.029999      0.553805   0.562739   0.571618,\n",
       "\n",
       "2x2 Array{Float64,2}:\n",
       " -0.88228   -0.571618\n",
       "  0.571618  -0.88228 )"
      ]
     },
     "execution_count": 83,
     "metadata": {},
     "output_type": "execute_result"
    }
   ],
   "source": [
    "euler_with_derivs(harmonic, jacobian, [1.0, 0.0], 0.01, 1001)"
   ]
  },
  {
   "cell_type": "code",
   "execution_count": 84,
   "metadata": {
    "collapsed": false
   },
   "outputs": [
    {
     "data": {
      "text/plain": [
       "([0.0,0.01,0.02,0.03,0.04,0.05,0.06,0.07,0.08,0.09  …  0.91,0.92,0.93,0.94,0.95,0.96,0.97,0.98,0.99,1.0],\n",
       "2x101 Array{Float64,2}:\n",
       " 1.0   1.0    0.9999   0.9997    …   0.559786   0.55144    0.543039\n",
       " 0.0  -0.01  -0.02    -0.029999     -0.834558  -0.840156  -0.845671)"
      ]
     },
     "execution_count": 84,
     "metadata": {},
     "output_type": "execute_result"
    }
   ],
   "source": [
    "euler(harmonic, [1.0, 0.0], 0.01, 101)"
   ]
  },
  {
   "cell_type": "code",
   "execution_count": 85,
   "metadata": {
    "collapsed": false
   },
   "outputs": [
    {
     "data": {
      "text/plain": [
       "jacobian (generic function with 1 method)"
      ]
     },
     "execution_count": 85,
     "metadata": {},
     "output_type": "execute_result"
    }
   ],
   "source": [
    "function jacobian(x,t)\n",
    "    return [0 1; -1 0]\n",
    "end"
   ]
  },
  {
   "cell_type": "code",
   "execution_count": 86,
   "metadata": {
    "collapsed": false
   },
   "outputs": [
    {
     "data": {
      "text/plain": [
       "euler_with_derivs (generic function with 1 method)"
      ]
     },
     "execution_count": 86,
     "metadata": {},
     "output_type": "execute_result"
    }
   ],
   "source": [
    "function euler_with_derivs(func, jacobian, x0, dt, n)\n",
    "    X = Array(typeof(x0),(length(x0),n))\n",
    "    T = zeros(n)\n",
    "    #derivs = eye(length(x0))\n",
    "    X[:,1] = x0\n",
    "    \n",
    "    for i= 2:n\n",
    "        T[i] = T[i-1] + dt\n",
    "        X[:,i] = X[:,i-1] + func(X[:,i-1], (i-1)*dt)*dt\n",
    "        #derivs *= (eye(length(x0)) + jacobian(X[:,i-1], (i-1)*dt))\n",
    "    end\n",
    "    return T, X, derivs\n",
    "end"
   ]
  },
  {
   "cell_type": "code",
   "execution_count": 87,
   "metadata": {
    "collapsed": false
   },
   "outputs": [
    {
     "ename": "LoadError",
     "evalue": "`convert` has no method matching convert(::Type{Array{Float64,1}}, ::Float64)\nwhile loading In[87], in expression starting on line 1",
     "output_type": "error",
     "traceback": [
      "`convert` has no method matching convert(::Type{Array{Float64,1}}, ::Float64)\nwhile loading In[87], in expression starting on line 1",
      "",
      " in setindex! at ./multidimensional.jl:76",
      " in euler_with_derivs at ./In[86]:7"
     ]
    }
   ],
   "source": [
    "euler_with_derivs(harmonic, jacobian, [1.0, 0.0], 0.01, 101)"
   ]
  },
  {
   "cell_type": "code",
   "execution_count": 88,
   "metadata": {
    "collapsed": false
   },
   "outputs": [
    {
     "data": {
      "text/plain": [
       "2x2 Array{Float64,2}:\n",
       " 1.0  0.0\n",
       " 0.0  1.0"
      ]
     },
     "execution_count": 88,
     "metadata": {},
     "output_type": "execute_result"
    }
   ],
   "source": [
    "A = eye(2)"
   ]
  },
  {
   "cell_type": "code",
   "execution_count": 89,
   "metadata": {
    "collapsed": false
   },
   "outputs": [
    {
     "data": {
      "text/plain": [
       "2-element Array{Float64,1}:\n",
       " 0.5\n",
       " 0.5"
      ]
     },
     "execution_count": 89,
     "metadata": {},
     "output_type": "execute_result"
    }
   ],
   "source": [
    "A[:,1] = [0.5, 0.5]"
   ]
  },
  {
   "cell_type": "code",
   "execution_count": 90,
   "metadata": {
    "collapsed": false
   },
   "outputs": [
    {
     "data": {
      "text/plain": [
       "2x2 Array{Float64,2}:\n",
       " 0.5  0.0\n",
       " 0.5  1.0"
      ]
     },
     "execution_count": 90,
     "metadata": {},
     "output_type": "execute_result"
    }
   ],
   "source": [
    "A"
   ]
  },
  {
   "cell_type": "code",
   "execution_count": null,
   "metadata": {
    "collapsed": true
   },
   "outputs": [],
   "source": []
  }
 ],
 "metadata": {
  "kernelspec": {
   "display_name": "Julia 0.3.2",
   "language": "julia",
   "name": "julia-0.3"
  },
  "language_info": {
   "file_extension": ".jl",
   "mimetype": "application/julia",
   "name": "julia",
   "version": "0.3.2"
  }
 },
 "nbformat": 4,
 "nbformat_minor": 0
}
