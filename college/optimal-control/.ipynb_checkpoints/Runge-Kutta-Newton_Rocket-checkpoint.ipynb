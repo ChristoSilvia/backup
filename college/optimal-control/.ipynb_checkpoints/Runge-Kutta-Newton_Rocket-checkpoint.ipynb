{
 "cells": [
  {
   "cell_type": "code",
   "execution_count": 1,
   "metadata": {
    "collapsed": false
   },
   "outputs": [
    {
     "name": "stderr",
     "output_type": "stream",
     "text": [
      "INFO: Loading help data...\n"
     ]
    }
   ],
   "source": [
    "using PyPlot"
   ]
  },
  {
   "cell_type": "markdown",
   "metadata": {},
   "source": [
    "### library functions"
   ]
  },
  {
   "cell_type": "code",
   "execution_count": 2,
   "metadata": {
    "collapsed": false
   },
   "outputs": [
    {
     "data": {
      "text/plain": [
       "rk2 (generic function with 1 method)"
      ]
     },
     "execution_count": 2,
     "metadata": {},
     "output_type": "execute_result"
    }
   ],
   "source": [
    "function rk2(func, x0, dt, n)\n",
    "    X = Array(Float64,(length(x0), n))\n",
    "    T = linspace(0, (n-1)*dt, n)\n",
    "    X[:,1] = x0\n",
    "    for i = 2:n\n",
    "        k1 = func(X[:,i-1], T[i-1])\n",
    "        k2 = func(X[:,i-1] + 0.5*dt*k1, T[i-1] + 0.5*dt)\n",
    "        X[:,i] = X[:,i-1] + dt*k2\n",
    "    end\n",
    "    return T, X\n",
    "end"
   ]
  },
  {
   "cell_type": "code",
   "execution_count": 3,
   "metadata": {
    "collapsed": false
   },
   "outputs": [
    {
     "data": {
      "text/plain": [
       "rk2_with_derivs (generic function with 1 method)"
      ]
     },
     "execution_count": 3,
     "metadata": {},
     "output_type": "execute_result"
    }
   ],
   "source": [
    "function rk2_with_derivs(func, jacobian, x0, dt, n)\n",
    "    X = Array(Float64,(length(x0), n))\n",
    "    T = linspace(0, (n-1)*dt, n)\n",
    "    deriv = eye(length(x0))\n",
    "    X[:,1] = x0\n",
    "    for i = 2:n\n",
    "        k1 = func(X[:,i-1], T[i-1])\n",
    "        k2 = func(X[:,i-1] + 0.5*dt*k1, T[i-1] + 0.5*dt)\n",
    "        X[:,i] = X[:,i-1] + dt*k2\n",
    "        deriv *= (eye(length(x0)) + 0.5*dt*jacobian(X[:,i-1], T[i-1]))\n",
    "        deriv *= (eye(length(x0)) + 0.5*dt*jacobian(X[:,i-1] + 0.5*dt*k1, T[i-1] + 0.5*dt))\n",
    "    end\n",
    "    return T, X, deriv\n",
    "end"
   ]
  },
  {
   "cell_type": "code",
   "execution_count": 4,
   "metadata": {
    "collapsed": false
   },
   "outputs": [
    {
     "data": {
      "text/plain": [
       "newton (generic function with 1 method)"
      ]
     },
     "execution_count": 4,
     "metadata": {},
     "output_type": "execute_result"
    }
   ],
   "source": [
    "function newton(function_and_derivative, initial_guess, tol)\n",
    "    x = initial_guess\n",
    "    f_of_x, df_of_x = function_and_derivative(initial_guess)\n",
    "    while norm(f_of_x) > tol\n",
    "        x -= df_of_x\\f_of_x\n",
    "        f_of_x, df_of_x = function_and_derivative(x)\n",
    "    end\n",
    "    return x\n",
    "end"
   ]
  },
  {
   "cell_type": "markdown",
   "metadata": {},
   "source": [
    "### problem specific"
   ]
  },
  {
   "cell_type": "code",
   "execution_count": 5,
   "metadata": {
    "collapsed": false
   },
   "outputs": [
    {
     "data": {
      "text/plain": [
       "harmonic (generic function with 1 method)"
      ]
     },
     "execution_count": 5,
     "metadata": {},
     "output_type": "execute_result"
    }
   ],
   "source": [
    "function harmonic(x,t)\n",
    "    return [x[2], -x[1]]\n",
    "end"
   ]
  },
  {
   "cell_type": "code",
   "execution_count": 6,
   "metadata": {
    "collapsed": false
   },
   "outputs": [
    {
     "data": {
      "text/plain": [
       "jacobian (generic function with 1 method)"
      ]
     },
     "execution_count": 6,
     "metadata": {},
     "output_type": "execute_result"
    }
   ],
   "source": [
    "function jacobian(x,t)\n",
    "    return [0 1; -1 0]\n",
    "end"
   ]
  },
  {
   "cell_type": "code",
   "execution_count": 7,
   "metadata": {
    "collapsed": false
   },
   "outputs": [
    {
     "data": {
      "text/plain": [
       "ten_seconds_later (generic function with 1 method)"
      ]
     },
     "execution_count": 7,
     "metadata": {},
     "output_type": "execute_result"
    }
   ],
   "source": [
    "function ten_seconds_later(initial_velocity)\n",
    "    _, X, derivs = rk2_with_derivs(harmonic, jacobian, [1.0, initial_velocity], 0.01, 1001)\n",
    "    return X[1,end], derivs[1,2]\n",
    "end"
   ]
  },
  {
   "cell_type": "code",
   "execution_count": 15,
   "metadata": {
    "collapsed": false
   },
   "outputs": [
    {
     "data": {
      "text/plain": [
       "-1.541788065753305"
      ]
     },
     "execution_count": 15,
     "metadata": {},
     "output_type": "execute_result"
    }
   ],
   "source": [
    "v_init = newton(ten_seconds_later, 15.0, 1e-10)"
   ]
  },
  {
   "cell_type": "code",
   "execution_count": 16,
   "metadata": {
    "collapsed": false
   },
   "outputs": [
    {
     "data": {
      "text/plain": [
       "([0.0,0.01,0.02,0.03,0.04,0.05,0.06,0.07,0.08,0.09  …  9.91,9.92,9.93,9.94,9.95,9.96,9.97,9.98,9.99,10.0],\n",
       "2x1001 Array{Float64,2}:\n",
       "  1.0       0.984532   0.968966  …  -0.036752  -0.0183769  -4.51949e-11\n",
       " -1.54179  -1.55171   -1.56148       1.83733    1.8376      1.83769    )"
      ]
     },
     "execution_count": 16,
     "metadata": {},
     "output_type": "execute_result"
    }
   ],
   "source": [
    "T, X = rk2(harmonic, [1.0, v_init], 0.01, 1001)"
   ]
  },
  {
   "cell_type": "code",
   "execution_count": 17,
   "metadata": {
    "collapsed": false
   },
   "outputs": [
    {
     "data": {
      "image/png": "[encoded data removed]",
      "text/plain": [
       "Figure(PyObject <matplotlib.figure.Figure object at 0x7f200cc0f1d0>)"
      ]
     },
     "metadata": {},
     "output_type": "display_data"
    },
    {
     "data": {
      "text/plain": [
       "1-element Array{Any,1}:\n",
       " PyObject <matplotlib.lines.Line2D object at 0x7f200cb0f310>"
      ]
     },
     "execution_count": 17,
     "metadata": {},
     "output_type": "execute_result"
    }
   ],
   "source": [
    "plot(T, X[1,:][:])"
   ]
  },
  {
   "cell_type": "code",
   "execution_count": null,
   "metadata": {
    "collapsed": true
   },
   "outputs": [],
   "source": []
  }
 ],
 "metadata": {
  "kernelspec": {
   "display_name": "Julia 0.3.2",
   "language": "julia",
   "name": "julia-0.3"
  },
  "language_info": {
   "file_extension": ".jl",
   "mimetype": "application/julia",
   "name": "julia",
   "version": "0.3.2"
  }
 },
 "nbformat": 4,
 "nbformat_minor": 0
}
