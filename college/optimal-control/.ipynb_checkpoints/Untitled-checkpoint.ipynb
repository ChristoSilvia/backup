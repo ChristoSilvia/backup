{
 "cells": [
  {
   "cell_type": "code",
   "execution_count": 1,
   "metadata": {
    "collapsed": true
   },
   "outputs": [],
   "source": [
    "%matplotlib inline\n",
    "import numpy as np\n",
    "import matplotlib.pyplot as plt\n",
    "from scipy.integrate import odeint"
   ]
  },
  {
   "cell_type": "code",
   "execution_count": null,
   "metadata": {
    "collapsed": true
   },
   "outputs": [],
   "source": [
    "m_0 = 20000 #kg\n",
    "b = 100.0 # kg/sec\n",
    "f = 300000 # N (kg m/sec^2)\n",
    "G = 6.674e-11 # N m/kg^2 ( m^2/kg sec^2)\n",
    "M = 5.972e24 # kg"
   ]
  },
  {
   "cell_type": "code",
   "execution_count": 2,
   "metadata": {
    "collapsed": true
   },
   "outputs": [],
   "source": [
    "def f(x,t):\n",
    "    m = m_0 - b * t\n",
    "    \n",
    "    r = x[0]\n",
    "    theta = x[1]\n",
    "    p_r = x[2]\n",
    "    p_theta = x[3]\n",
    "    psi_r = x[4]\n",
    "    psi_theta = x[5]\n",
    "    psi_p_r = x[6]\n",
    "    psi_p_theta = x[7]\n",
    "    \n",
    "    phi = theta + np.atan2(p_theta/(m*r) - psi_p_r, p_r/m + r*psi_p_theta)\n",
    "    \n",
    "    r_dot = p_r/m\n",
    "    theta_dot = p_theta/(m*r**2)\n",
    "    p_r_dot = -G*M*m/r**2 + p_theta**2/(m*r**3) - f*np.cos(phi - theta)\n",
    "    p_theta_dot = g*r*np.sin(phi - theta)\n",
    "    psi_r_dot = - p_theta*f/(m*r**2)*np.sin(phi - theta) + b*p_theta**2/(m**2*r**3) -\\\n",
    "        b*G*M/r**2\n",
    "    psi_theta_dot = - p_r * f / m * np.sin(phi - theta) -\\\n",
    "        p_theta/(m*r)*f*np.cos(phi - theta) -\\\n",
    "        psi_p_r*f*np.sin(phi - theta) +\\\n",
    "        psi_p_theta*f*r*np.cos(phi - theta)\n",
    "    psi_p_r_dot = f/m*np.cos(phi - theta) - b*p_r/m**2 - psi_r/m\n",
    "    psi_p_theta_dot = f/(m*r)*np.sin(phi - theta) - b*p_r/(m*r)**2 -\\\n",
    "        2*psi_p_r*p_theta/(m*r**3) - psi_theta/(m*r**2)\n",
    "        \n",
    "    x_dot = np.array([r_dot, theta_dot, p_r_dot, p_theta_dot, psi_r_dot, psi_theta_dot, psi_p_r_dot, psi_p_theta_dot])\n",
    "    return x_dot"
   ]
  },
  {
   "cell_type": "code",
   "execution_count": null,
   "metadata": {
    "collapsed": true
   },
   "outputs": [],
   "source": [
    "initial_heading = 0.0 # straight up at theta=0"
   ]
  },
  {
   "cell_type": "code",
   "execution_count": null,
   "metadata": {
    "collapsed": true
   },
   "outputs": [],
   "source": [
    "psi_r_0 = 1.0\n",
    "psi_theta_0 = 1.0\n",
    "psi_p_r_0 = 1.0\n",
    "psi_p_theta_0"
   ]
  },
  {
   "cell_type": "code",
   "execution_count": null,
   "metadata": {
    "collapsed": true
   },
   "outputs": [],
   "source": [
    "T = np.linspace(0,300,1000)\n",
    "x_0 = np.array([6384000, # m\n",
    "                0.0, # radians\n",
    "                0.0, # \n",
    "                \n"
   ]
  }
 ],
 "metadata": {
  "kernelspec": {
   "display_name": "Python 2",
   "language": "python",
   "name": "python2"
  },
  "language_info": {
   "codemirror_mode": {
    "name": "ipython",
    "version": 2
   },
   "file_extension": ".py",
   "mimetype": "text/x-python",
   "name": "python",
   "nbconvert_exporter": "python",
   "pygments_lexer": "ipython2",
   "version": "2.7.10"
  }
 },
 "nbformat": 4,
 "nbformat_minor": 0
}
