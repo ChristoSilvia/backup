{
 "cells": [
  {
   "cell_type": "code",
   "execution_count": 10,
   "metadata": {
    "collapsed": true
   },
   "outputs": [],
   "source": [
    "%matplotlib inline\n",
    "import matplotlib.pyplot as plt\n",
    "import numpy as np"
   ]
  },
  {
   "cell_type": "code",
   "execution_count": 138,
   "metadata": {
    "collapsed": true
   },
   "outputs": [],
   "source": [
    "def newton(func, goal, initial_guess, tol, max_iterations=100, **kwargs):\n",
    "    x = initial_guess\n",
    "    f, df = func(x, **kwargs)\n",
    "    iterations = 0\n",
    "    while np.linalg.norm(f - goal) > tol and iterations < max_iterations:\n",
    "        iterations += 1\n",
    "        x -= np.linalg.solve(df, f)\n",
    "        f, df = func(x, **kwargs)\n",
    "    return x"
   ]
  },
  {
   "cell_type": "code",
   "execution_count": 103,
   "metadata": {
    "collapsed": false
   },
   "outputs": [],
   "source": [
    "def gradient_descent(func, goal, initial_guess, speed, tol, max_iterations = 1000, **kwargs):\n",
    "    x = initial_guess\n",
    "    f, df = func(x, **kwargs)\n",
    "    grad_f = np.dot(df.T, f - goal)\n",
    "    iterations = 0\n",
    "    while np.linalg.norm(f - goal) and iterations < max_iterations:\n",
    "        iterations += 1\n",
    "        x -= speed*grad_f\n",
    "        f, df = func(x, **kwargs)\n",
    "        grad_f = np.dot(df.T, f - goal)\n",
    "    return x"
   ]
  },
  {
   "cell_type": "code",
   "execution_count": 144,
   "metadata": {
    "collapsed": true
   },
   "outputs": [],
   "source": [
    "def momentum_descent(func, goal, initial_guess, speed, tol, decay=0.8, max_iterations = 1000, **kwargs):\n",
    "    x = initial_guess\n",
    "    p = np.zeros(x.shape)\n",
    "    f, df = func(x, **kwargs)\n",
    "    grad_f = np.dot(df.T, f - goal)\n",
    "    iterations = 0\n",
    "    while np.linalg.norm(f - goal) and iterations < max_iterations:\n",
    "        iterations += 1\n",
    "        p = decay*p + grad_f\n",
    "        x -= speed*p\n",
    "        f, df = func(x, **kwargs)\n",
    "        grad_f = np.dot(df.T, f - goal)\n",
    "    return x"
   ]
  },
  {
   "cell_type": "code",
   "execution_count": 43,
   "metadata": {
    "collapsed": false
   },
   "outputs": [],
   "source": [
    "def rk2(func, x0, t0, tf, dt, **kwargs):\n",
    "    n = int(np.ceil((tf - t0)/dt))\n",
    "    m = len(x0)\n",
    "    X = np.empty((n,m))\n",
    "    X[0,:] = x0\n",
    "    T = np.linspace(t0, tf, n)\n",
    "    \n",
    "    if kwargs[\"compute_derivatives\"]:\n",
    "        derivs = np.eye(m)\n",
    "    \n",
    "    for i in xrange(1,n):\n",
    "        if kwargs[\"compute_derivatives\"]:\n",
    "            k1, j1 = func(X[i-1,:], T[i-1], **kwargs)\n",
    "            k2, j2 = func(X[i-1,:], T[i-1], **kwargs)\n",
    "            derivs += dt*np.linalg.multi_dot([\n",
    "                    j2,\n",
    "                    (np.eye(m) + 0.5*dt*j1),\n",
    "                    derivs\n",
    "                ])\n",
    "        else:\n",
    "            k1 = func(X[i-1,:], T[i-1], **kwargs)\n",
    "            k2 = func(X[i-1,:] + 0.5*dt*k1, T[i-1] + 0.5*dt, **kwargs)\n",
    "        X[i, :] = X[i-1,:] + dt*k2\n",
    "            \n",
    "    if kwargs[\"compute_derivatives\"]:\n",
    "        return {\"T\": T, \"X\": X, \"derivs\": derivs}\n",
    "    else:\n",
    "        return {\"T\": T, \"X\":X}"
   ]
  },
  {
   "cell_type": "code",
   "execution_count": 44,
   "metadata": {
    "collapsed": true
   },
   "outputs": [],
   "source": [
    "def harmonic(x, t, frequency=1.0, compute_derivatives=False):\n",
    "    deriv = np.array([x[1], -frequency**2*x[0]])\n",
    "    if compute_derivatives:\n",
    "        jacobian = np.array([[0, 1],[-frequency**2, 0]])\n",
    "        return deriv, jacobian\n",
    "    else:\n",
    "        return deriv    "
   ]
  },
  {
   "cell_type": "code",
   "execution_count": 69,
   "metadata": {
    "collapsed": true
   },
   "outputs": [],
   "source": [
    "def harmonic_with_force(x, t, w=1.0, m=1.0, compute_derivatives=False):\n",
    "    f = x[1]/m - x[3]\n",
    "    \n",
    "    deriv = np.array([\n",
    "        x[1]/m, \n",
    "        -m*w**2*x[0] + f, \n",
    "        m*w**2*x[3], \n",
    "        f/m - x[2]/m])\n",
    "    \n",
    "    if compute_derivatives:\n",
    "        jacobian = np.array([\n",
    "            [0, 1/m, 0, 0],\n",
    "            [-m*w**2, 1/m, 0, -1],\n",
    "            [0, 0, 0, m*w**2],\n",
    "            [0, m**(-2), -1/m, -1/m]])\n",
    "        return deriv, jacobian\n",
    "    else:\n",
    "        return deriv    "
   ]
  },
  {
   "cell_type": "code",
   "execution_count": 145,
   "metadata": {
    "collapsed": true
   },
   "outputs": [],
   "source": [
    "def momentum_for_point_in_time(initial_conditions, final_conditions, time, speed, **kwargs):\n",
    "\n",
    "    def newton_interface(x):\n",
    "        \n",
    "        result = rk2(harmonic_with_force, \n",
    "            np.array([0.0, 1.0, x[0], x[1]]), \n",
    "            0.0, time, 0.01, \n",
    "            w = 1.0,\n",
    "            m = 1.0,\n",
    "            compute_derivatives=True)\n",
    "        plt.plot(result[\"T\"], result[\"X\"][:,0])\n",
    "        f = result[\"X\"][-1,:2]\n",
    "        df = result[\"derivs\"][:2,2:]\n",
    "        return f, df\n",
    "    \n",
    "    init_params = momentum_descent(\n",
    "        newton_interface,\n",
    "        final_conditions,\n",
    "        np.array([0.0, 0.0]),\n",
    "        speed,\n",
    "        1e-10,\n",
    "        **kwargs)\n",
    "    \n",
    "    return init_params"
   ]
  },
  {
   "cell_type": "code",
   "execution_count": 146,
   "metadata": {
    "collapsed": false
   },
   "outputs": [
    {
     "data": {
      "image/png": "[encoded data removed]",
      "text/plain": [
       "<matplotlib.figure.Figure at 0x7f5ca8391210>"
      ]
     },
     "metadata": {},
     "output_type": "display_data"
    }
   ],
   "source": [
    "phi_inits = momentum_for_point_in_time(\n",
    "    np.array([0.0, 1.0]),\n",
    "    np.array([1.0, 0.0]),\n",
    "    1.5,\n",
    "    0.1,\n",
    "    max_iterations=100)"
   ]
  },
  {
   "cell_type": "code",
   "execution_count": 147,
   "metadata": {
    "collapsed": false
   },
   "outputs": [
    {
     "data": {
      "text/plain": [
       "[<matplotlib.lines.Line2D at 0x7f5cb3974410>]"
      ]
     },
     "execution_count": 147,
     "metadata": {},
     "output_type": "execute_result"
    },
    {
     "data": {
      "image/png": "[encoded data removed]",
      "text/plain": [
       "<matplotlib.figure.Figure at 0x7f5d038a8090>"
      ]
     },
     "metadata": {},
     "output_type": "display_data"
    }
   ],
   "source": [
    "result = rk2(harmonic_with_force, \n",
    "    np.array([0.0, 1.0, phi_inits[0], phi_inits[1]]), \n",
    "    0.0, 1.5, 0.01, \n",
    "    w = 1.0,\n",
    "    m = 1.0,\n",
    "    compute_derivatives=True)\n",
    "T = result[\"T\"]\n",
    "X = result[\"X\"]\n",
    "plt.plot(T, X[:,0])"
   ]
  },
  {
   "cell_type": "code",
   "execution_count": 148,
   "metadata": {
    "collapsed": false
   },
   "outputs": [
    {
     "data": {
      "text/plain": [
       "[<matplotlib.lines.Line2D at 0x7f5ca7932810>]"
      ]
     },
     "execution_count": 148,
     "metadata": {},
     "output_type": "execute_result"
    },
    {
     "data": {
      "image/png": "[encoded data removed]",
      "text/plain": [
       "<matplotlib.figure.Figure at 0x7f5ca79335d0>"
      ]
     },
     "metadata": {},
     "output_type": "display_data"
    }
   ],
   "source": [
    "plt.plot(result[\"T\"], result[\"X\"][:,1]/1.0 - result[\"X\"][:,3])"
   ]
  },
  {
   "cell_type": "markdown",
   "metadata": {},
   "source": [
    "### Rocket Problem"
   ]
  },
  {
   "cell_type": "code",
   "execution_count": 163,
   "metadata": {
    "collapsed": true
   },
   "outputs": [],
   "source": [
    "m = 1.0\n",
    "g = 9.8\n",
    "f = 5.0*g\n",
    "control_start_time = 0.05\n",
    "control_start_angle = 0.49*np.pi\n",
    "inits = np.array([\n",
    "        0.5*f/m*np.cos(control_start_angle)*control_start_time**2,\n",
    "        0.5*(f/m*np.sin(control_start_angle) - g)*control_start_time**2,\n",
    "        (f/m*np.cos(control_start_angle))*control_start_time,\n",
    "        (f/m*np.sin(control_start_angle)-g)*control_start_time\n",
    "    ])"
   ]
  },
  {
   "cell_type": "code",
   "execution_count": 207,
   "metadata": {
    "collapsed": true
   },
   "outputs": [],
   "source": [
    "def rocket_gravity_turn(x, t, m=1.0, g=9.8, f=20.0, compute_derivatives=False):\n",
    "    \n",
    "    tan_phi = x[3]/x[2]\n",
    "    cos_phi = 1.0/np.sqrt(1 + tan_phi**2)\n",
    "    sin_phi = tan_phi * cos_phi\n",
    "    \n",
    "    deriv = np.array([\n",
    "        x[2]/m, x[3]/m,\n",
    "        f/m*cos_phi, f/m*sin_phi - m*g\n",
    "    ])\n",
    "    \n",
    "    if compute_derivatives:\n",
    "        d_cos_phi_d_tan_phi = -cos_phi/(1 + tan_phi**2)\n",
    "        d_sin_phi_d_tan_phi = tan_phi*d_cos_phi_d_tan_phi + cos_phi\n",
    "        \n",
    "        d_tan_phi_d_p_x = -tan_phi/x[2]\n",
    "        d_tan_phi_d_p_y = 1.0/x[2]\n",
    "        \n",
    "        d_cos_phi_d_p_x = d_cos_phi_d_tan_phi*d_tan_phi_d_p_x\n",
    "        d_cos_phi_d_p_y = d_cos_phi_d_tan_phi*d_tan_phi_d_p_y\n",
    "        d_sin_phi_d_p_x = d_sin_phi_d_tan_phi*d_tan_phi_d_p_x\n",
    "        d_sin_phi_d_p_y = d_sin_phi_d_tan_phi*d_tan_phi_d_p_y\n",
    "        \n",
    "        jac = np.array([\n",
    "                [0.0, 0.0, 1.0/m, 0.0],\n",
    "                [0.0, 0.0, 0.0, 1.0/m],\n",
    "                [0.0, 0.0, f*d_cos_phi_d_p_x, f*d_cos_phi_d_p_y],\n",
    "                [0.0, 0.0, f*d_sin_phi_d_p_x, f*d_sin_phi_d_p_y]\n",
    "            ])\n",
    "        return deriv, jac\n",
    "    else:\n",
    "        return deriv"
   ]
  },
  {
   "cell_type": "code",
   "execution_count": 208,
   "metadata": {
    "collapsed": true
   },
   "outputs": [],
   "source": [
    "result = rk2(rocket_gravity_turn,\n",
    "   inits,\n",
    "   control_start_time, 10.0, 0.01,\n",
    "   compute_derivatives=False)"
   ]
  },
  {
   "cell_type": "code",
   "execution_count": 209,
   "metadata": {
    "collapsed": false
   },
   "outputs": [],
   "source": [
    "final_position = result[\"X\"][-1,:]"
   ]
  },
  {
   "cell_type": "code",
   "execution_count": 210,
   "metadata": {
    "collapsed": false
   },
   "outputs": [
    {
     "data": {
      "text/plain": [
       "array([ 499.42250688,  328.87798087,  129.819676  ,   38.13137181])"
      ]
     },
     "execution_count": 210,
     "metadata": {},
     "output_type": "execute_result"
    }
   ],
   "source": [
    "final_position"
   ]
  },
  {
   "cell_type": "code",
   "execution_count": 212,
   "metadata": {
    "collapsed": false
   },
   "outputs": [
    {
     "data": {
      "text/plain": [
       "<matplotlib.collections.PathCollection at 0x7f5caa837410>"
      ]
     },
     "execution_count": 212,
     "metadata": {},
     "output_type": "execute_result"
    },
    {
     "data": {
      "image/png": "[encoded data removed]",
      "text/plain": [
       "<matplotlib.figure.Figure at 0x7f5cadff7510>"
      ]
     },
     "metadata": {},
     "output_type": "display_data"
    }
   ],
   "source": [
    "plt.plot(result[\"X\"][:,0],result[\"X\"][:,1])\n",
    "plt.scatter([final_position[0]], [final_position[1]])"
   ]
  },
  {
   "cell_type": "code",
   "execution_count": 213,
   "metadata": {
    "collapsed": true
   },
   "outputs": [],
   "source": [
    "def rocket(x, t, m=1.0, g=9.8, f=50.0, compute_derivatives=False):\n",
    "    \n",
    "    tan_phi_numerator = x[3] - m*x[7]\n",
    "    tan_phi_denominator = x[2] - m*x[6]\n",
    "    tan_phi = tan_phi_numerator/tan_phi_denominator\n",
    "    cos_phi = 1.0/np.sqrt(1 + tan_phi**2)\n",
    "    sin_phi = tan_phi * cos_phi\n",
    "    \n",
    "    deriv = np.array([x[2]/m, x[3]/m,\n",
    "             f*cos_phi, f*sin_phi - m*g,\n",
    "             0.0, 0.0,\n",
    "             f/m*cos_phi - x[4]/m, f/m*sin_phi - x[5]/m])\n",
    "    \n",
    "    if compute_derivatives:\n",
    "        d_cos_phi_d_tan_phi = -cos_phi/(1 + tan_phi**2)\n",
    "        d_sin_phi_d_tan_phi = tan_phi*d_cos_phi_d_tan_phi + cos_phi\n",
    "        \n",
    "        d_tan_phi_d_p_x = -tan_phi/tan_phi_denominator\n",
    "        d_tan_phi_d_p_y = 1.0/tan_phi_denominator\n",
    "        d_tan_phi_d_psi_p_x = m*tan_phi/tan_phi_denominator\n",
    "        d_tan_phi_d_psi_p_y = -m/tan_phi_denominator\n",
    "        \n",
    "        d_cos_phi_d_p_x = d_cos_phi_d_tan_phi*d_tan_phi_d_p_x\n",
    "        d_cos_phi_d_p_y = d_cos_phi_d_tan_phi*d_tan_phi_d_p_y\n",
    "        d_cos_phi_d_psi_p_x = d_cos_phi_d_tan_phi*d_tan_phi_d_psi_p_x\n",
    "        d_cos_phi_d_psi_p_y = d_cos_phi_d_tan_phi*d_tan_phi_d_psi_p_y\n",
    "        d_sin_phi_d_p_x = d_sin_phi_d_tan_phi*d_tan_phi_d_p_x\n",
    "        d_sin_phi_d_p_y = d_sin_phi_d_tan_phi*d_tan_phi_d_p_y\n",
    "        d_sin_phi_d_psi_p_x = d_sin_phi_d_tan_phi*d_tan_phi_d_psi_p_x\n",
    "        d_sin_phi_d_psi_p_y = d_sin_phi_d_tan_phi*d_tan_phi_d_psi_p_y\n",
    "        \n",
    "        jac = np.array([\n",
    "                [0, 0, 1/m, 0, 0, 0, 0, 0],\n",
    "                [0, 0, 0, 1/m, 0, 0, 0, 0],\n",
    "                [0, 0, f*d_cos_phi_d_p_x, f*d_cos_phi_d_p_y, \n",
    "                    0,0, f*d_cos_phi_d_psi_p_x, f*d_cos_phi_d_psi_p_y],\n",
    "                [0, 0, f*d_sin_phi_d_p_x, f*d_sin_phi_d_p_y, \n",
    "                    0,0, f*d_sin_phi_d_psi_p_x, f*d_sin_phi_d_psi_p_y],\n",
    "                [0, 0, 0, 0, 0, 0, 0, 0],\n",
    "                [0, 0, 0, 0, 0, 0, 0, 0],\n",
    "                [0, 0, f*d_cos_phi_d_p_x, f*d_cos_phi_d_p_y, \n",
    "                    -1/m, 0, f*d_cos_phi_d_psi_p_x, f*d_cos_phi_d_psi_p_y],\n",
    "                [0, 0, f*d_sin_phi_d_p_x, f*d_sin_phi_d_p_y, \n",
    "                    0, -1/m, f*d_sin_phi_d_psi_p_x, f*d_sin_phi_d_psi_p_y]])\n",
    "        return deriv, jac\n",
    "    else:\n",
    "        return deriv"
   ]
  },
  {
   "cell_type": "code",
   "execution_count": 214,
   "metadata": {
    "collapsed": true
   },
   "outputs": [],
   "source": [
    "def newton_interface(x, inits=np.zeros(4), max_time=4.0, dt=0.01):\n",
    "    result = rk2(rocket,\n",
    "        np.array([inits[0], inits[1], inits[2], inits[3],\n",
    "            x[0], x[1], x[2], x[3]]),\n",
    "        0.0, max_time, dt,\n",
    "        m=m, g=g, f=f,\n",
    "        compute_derivatives=True)\n",
    "    return result[\"X\"][-1,:4], result[\"derivs\"][:4, 4:]    "
   ]
  },
  {
   "cell_type": "code",
   "execution_count": 249,
   "metadata": {
    "collapsed": false
   },
   "outputs": [],
   "source": [
    "init_params = momentum_descent(\n",
    "    newton_interface,\n",
    "    final_position,\n",
    "    np.array([15.0, 10.0, 30, inits[3]/m + np.tan(control_start_angle)*(30 - inits[2]/m)]),\n",
    "    0.1,\n",
    "    1e-10,\n",
    "    inits=inits,\n",
    "    max_time=4.0,\n",
    "    dt=0.01)"
   ]
  },
  {
   "cell_type": "code",
   "execution_count": 250,
   "metadata": {
    "collapsed": false
   },
   "outputs": [
    {
     "data": {
      "text/plain": [
       "array([ 21336.26063623,   1946.83604858, -11252.27831305,  -1103.01298255])"
      ]
     },
     "execution_count": 250,
     "metadata": {},
     "output_type": "execute_result"
    }
   ],
   "source": [
    "init_params"
   ]
  },
  {
   "cell_type": "code",
   "execution_count": 251,
   "metadata": {
    "collapsed": true
   },
   "outputs": [],
   "source": [
    "good_inits = np.array([\n",
    "        inits[0], inits[1], inits[2], inits[3],\n",
    "        init_params[0], init_params[1], init_params[2], init_params[3]\n",
    "    ])"
   ]
  },
  {
   "cell_type": "code",
   "execution_count": 252,
   "metadata": {
    "collapsed": false
   },
   "outputs": [],
   "source": [
    "good_result = rk2(\n",
    "    rocket,\n",
    "    good_inits,\n",
    "    0.0, 4.0, 0.01,\n",
    "    m=m, g=g, f=f,\n",
    "    compute_derivatives=False)\n"
   ]
  },
  {
   "cell_type": "code",
   "execution_count": 253,
   "metadata": {
    "collapsed": false
   },
   "outputs": [
    {
     "data": {
      "text/plain": [
       "[<matplotlib.lines.Line2D at 0x7f5cae760810>]"
      ]
     },
     "execution_count": 253,
     "metadata": {},
     "output_type": "execute_result"
    },
    {
     "data": {
      "image/png": "[encoded data removed]",
      "text/plain": [
       "<matplotlib.figure.Figure at 0x7f5cacf9bfd0>"
      ]
     },
     "metadata": {},
     "output_type": "display_data"
    }
   ],
   "source": [
    "plt.plot(result[\"X\"][:,0],result[\"X\"][:,1])\n",
    "plt.plot(good_result[\"X\"][:,0], good_result[\"X\"][:,1])"
   ]
  },
  {
   "cell_type": "code",
   "execution_count": 254,
   "metadata": {
    "collapsed": false
   },
   "outputs": [
    {
     "data": {
      "text/plain": [
       "[<matplotlib.lines.Line2D at 0x7f5ca839ec90>]"
      ]
     },
     "execution_count": 254,
     "metadata": {},
     "output_type": "execute_result"
    },
    {
     "data": {
      "image/png": "[encoded data removed]",
      "text/plain": [
       "<matplotlib.figure.Figure at 0x7f5cb7a28ad0>"
      ]
     },
     "metadata": {},
     "output_type": "display_data"
    }
   ],
   "source": [
    "tan_theta = (good_result[\"X\"][:,3] - m*good_result[\"X\"][:,7])/(good_result[\"X\"][:,2] - m*good_result[\"X\"][:,6])\n",
    "plt.plot(good_result[\"T\"], tan_theta)\n",
    "plt.plot(result[\"T\"], result[\"X\"][:,3]/result[\"X\"][:,2])"
   ]
  },
  {
   "cell_type": "code",
   "execution_count": null,
   "metadata": {
    "collapsed": true
   },
   "outputs": [],
   "source": [
    "(p_y - m psi_p_y)/(p_x - m_psi_p_x) = tantheta\n",
    "py - m ppy = tantheta (px - m ppx)\n",
    "ppy = py/m + tantheta ( ppx - px/m)"
   ]
  }
 ],
 "metadata": {
  "kernelspec": {
   "display_name": "Python 2",
   "language": "python",
   "name": "python2"
  },
  "language_info": {
   "codemirror_mode": {
    "name": "ipython",
    "version": 2
   },
   "file_extension": ".py",
   "mimetype": "text/x-python",
   "name": "python",
   "nbconvert_exporter": "python",
   "pygments_lexer": "ipython2",
   "version": "2.7.10"
  }
 },
 "nbformat": 4,
 "nbformat_minor": 0
}
