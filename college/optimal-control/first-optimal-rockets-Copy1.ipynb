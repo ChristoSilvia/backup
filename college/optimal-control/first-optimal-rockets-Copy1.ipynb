{
 "cells": [
  {
   "cell_type": "code",
   "execution_count": 723,
   "metadata": {
    "collapsed": true
   },
   "outputs": [],
   "source": [
    "%matplotlib inline\n",
    "import numpy as np\n",
    "from scipy.integrate import odeint\n",
    "from scipy.optimize import root\n",
    "import matplotlib.pyplot as plt"
   ]
  },
  {
   "cell_type": "code",
   "execution_count": 724,
   "metadata": {
    "collapsed": true
   },
   "outputs": [],
   "source": [
    "g = 9.8 # m/sec^2\n",
    "m_0 = 5 # kg\n",
    "b = 0.2 # kg/sec\n",
    "f = 100 # N\n",
    "mass_fraction = 0.85"
   ]
  },
  {
   "cell_type": "code",
   "execution_count": 725,
   "metadata": {
    "collapsed": false
   },
   "outputs": [
    {
     "data": {
      "text/plain": [
       "25.0"
      ]
     },
     "execution_count": 725,
     "metadata": {},
     "output_type": "execute_result"
    }
   ],
   "source": [
    "m_0/b"
   ]
  },
  {
   "cell_type": "code",
   "execution_count": 726,
   "metadata": {
    "collapsed": true
   },
   "outputs": [],
   "source": [
    "def func(state,t):\n",
    "    x,y = state[0], state[1]\n",
    "    p_x, p_y = state[2], state[3]\n",
    "    psi_x, psi_y = state[4], state[5]\n",
    "    psi_p_x, psi_p_y = state[6], state[7]\n",
    "    \n",
    "    if t > m_0/b*mass_fraction:\n",
    "        m = m_0*(1.0 - mass_fraction)\n",
    "        phi = np.arctan(p_y/p_x)\n",
    "        return np.array([p_x/m, p_y/m, 0.0, -m*g, 0.0, 0.0, 0.0, 0.0])\n",
    "    \n",
    "    else:\n",
    "        m = m_0 - b * t\n",
    "        #phi = np.arctan2(p_y - m*psi_p_y , p_x -  m*psi_p_x)\n",
    "        phi = np.arctan((p_y - m*psi_p_y)/(p_x -  m*psi_p_x))\n",
    "    \n",
    "        return np.array([p_x/m,\n",
    "                         p_y/m,\n",
    "                         f*np.cos(phi),\n",
    "                         f*np.sin(phi) - m*g,\n",
    "                         0.0,\n",
    "                         -b*g,\n",
    "                         -b*p_x/m**2+f/m*np.cos(phi) - psi_x/m,\n",
    "                         -b*p_y/m**2+f/m*np.sin(phi) - psi_y/m\n",
    "                        ])"
   ]
  },
  {
   "cell_type": "code",
   "execution_count": 727,
   "metadata": {
    "collapsed": true
   },
   "outputs": [],
   "source": [
    "initial_angle = 0.44*np.pi"
   ]
  },
  {
   "cell_type": "code",
   "execution_count": 728,
   "metadata": {
    "collapsed": true
   },
   "outputs": [],
   "source": [
    "no_burn_time = 0.001*m_0/b"
   ]
  },
  {
   "cell_type": "code",
   "execution_count": 729,
   "metadata": {
    "collapsed": false
   },
   "outputs": [],
   "source": [
    "p_x_0 = f/m_0*no_burn_time*np.cos(initial_angle)\n",
    "p_y_0 = f/m_0*no_burn_time*np.sin(initial_angle)"
   ]
  },
  {
   "cell_type": "code",
   "execution_count": 730,
   "metadata": {
    "collapsed": true
   },
   "outputs": [],
   "source": [
    "x_0 = 0.5*f/m_0*no_burn_time**2*np.cos(initial_angle)\n",
    "y_0 = 0.5*(f/m_0 - g)*no_burn_time**2*np.sin(initial_angle)"
   ]
  },
  {
   "cell_type": "code",
   "execution_count": 731,
   "metadata": {
    "collapsed": true
   },
   "outputs": [],
   "source": [
    "psi_x_0 = 1.0\n",
    "psi_y_0 = 0.0"
   ]
  },
  {
   "cell_type": "code",
   "execution_count": 732,
   "metadata": {
    "collapsed": false
   },
   "outputs": [],
   "source": [
    "A = np.array([[m_0*(m_0*g - psi_y_0),\n",
    "                  m_0*psi_x_0],\n",
    "              [m_0*np.tan(initial_angle), -m_0]])\n",
    "B = np.array([psi_x_0*p_y_0 - p_x_0*psi_y_0 + p_x_0*m_0*g, \n",
    "              -(p_y_0 -p_x_0*np.tan(initial_angle))])\n",
    "x = np.linalg.solve(A,B)\n",
    "psi_p_x_0 = x[0]\n",
    "psi_p_y_0 = x[1]"
   ]
  },
  {
   "cell_type": "code",
   "execution_count": 733,
   "metadata": {
    "collapsed": true
   },
   "outputs": [],
   "source": [
    "psi_p_x_0 = -6.0\n",
    "psi_p_y_0 = p_y_0/m_0 + np.tan(initial_angle)*(psi_p_x_0 - p_x_0/m_0)"
   ]
  },
  {
   "cell_type": "code",
   "execution_count": 734,
   "metadata": {
    "collapsed": false
   },
   "outputs": [
    {
     "data": {
      "text/plain": [
       "-6.0"
      ]
     },
     "execution_count": 734,
     "metadata": {},
     "output_type": "execute_result"
    }
   ],
   "source": [
    "psi_p_x_0"
   ]
  },
  {
   "cell_type": "code",
   "execution_count": 735,
   "metadata": {
    "collapsed": false
   },
   "outputs": [
    {
     "data": {
      "text/plain": [
       "-31.453101486679049"
      ]
     },
     "execution_count": 735,
     "metadata": {},
     "output_type": "execute_result"
    }
   ],
   "source": [
    "psi_p_y_0"
   ]
  },
  {
   "cell_type": "code",
   "execution_count": 736,
   "metadata": {
    "collapsed": false
   },
   "outputs": [
    {
     "data": {
      "text/plain": [
       "30.093690657292861"
      ]
     },
     "execution_count": 736,
     "metadata": {},
     "output_type": "execute_result"
    }
   ],
   "source": [
    "p_x_0 - m_0*psi_p_x_0"
   ]
  },
  {
   "cell_type": "code",
   "execution_count": 804,
   "metadata": {
    "collapsed": false
   },
   "outputs": [
    {
     "name": "stdout",
     "output_type": "stream",
     "text": [
      "{'final_speed': 134.25483303125768, 'final_altitude': 33.912876162639449, 'final_angle': -1.1504183956055378, 'climb_time': 3.0020483833643126}\n"
     ]
    },
    {
     "data": {
      "text/plain": [
       "[<matplotlib.lines.Line2D at 0x7f232dfad5d0>]"
      ]
     },
     "execution_count": 804,
     "metadata": {},
     "output_type": "execute_result"
    },
    {
     "data": {
      "image/png": "[encoded data removed]",
      "text/plain": [
       "<matplotlib.figure.Figure at 0x7f232d3c7b90>"
      ]
     },
     "metadata": {},
     "output_type": "display_data"
    }
   ],
   "source": [
    "initial_angle = 0.44*np.pi\n",
    "no_burn_time = 0.001*m_0/b\n",
    "p_x_0 = f/m_0*no_burn_time*np.cos(initial_angle)\n",
    "p_y_0 = f/m_0*no_burn_time*np.sin(initial_angle)\n",
    "x_0 = 0.5*f/m_0*no_burn_time**2*np.cos(initial_angle)\n",
    "y_0 = 0.5*(f/m_0 - g)*no_burn_time**2*np.sin(initial_angle)\n",
    "psi_x_0 = -5.0\n",
    "psi_y_0 = 10.0\n",
    "psi_p_x_0 = -3.0\n",
    "psi_p_y_0 = p_y_0/m_0 + np.tan(initial_angle)*(psi_p_x_0 - p_x_0/m_0)\n",
    "results = find_altitude_and_speed(\n",
    "    p_x_0, p_y_0, x_0, y_0,\n",
    "    psi_x_0, psi_y_0, psi_p_x_0, psi_p_y_0,\n",
    "    20, 1.0, 1e-4)\n",
    "print(results)\n",
    "\n",
    "state_0 = np.array([x_0, y_0, p_x_0, p_y_0, psi_x_0, psi_y_0, psi_p_x_0, psi_p_y_0])\n",
    "T = np.linspace(0, results['climb_time'])\n",
    "states = odeint(func, state_0, T)\n",
    "\n",
    "plt.subplots()\n",
    "plt.plot(states[:,0], states[:,1])"
   ]
  },
  {
   "cell_type": "code",
   "execution_count": 790,
   "metadata": {
    "collapsed": false
   },
   "outputs": [
    {
     "data": {
      "text/plain": [
       "  status: 1\n",
       " success: True\n",
       "     qtf: array([ -4.49809087e-05,  -1.03010949e-04,   2.40726506e-02])\n",
       "    nfev: 116\n",
       "       r: array([  26.07829679,  -15.73307397,  151.62355687,  -14.85006015,\n",
       "        136.19369424,  480.69425377])\n",
       "     fun: array([ 0.00058449,  0.00021764, -0.02406483])\n",
       "       x: array([ -1.90946793,  28.41837852,  -1.56942154])\n",
       " message: 'The solution converged.'\n",
       "    fjac: array([[-0.56750381,  0.82335865, -0.00446806],\n",
       "       [-0.82313512, -0.56746286, -0.0208441 ],\n",
       "       [ 0.01969763,  0.00815129, -0.99977275]])"
      ]
     },
     "execution_count": 790,
     "metadata": {},
     "output_type": "execute_result"
    }
   ],
   "source": [
    "find_costates(\n",
    "    x_0, y_0, p_x_0, p_y_0,\n",
    "    0.45*np.pi,\n",
    "    86.0, #desired final altitude(m)\n",
    "    320.0, #desired speed (m/s)\n",
    "    -0.40, # desired angle at altitude (radians)\n",
    "    -1.477,\n",
    "    25.8,\n",
    "    -1.89,\n",
    "    20, 1.0, 1e-4)"
   ]
  },
  {
   "cell_type": "code",
   "execution_count": 739,
   "metadata": {
    "collapsed": false
   },
   "outputs": [
    {
     "data": {
      "text/plain": [
       "1.382300767579509"
      ]
     },
     "execution_count": 739,
     "metadata": {},
     "output_type": "execute_result"
    }
   ],
   "source": [
    "initial_angle"
   ]
  },
  {
   "cell_type": "code",
   "execution_count": 740,
   "metadata": {
    "collapsed": false
   },
   "outputs": [
    {
     "data": {
      "text/plain": [
       "1.3823007675795089"
      ]
     },
     "execution_count": 740,
     "metadata": {},
     "output_type": "execute_result"
    }
   ],
   "source": [
    "np.arctan((p_y_0 - psi_p_y_0*m_0)/(p_x_0 - psi_p_x_0*m_0))"
   ]
  },
  {
   "cell_type": "code",
   "execution_count": 741,
   "metadata": {
    "collapsed": false
   },
   "outputs": [],
   "source": [
    "def find_altitude_and_speed(\n",
    "        p_x_0, p_y_0, x_0, y_0, \n",
    "        psi_x_0, psi_y_0, psi_p_x_0, psi_p_y_0,\n",
    "        n, checking_interval, tol):\n",
    "    \n",
    "    state_0 = np.array([x_0, y_0, p_x_0, p_y_0, psi_x_0, psi_y_0, psi_p_x_0, psi_p_y_0])\n",
    "\n",
    "    \n",
    "    t_interval_start = 0.0\n",
    "    p_y_f = float('inf') \n",
    "    \n",
    "    while np.abs(p_y_f) > tol:\n",
    "        #print(\"New interation starting at t={0}\".format(t_interval_start))\n",
    "        T = np.linspace(t_interval_start, t_interval_start+checking_interval, n)\n",
    "        states = odeint(func, state_0, T)\n",
    "        p_y_f = states[-1,3]\n",
    "        \n",
    "        if p_y_f > 0:\n",
    "            t_interval_start = t_interval_start + checking_interval\n",
    "            state_0 = states[-1,:]\n",
    "        else:\n",
    "            i_first_negative_vertical_momentum = np.argmax(states[:,3]<0)\n",
    "            i_last_positive_vertical_momentum = i_first_negative_vertical_momentum - 1\n",
    "            t_interval_start = T[i_last_positive_vertical_momentum]\n",
    "            checking_interval = T[i_first_negative_vertical_momentum] - t_interval_start\n",
    "            \n",
    "    m = (m_0 - b*(t_interval_start + checking_interval))\n",
    "    \n",
    "    info_dict = {}\n",
    "    info_dict['climb_time'] = t_interval_start + checking_interval\n",
    "    info_dict['final_altitude'] = states[-1,1]\n",
    "    info_dict['final_speed'] = states[-1,2]\n",
    "    info_dict['final_angle'] = np.arctan((states[-1,3] - m*states[-1, 7])/(states[-1,2] - m*states[-1,6]))\n",
    "    return info_dict"
   ]
  },
  {
   "cell_type": "code",
   "execution_count": 774,
   "metadata": {
    "collapsed": true
   },
   "outputs": [],
   "source": [
    "def find_costates(\n",
    "    x_0, y_0, p_x_0, p_y_0,\n",
    "    initial_angle,\n",
    "    desired_altitude,\n",
    "    desired_speed,\n",
    "    desired_angle_at_altitude,\n",
    "    guess_psi_x_0,\n",
    "    guess_psi_y_0,\n",
    "    guess_psi_p_x_0,\n",
    "    n, checking_interval, tol,\n",
    "    printing=False):\n",
    "    \n",
    "    def minimizee(a):\n",
    "        psi_x_0 = a[0]\n",
    "        psi_y_0 = a[1]\n",
    "        psi_p_x_0 = a[2]\n",
    "        psi_p_y_0 = p_y_0/m_0 + np.tan(initial_angle)*(psi_p_x_0 - p_x_0/m_0)\n",
    "        results = find_altitude_and_speed(\n",
    "            p_x_0, p_y_0, x_0, y_0, \n",
    "            psi_x_0, psi_y_0, psi_p_x_0, psi_p_y_0,\n",
    "            n, checking_interval, tol)\n",
    "        \n",
    "        if printing:\n",
    "            print(\"------\")\n",
    "            print(\"Parameters\")\n",
    "            print(\"psi_x_0: {0}\".format(a[0]))\n",
    "            print(\"psi_y_0: {0}\".format(a[1]))\n",
    "            print(\"psi_p_x_0: {0}\".format(a[2]))\n",
    "            print(\"Results\")\n",
    "            print(\"final altitude: {0} (desired was {1})\".format(results['final_altitude'], desired_altitude))\n",
    "            print(\"final speed: {0} (desired was {1})\".format(results['final_speed'], desired_speed))\n",
    "            print(\"final angle: {0} (desired was {1})\".format(results['final_angle'], desired_angle_at_altitude))\n",
    "        \n",
    "        return np.array([results['final_altitude'] - desired_altitude,\n",
    "                         results['final_speed'] - desired_speed,\n",
    "                         results['final_angle'] - desired_angle_at_altitude])\n",
    "    \n",
    "    \n",
    "    return root(minimizee, np.array([guess_psi_x_0, guess_psi_y_0, guess_psi_p_x_0]))"
   ]
  },
  {
   "cell_type": "code",
   "execution_count": 743,
   "metadata": {
    "collapsed": false
   },
   "outputs": [
    {
     "data": {
      "text/plain": [
       "2.0"
      ]
     },
     "execution_count": 743,
     "metadata": {},
     "output_type": "execute_result"
    }
   ],
   "source": [
    "np.ceil(1.2)"
   ]
  },
  {
   "cell_type": "code",
   "execution_count": 744,
   "metadata": {
    "collapsed": false
   },
   "outputs": [
    {
     "data": {
      "text/plain": [
       "-0.20000000000000001"
      ]
     },
     "execution_count": 744,
     "metadata": {},
     "output_type": "execute_result"
    }
   ],
   "source": [
    "v = np.array([1.0, 0.3, -0.2, -0.6])\n",
    "v[v<0][0]"
   ]
  },
  {
   "cell_type": "code",
   "execution_count": 745,
   "metadata": {
    "collapsed": false
   },
   "outputs": [
    {
     "data": {
      "text/plain": [
       "2"
      ]
     },
     "execution_count": 745,
     "metadata": {},
     "output_type": "execute_result"
    }
   ],
   "source": [
    "np.argmax(v<0)"
   ]
  },
  {
   "cell_type": "code",
   "execution_count": 746,
   "metadata": {
    "collapsed": false
   },
   "outputs": [
    {
     "data": {
      "text/plain": [
       "array([  1.17113322e-03,   3.13104061e-03,   9.36906573e-02,\n",
       "         4.91143625e-01,  -2.00000000e-02,   8.00000000e+00,\n",
       "        -5.00000000e+00,  -2.62109179e+01])"
      ]
     },
     "execution_count": 746,
     "metadata": {},
     "output_type": "execute_result"
    }
   ],
   "source": [
    "state_0 = np.array([x_0, y_0, p_x_0, p_y_0, psi_x_0, psi_y_0, psi_p_x_0, psi_p_y_0])\n",
    "state_0"
   ]
  },
  {
   "cell_type": "code",
   "execution_count": 747,
   "metadata": {
    "collapsed": false
   },
   "outputs": [
    {
     "data": {
      "text/plain": [
       "dtype('float64')"
      ]
     },
     "execution_count": 747,
     "metadata": {},
     "output_type": "execute_result"
    }
   ],
   "source": [
    "state_0.dtype"
   ]
  },
  {
   "cell_type": "code",
   "execution_count": 748,
   "metadata": {
    "collapsed": false
   },
   "outputs": [],
   "source": [
    "T = np.linspace(0, 5.873, 10000)"
   ]
  },
  {
   "cell_type": "code",
   "execution_count": 749,
   "metadata": {
    "collapsed": false
   },
   "outputs": [
    {
     "data": {
      "text/plain": [
       "dtype('float64')"
      ]
     },
     "execution_count": 749,
     "metadata": {},
     "output_type": "execute_result"
    }
   ],
   "source": [
    "T.dtype"
   ]
  },
  {
   "cell_type": "code",
   "execution_count": 750,
   "metadata": {
    "collapsed": false
   },
   "outputs": [],
   "source": [
    "States = odeint(func, state_0, T)"
   ]
  },
  {
   "cell_type": "code",
   "execution_count": 751,
   "metadata": {
    "collapsed": false
   },
   "outputs": [
    {
     "data": {
      "image/png": "[encoded data removed]",
      "text/plain": [
       "<matplotlib.figure.Figure at 0x7f232e2b0310>"
      ]
     },
     "metadata": {},
     "output_type": "display_data"
    }
   ],
   "source": [
    "plt.plot(States[:,0], States[:,1])\n",
    "box_size = max([np.max(States[:,0]), np.max(States[:,1])])\n",
    "plt.axis([0, box_size, 0, box_size]);"
   ]
  },
  {
   "cell_type": "code",
   "execution_count": 752,
   "metadata": {
    "collapsed": false
   },
   "outputs": [
    {
     "data": {
      "text/plain": [
       "[<matplotlib.lines.Line2D at 0x7f23314c9b10>]"
      ]
     },
     "execution_count": 752,
     "metadata": {},
     "output_type": "execute_result"
    },
    {
     "data": {
      "image/png": "[encoded data removed]",
      "text/plain": [
       "<matplotlib.figure.Figure at 0x7f232e30f090>"
      ]
     },
     "metadata": {},
     "output_type": "display_data"
    }
   ],
   "source": [
    "plt.plot(T, States[:,0])"
   ]
  },
  {
   "cell_type": "code",
   "execution_count": 753,
   "metadata": {
    "collapsed": false
   },
   "outputs": [
    {
     "data": {
      "text/plain": [
       "[<matplotlib.lines.Line2D at 0x7f2331ca0690>]"
      ]
     },
     "execution_count": 753,
     "metadata": {},
     "output_type": "execute_result"
    },
    {
     "data": {
      "image/png": "[encoded data removed]",
      "text/plain": [
       "<matplotlib.figure.Figure at 0x7f2331593c50>"
      ]
     },
     "metadata": {},
     "output_type": "display_data"
    }
   ],
   "source": [
    "plt.plot(T, States[:,1])"
   ]
  },
  {
   "cell_type": "code",
   "execution_count": 754,
   "metadata": {
    "collapsed": false
   },
   "outputs": [
    {
     "data": {
      "text/plain": [
       "[<matplotlib.lines.Line2D at 0x7f2331194810>]"
      ]
     },
     "execution_count": 754,
     "metadata": {},
     "output_type": "execute_result"
    },
    {
     "data": {
      "image/png": "[encoded data removed]",
      "text/plain": [
       "<matplotlib.figure.Figure at 0x7f2331326d10>"
      ]
     },
     "metadata": {},
     "output_type": "display_data"
    }
   ],
   "source": [
    "plt.plot(T, States[:,2])"
   ]
  },
  {
   "cell_type": "code",
   "execution_count": 755,
   "metadata": {
    "collapsed": false
   },
   "outputs": [
    {
     "data": {
      "text/plain": [
       "<matplotlib.text.Text at 0x7f2332a0eb90>"
      ]
     },
     "execution_count": 755,
     "metadata": {},
     "output_type": "execute_result"
    },
    {
     "data": {
      "image/png": "[encoded data removed]",
      "text/plain": [
       "<matplotlib.figure.Figure at 0x7f2331ce8c50>"
      ]
     },
     "metadata": {},
     "output_type": "display_data"
    }
   ],
   "source": [
    "plt.plot(T, States[:,3])\n",
    "plt.title(\"P_y as a function\")"
   ]
  },
  {
   "cell_type": "code",
   "execution_count": 756,
   "metadata": {
    "collapsed": true
   },
   "outputs": [],
   "source": [
    "m = m_0 - b*T"
   ]
  },
  {
   "cell_type": "code",
   "execution_count": 757,
   "metadata": {
    "collapsed": true
   },
   "outputs": [],
   "source": [
    "Heading = np.arctan((-States[:,7]*m + States[:,3])/( - States[:,6]*m + States[:,2]))"
   ]
  },
  {
   "cell_type": "code",
   "execution_count": 758,
   "metadata": {
    "collapsed": false
   },
   "outputs": [
    {
     "data": {
      "text/plain": [
       "[<matplotlib.lines.Line2D at 0x7f2331456d50>]"
      ]
     },
     "execution_count": 758,
     "metadata": {},
     "output_type": "execute_result"
    },
    {
     "data": {
      "image/png": "[encoded data removed]",
      "text/plain": [
       "<matplotlib.figure.Figure at 0x7f23315e2a10>"
      ]
     },
     "metadata": {},
     "output_type": "display_data"
    }
   ],
   "source": [
    "plt.plot(T[:100], Heading[:100])"
   ]
  },
  {
   "cell_type": "code",
   "execution_count": 759,
   "metadata": {
    "collapsed": false
   },
   "outputs": [
    {
     "data": {
      "text/plain": [
       "[<matplotlib.lines.Line2D at 0x7f232df98050>]"
      ]
     },
     "execution_count": 759,
     "metadata": {},
     "output_type": "execute_result"
    },
    {
     "data": {
      "image/png": "[encoded data removed]",
      "text/plain": [
       "<matplotlib.figure.Figure at 0x7f232dff3bd0>"
      ]
     },
     "metadata": {},
     "output_type": "display_data"
    }
   ],
   "source": [
    "plt.plot(T, np.sin(Heading))"
   ]
  },
  {
   "cell_type": "code",
   "execution_count": 760,
   "metadata": {
    "collapsed": false
   },
   "outputs": [
    {
     "data": {
      "text/plain": [
       "array([ 1.57079633])"
      ]
     },
     "execution_count": 760,
     "metadata": {},
     "output_type": "execute_result"
    }
   ],
   "source": [
    "from scipy.optimize import fsolve\n",
    "fsolve(np.cos, 1.5)"
   ]
  },
  {
   "cell_type": "code",
   "execution_count": 761,
   "metadata": {
    "collapsed": true
   },
   "outputs": [],
   "source": [
    "def test(x):\n",
    "    if x[0] > 1.55:\n",
    "        return np.array([float('inf'), np.exp(x[0]) - x[1]])\n",
    "    else:\n",
    "        return np.array([x[1]*np.cos(x[0]), np.exp(x[0]) - x[1]])"
   ]
  },
  {
   "cell_type": "code",
   "execution_count": 762,
   "metadata": {
    "collapsed": false
   },
   "outputs": [
    {
     "data": {
      "text/plain": [
       "  status: 5\n",
       " success: False\n",
       "     qtf: array([ 1.11440235, -0.99927157])\n",
       "    nfev: 15\n",
       "       r: array([ nan,  nan,  nan])\n",
       "     fun: array([ 0.21221161,  1.48168907])\n",
       "       x: array([ 1.5,  3. ])\n",
       " message: 'The iteration is not making good progress, as measured by the \\n  improvement from the last ten iterations.'\n",
       "    fjac: array([[ nan,  nan],\n",
       "       [ nan,  nan]])"
      ]
     },
     "execution_count": 762,
     "metadata": {},
     "output_type": "execute_result"
    }
   ],
   "source": [
    "from scipy.optimize import root\n",
    "root(test, np.array([1.5, 3.0]))"
   ]
  },
  {
   "cell_type": "code",
   "execution_count": null,
   "metadata": {
    "collapsed": true
   },
   "outputs": [],
   "source": []
  }
 ],
 "metadata": {
  "kernelspec": {
   "display_name": "Python 2",
   "language": "python",
   "name": "python2"
  },
  "language_info": {
   "codemirror_mode": {
    "name": "ipython",
    "version": 2
   },
   "file_extension": ".py",
   "mimetype": "text/x-python",
   "name": "python",
   "nbconvert_exporter": "python",
   "pygments_lexer": "ipython2",
   "version": "2.7.10"
  }
 },
 "nbformat": 4,
 "nbformat_minor": 0
}
