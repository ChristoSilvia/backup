{
 "cells": [
  {
   "cell_type": "code",
   "execution_count": 1,
   "metadata": {
    "collapsed": true
   },
   "outputs": [],
   "source": [
    "%matplotlib inline\n",
    "import numpy as np\n",
    "from scipy.integrate import odeint\n",
    "from scipy.optimize import root\n",
    "import matplotlib.pyplot as plt"
   ]
  },
  {
   "cell_type": "code",
   "execution_count": 2,
   "metadata": {
    "collapsed": true
   },
   "outputs": [],
   "source": [
    "g = 1.622 # m/sec^2\n",
    "m_0 = 4700.0 # kg\n",
    "f = 16000.0 # N\n",
    "i_sp = 311.0 #sec\n",
    "v_exhaust = 9.8 * i_sp # m/sec\n",
    "b = f / v_exhaust# kg/sec\n",
    "mass_fraction = 2353.0/m_0 # dimensionless"
   ]
  },
  {
   "cell_type": "code",
   "execution_count": 3,
   "metadata": {
    "collapsed": false
   },
   "outputs": [
    {
     "data": {
      "text/plain": [
       "895.2912500000001"
      ]
     },
     "execution_count": 3,
     "metadata": {},
     "output_type": "execute_result"
    }
   ],
   "source": [
    "m_0/b"
   ]
  },
  {
   "cell_type": "code",
   "execution_count": 4,
   "metadata": {
    "collapsed": true
   },
   "outputs": [],
   "source": [
    "def func(state,t):\n",
    "    x,y = state[0], state[1]\n",
    "    p_x, p_y = state[2], state[3]\n",
    "    psi_x, psi_y = state[4], state[5]\n",
    "    psi_p_x, psi_p_y = state[6], state[7]\n",
    "    \n",
    "    if t > m_0/b*mass_fraction:\n",
    "        m = m_0*(1.0 - mass_fraction)\n",
    "        phi = np.arctan(p_y/p_x)\n",
    "        return np.array([p_x/m, p_y/m, 0.0, -m*g, 0.0, 0.0, 0.0, 0.0])\n",
    "    \n",
    "    else:\n",
    "        m = m_0 - b * t\n",
    "        #phi = np.arctan2(p_y - m*psi_p_y , p_x -  m*psi_p_x)\n",
    "        phi = np.arctan((p_y - m*psi_p_y)/(p_x -  m*psi_p_x))\n",
    "    \n",
    "        return np.array([p_x/m,\n",
    "                         p_y/m,\n",
    "                         f*np.cos(phi),\n",
    "                         f*np.sin(phi) - m*g,\n",
    "                         0.0,\n",
    "                         -b*g,\n",
    "                         -b*p_x/m**2+f/m*np.cos(phi) - psi_x/m,\n",
    "                         -b*p_y/m**2+f/m*np.sin(phi) - psi_y/m\n",
    "                        ])"
   ]
  },
  {
   "cell_type": "code",
   "execution_count": 5,
   "metadata": {
    "collapsed": false
   },
   "outputs": [],
   "source": [
    "def find_altitude_and_speed(\n",
    "        p_x_0, p_y_0, x_0, y_0, \n",
    "        psi_x_0, psi_y_0, psi_p_x_0, psi_p_y_0,\n",
    "        n, checking_interval, tol):\n",
    "    \n",
    "    state_0 = np.array([x_0, y_0, p_x_0, p_y_0, psi_x_0, psi_y_0, psi_p_x_0, psi_p_y_0])\n",
    "\n",
    "    \n",
    "    t_interval_start = 0.0\n",
    "    p_y_f = float('inf') \n",
    "    \n",
    "    while np.abs(p_y_f) > tol:\n",
    "        #print(\"New interation starting at t={0}\".format(t_interval_start))\n",
    "        T = np.linspace(t_interval_start, t_interval_start+checking_interval, n)\n",
    "        states = odeint(func, state_0, T)\n",
    "        p_y_f = states[-1,3]\n",
    "        \n",
    "        if p_y_f > 0:\n",
    "            t_interval_start = t_interval_start + checking_interval\n",
    "            state_0 = states[-1,:]\n",
    "        else:\n",
    "            i_first_negative_vertical_momentum = np.argmax(states[:,3]<0)\n",
    "            i_last_positive_vertical_momentum = i_first_negative_vertical_momentum - 1\n",
    "            t_interval_start = T[i_last_positive_vertical_momentum]\n",
    "            checking_interval = T[i_first_negative_vertical_momentum] - t_interval_start\n",
    "            \n",
    "    m = (m_0 - b*(t_interval_start + checking_interval))\n",
    "    \n",
    "    info_dict = {}\n",
    "    info_dict['climb_time'] = t_interval_start + checking_interval\n",
    "    info_dict['final_altitude'] = states[-1,1]\n",
    "    info_dict['final_speed'] = states[-1,2]\n",
    "    info_dict['final_angle'] = np.arctan((states[-1,3] - m*states[-1, 7])/(states[-1,2] - m*states[-1,6]))\n",
    "    return info_dict"
   ]
  },
  {
   "cell_type": "code",
   "execution_count": 6,
   "metadata": {
    "collapsed": true
   },
   "outputs": [],
   "source": [
    "def find_costates(\n",
    "    x_0, y_0, p_x_0, p_y_0,\n",
    "    initial_angle,\n",
    "    desired_altitude,\n",
    "    desired_speed,\n",
    "    desired_angle_at_altitude,\n",
    "    guess_psi_x_0,\n",
    "    guess_psi_y_0,\n",
    "    guess_psi_p_x_0,\n",
    "    n, checking_interval, tol,\n",
    "    printing=False):\n",
    "    \n",
    "    def minimizee(a):\n",
    "        psi_x_0 = a[0]\n",
    "        psi_y_0 = a[1]\n",
    "        psi_p_x_0 = a[2]\n",
    "        psi_p_y_0 = p_y_0/m_0 + np.tan(initial_angle)*(psi_p_x_0 - p_x_0/m_0)\n",
    "        results = find_altitude_and_speed(\n",
    "            p_x_0, p_y_0, x_0, y_0, \n",
    "            psi_x_0, psi_y_0, psi_p_x_0, psi_p_y_0,\n",
    "            n, checking_interval, tol)\n",
    "        \n",
    "        if printing:\n",
    "            print(\"------\")\n",
    "            print(\"Parameters\")\n",
    "            print(\"psi_x_0: {0}\".format(a[0]))\n",
    "            print(\"psi_y_0: {0}\".format(a[1]))\n",
    "            print(\"psi_p_x_0: {0}\".format(a[2]))\n",
    "            print(\"Results\")\n",
    "            print(\"final altitude: {0} (desired was {1})\".format(results['final_altitude'], desired_altitude))\n",
    "            print(\"final speed: {0} (desired was {1})\".format(results['final_speed'], desired_speed))\n",
    "            print(\"final angle: {0} (desired was {1})\".format(results['final_angle'], desired_angle_at_altitude))\n",
    "        \n",
    "        return np.array([results['final_altitude'] - desired_altitude,\n",
    "                         results['final_speed'] - desired_speed,\n",
    "                         results['final_angle'] - desired_angle_at_altitude])\n",
    "    \n",
    "    \n",
    "    return root(minimizee, np.array([guess_psi_x_0, guess_psi_y_0, guess_psi_p_x_0]))"
   ]
  },
  {
   "cell_type": "code",
   "execution_count": 7,
   "metadata": {
    "collapsed": true
   },
   "outputs": [],
   "source": [
    "initial_angle = 0.44*np.pi"
   ]
  },
  {
   "cell_type": "code",
   "execution_count": 8,
   "metadata": {
    "collapsed": true
   },
   "outputs": [],
   "source": [
    "no_burn_time = 0.001*m_0/b"
   ]
  },
  {
   "cell_type": "code",
   "execution_count": 9,
   "metadata": {
    "collapsed": false
   },
   "outputs": [],
   "source": [
    "p_x_0 = f/m_0*no_burn_time*np.cos(initial_angle)\n",
    "p_y_0 = f/m_0*no_burn_time*np.sin(initial_angle)"
   ]
  },
  {
   "cell_type": "code",
   "execution_count": 10,
   "metadata": {
    "collapsed": true
   },
   "outputs": [],
   "source": [
    "x_0 = 0.5*f/m_0*no_burn_time**2*np.cos(initial_angle)\n",
    "y_0 = 0.5*(f/m_0 - g)*no_burn_time**2*np.sin(initial_angle)"
   ]
  },
  {
   "cell_type": "code",
   "execution_count": 11,
   "metadata": {
    "collapsed": true
   },
   "outputs": [],
   "source": [
    "psi_x_0 = 1.0\n",
    "psi_y_0 = 0.0"
   ]
  },
  {
   "cell_type": "code",
   "execution_count": 12,
   "metadata": {
    "collapsed": false
   },
   "outputs": [],
   "source": [
    "A = np.array([[m_0*(m_0*g - psi_y_0),\n",
    "                  m_0*psi_x_0],\n",
    "              [m_0*np.tan(initial_angle), -m_0]])\n",
    "B = np.array([psi_x_0*p_y_0 - p_x_0*psi_y_0 + p_x_0*m_0*g, \n",
    "              -(p_y_0 -p_x_0*np.tan(initial_angle))])\n",
    "x = np.linalg.solve(A,B)\n",
    "psi_p_x_0 = x[0]\n",
    "psi_p_y_0 = x[1]"
   ]
  },
  {
   "cell_type": "code",
   "execution_count": 13,
   "metadata": {
    "collapsed": true
   },
   "outputs": [],
   "source": [
    "psi_p_x_0 = -6.0\n",
    "psi_p_y_0 = p_y_0/m_0 + np.tan(initial_angle)*(psi_p_x_0 - p_x_0/m_0)"
   ]
  },
  {
   "cell_type": "code",
   "execution_count": 14,
   "metadata": {
    "collapsed": false
   },
   "outputs": [
    {
     "data": {
      "text/plain": [
       "-6.0"
      ]
     },
     "execution_count": 14,
     "metadata": {},
     "output_type": "execute_result"
    }
   ],
   "source": [
    "psi_p_x_0"
   ]
  },
  {
   "cell_type": "code",
   "execution_count": 15,
   "metadata": {
    "collapsed": false
   },
   "outputs": [
    {
     "data": {
      "text/plain": [
       "-31.453101486679042"
      ]
     },
     "execution_count": 15,
     "metadata": {},
     "output_type": "execute_result"
    }
   ],
   "source": [
    "psi_p_y_0"
   ]
  },
  {
   "cell_type": "code",
   "execution_count": 16,
   "metadata": {
    "collapsed": false
   },
   "outputs": [
    {
     "data": {
      "text/plain": [
       "28200.571100770594"
      ]
     },
     "execution_count": 16,
     "metadata": {},
     "output_type": "execute_result"
    }
   ],
   "source": [
    "p_x_0 - m_0*psi_p_x_0"
   ]
  },
  {
   "cell_type": "code",
   "execution_count": 17,
   "metadata": {
    "collapsed": false
   },
   "outputs": [
    {
     "name": "stdout",
     "output_type": "stream",
     "text": [
      "{'final_speed': 111265.6893384135, 'final_altitude': 97.227101301878619, 'final_angle': -1.0250556540572042, 'climb_time': 13.11082923497597}\n"
     ]
    },
    {
     "data": {
      "text/plain": [
       "[<matplotlib.lines.Line2D at 0x7f714f244dd0>]"
      ]
     },
     "execution_count": 17,
     "metadata": {},
     "output_type": "execute_result"
    },
    {
     "data": {
      "image/png": "[encoded data removed]",
      "text/plain": [
       "<matplotlib.figure.Figure at 0x7f714f244e10>"
      ]
     },
     "metadata": {},
     "output_type": "display_data"
    }
   ],
   "source": [
    "initial_angle = 0.44*np.pi\n",
    "no_burn_time = 0.001*m_0/b\n",
    "p_x_0 = f/m_0*no_burn_time*np.cos(initial_angle)\n",
    "p_y_0 = f/m_0*no_burn_time*np.sin(initial_angle)\n",
    "x_0 = 0.5*f/m_0*no_burn_time**2*np.cos(initial_angle)\n",
    "y_0 = 0.5*(f/m_0 - g)*no_burn_time**2*np.sin(initial_angle)\n",
    "psi_x_0 = -5.0\n",
    "psi_y_0 = 10.0\n",
    "psi_p_x_0 = -3.0\n",
    "psi_p_y_0 = p_y_0/m_0 + np.tan(initial_angle)*(psi_p_x_0 - p_x_0/m_0)\n",
    "results = find_altitude_and_speed(\n",
    "    p_x_0, p_y_0, x_0, y_0,\n",
    "    psi_x_0, psi_y_0, psi_p_x_0, psi_p_y_0,\n",
    "    20, 1.0, 1e-4)\n",
    "print(results)\n",
    "\n",
    "state_0 = np.array([x_0, y_0, p_x_0, p_y_0, psi_x_0, psi_y_0, psi_p_x_0, psi_p_y_0])\n",
    "T = np.linspace(0, results['climb_time'])\n",
    "states = odeint(func, state_0, T)\n",
    "\n",
    "plt.subplots()\n",
    "plt.plot(states[:,0], states[:,1])"
   ]
  },
  {
   "cell_type": "code",
   "execution_count": 18,
   "metadata": {
    "collapsed": false
   },
   "outputs": [
    {
     "name": "stderr",
     "output_type": "stream",
     "text": [
      "/home/chris/.anaconda2/lib/python2.7/site-packages/scipy/optimize/minpack.py:236: RuntimeWarning: The iteration is not making good progress, as measured by the \n",
      "  improvement from the last ten iterations.\n",
      "  warnings.warn(msg, RuntimeWarning)\n"
     ]
    },
    {
     "data": {
      "text/plain": [
       "  status: 5\n",
       " success: False\n",
       "     qtf: array([ -2.2425566 , -83.93371596,  13.09007208])\n",
       "    nfev: 39\n",
       "       r: array([  2.20998220e-04,   1.94010410e-04,   5.13079633e+01,\n",
       "        -4.55754861e-06,  -1.25191144e+00,   1.88528808e-09])\n",
       "     fun: array([-84.96877339,   0.44159208,  -1.16336972])\n",
       "       x: array([ -1.78578575e+08,   5.46150245e+09,  -1.98838591e+04])\n",
       " message: 'The iteration is not making good progress, as measured by the \\n  improvement from the last ten iterations.'\n",
       "    fjac: array([[  2.12390946e-02,  -9.99768492e-01,  -3.44438556e-03],\n",
       "       [  9.89852949e-01,   2.15123511e-02,  -1.40457674e-01],\n",
       "       [ -1.40499254e-01,   4.26241387e-04,  -9.90080693e-01]])"
      ]
     },
     "execution_count": 18,
     "metadata": {},
     "output_type": "execute_result"
    }
   ],
   "source": [
    "find_costates(\n",
    "    x_0, y_0, p_x_0, p_y_0,\n",
    "    0.45*np.pi,\n",
    "    86.0, #desired final altitude(m)\n",
    "    320.0, #desired speed (m/s)\n",
    "    -0.40, # desired angle at altitude (radians)\n",
    "    -1.477,\n",
    "    25.8,\n",
    "    -1.89,\n",
    "    20, 1.0, 1e-4)"
   ]
  },
  {
   "cell_type": "code",
   "execution_count": 19,
   "metadata": {
    "collapsed": false
   },
   "outputs": [
    {
     "data": {
      "text/plain": [
       "1.382300767579509"
      ]
     },
     "execution_count": 19,
     "metadata": {},
     "output_type": "execute_result"
    }
   ],
   "source": [
    "initial_angle"
   ]
  },
  {
   "cell_type": "code",
   "execution_count": 20,
   "metadata": {
    "collapsed": false
   },
   "outputs": [
    {
     "data": {
      "text/plain": [
       "1.3823007675795089"
      ]
     },
     "execution_count": 20,
     "metadata": {},
     "output_type": "execute_result"
    }
   ],
   "source": [
    "np.arctan((p_y_0 - psi_p_y_0*m_0)/(p_x_0 - psi_p_x_0*m_0))"
   ]
  },
  {
   "cell_type": "code",
   "execution_count": 21,
   "metadata": {
    "collapsed": false
   },
   "outputs": [
    {
     "data": {
      "text/plain": [
       "2.0"
      ]
     },
     "execution_count": 21,
     "metadata": {},
     "output_type": "execute_result"
    }
   ],
   "source": [
    "np.ceil(1.2)"
   ]
  },
  {
   "cell_type": "code",
   "execution_count": 22,
   "metadata": {
    "collapsed": false
   },
   "outputs": [
    {
     "data": {
      "text/plain": [
       "-0.20000000000000001"
      ]
     },
     "execution_count": 22,
     "metadata": {},
     "output_type": "execute_result"
    }
   ],
   "source": [
    "v = np.array([1.0, 0.3, -0.2, -0.6])\n",
    "v[v<0][0]"
   ]
  },
  {
   "cell_type": "code",
   "execution_count": 23,
   "metadata": {
    "collapsed": false
   },
   "outputs": [
    {
     "data": {
      "text/plain": [
       "2"
      ]
     },
     "execution_count": 23,
     "metadata": {},
     "output_type": "execute_result"
    }
   ],
   "source": [
    "np.argmax(v<0)"
   ]
  },
  {
   "cell_type": "code",
   "execution_count": 24,
   "metadata": {
    "collapsed": false
   },
   "outputs": [
    {
     "data": {
      "text/plain": [
       "array([  0.25565076,   0.70162832,   0.57110077,   2.99381508,\n",
       "        -5.        ,  10.        ,  -3.        , -15.72655074])"
      ]
     },
     "execution_count": 24,
     "metadata": {},
     "output_type": "execute_result"
    }
   ],
   "source": [
    "state_0 = np.array([x_0, y_0, p_x_0, p_y_0, psi_x_0, psi_y_0, psi_p_x_0, psi_p_y_0])\n",
    "state_0"
   ]
  },
  {
   "cell_type": "code",
   "execution_count": 25,
   "metadata": {
    "collapsed": false
   },
   "outputs": [
    {
     "data": {
      "text/plain": [
       "dtype('float64')"
      ]
     },
     "execution_count": 25,
     "metadata": {},
     "output_type": "execute_result"
    }
   ],
   "source": [
    "state_0.dtype"
   ]
  },
  {
   "cell_type": "code",
   "execution_count": 26,
   "metadata": {
    "collapsed": false
   },
   "outputs": [],
   "source": [
    "T = np.linspace(0, 5.873, 10000)"
   ]
  },
  {
   "cell_type": "code",
   "execution_count": 27,
   "metadata": {
    "collapsed": false
   },
   "outputs": [
    {
     "data": {
      "text/plain": [
       "dtype('float64')"
      ]
     },
     "execution_count": 27,
     "metadata": {},
     "output_type": "execute_result"
    }
   ],
   "source": [
    "T.dtype"
   ]
  },
  {
   "cell_type": "code",
   "execution_count": 28,
   "metadata": {
    "collapsed": false
   },
   "outputs": [],
   "source": [
    "States = odeint(func, state_0, T)"
   ]
  },
  {
   "cell_type": "code",
   "execution_count": 29,
   "metadata": {
    "collapsed": false
   },
   "outputs": [
    {
     "data": {
      "image/png": "[encoded data removed]",
      "text/plain": [
       "<matplotlib.figure.Figure at 0x7f714f24e4d0>"
      ]
     },
     "metadata": {},
     "output_type": "display_data"
    }
   ],
   "source": [
    "plt.plot(States[:,0], States[:,1])\n",
    "box_size = max([np.max(States[:,0]), np.max(States[:,1])])\n",
    "plt.axis([0, box_size, 0, box_size]);"
   ]
  },
  {
   "cell_type": "code",
   "execution_count": 30,
   "metadata": {
    "collapsed": false
   },
   "outputs": [
    {
     "data": {
      "text/plain": [
       "[<matplotlib.lines.Line2D at 0x7f714cb97910>]"
      ]
     },
     "execution_count": 30,
     "metadata": {},
     "output_type": "execute_result"
    },
    {
     "data": {
      "image/png": "[encoded data removed]",
      "text/plain": [
       "<matplotlib.figure.Figure at 0x7f714cc9dd90>"
      ]
     },
     "metadata": {},
     "output_type": "display_data"
    }
   ],
   "source": [
    "plt.plot(T, States[:,0])"
   ]
  },
  {
   "cell_type": "code",
   "execution_count": 31,
   "metadata": {
    "collapsed": false
   },
   "outputs": [
    {
     "data": {
      "text/plain": [
       "[<matplotlib.lines.Line2D at 0x7f714cad3750>]"
      ]
     },
     "execution_count": 31,
     "metadata": {},
     "output_type": "execute_result"
    },
    {
     "data": {
      "image/png": "[encoded data removed]",
      "text/plain": [
       "<matplotlib.figure.Figure at 0x7f714cbb1150>"
      ]
     },
     "metadata": {},
     "output_type": "display_data"
    }
   ],
   "source": [
    "plt.plot(T, States[:,1])"
   ]
  },
  {
   "cell_type": "code",
   "execution_count": 32,
   "metadata": {
    "collapsed": false
   },
   "outputs": [
    {
     "data": {
      "text/plain": [
       "[<matplotlib.lines.Line2D at 0x7f714ca065d0>]"
      ]
     },
     "execution_count": 32,
     "metadata": {},
     "output_type": "execute_result"
    },
    {
     "data": {
      "image/png": "[encoded data removed]",
      "text/plain": [
       "<matplotlib.figure.Figure at 0x7f714cae9250>"
      ]
     },
     "metadata": {},
     "output_type": "display_data"
    }
   ],
   "source": [
    "plt.plot(T, States[:,2])"
   ]
  },
  {
   "cell_type": "code",
   "execution_count": 33,
   "metadata": {
    "collapsed": false
   },
   "outputs": [
    {
     "data": {
      "text/plain": [
       "<matplotlib.text.Text at 0x7f714cd8dd10>"
      ]
     },
     "execution_count": 33,
     "metadata": {},
     "output_type": "execute_result"
    },
    {
     "data": {
      "image/png": "[encoded data removed]",
      "text/plain": [
       "<matplotlib.figure.Figure at 0x7f714ca43c90>"
      ]
     },
     "metadata": {},
     "output_type": "display_data"
    }
   ],
   "source": [
    "plt.plot(T, States[:,3])\n",
    "plt.title(\"P_y as a function\")"
   ]
  },
  {
   "cell_type": "code",
   "execution_count": 34,
   "metadata": {
    "collapsed": true
   },
   "outputs": [],
   "source": [
    "m = m_0 - b*T"
   ]
  },
  {
   "cell_type": "code",
   "execution_count": 35,
   "metadata": {
    "collapsed": true
   },
   "outputs": [],
   "source": [
    "Heading = np.arctan((-States[:,7]*m + States[:,3])/( - States[:,6]*m + States[:,2]))"
   ]
  },
  {
   "cell_type": "code",
   "execution_count": 36,
   "metadata": {
    "collapsed": false
   },
   "outputs": [
    {
     "data": {
      "text/plain": [
       "[<matplotlib.lines.Line2D at 0x7f714c8e2b50>]"
      ]
     },
     "execution_count": 36,
     "metadata": {},
     "output_type": "execute_result"
    },
    {
     "data": {
      "image/png": "[encoded data removed]",
      "text/plain": [
       "<matplotlib.figure.Figure at 0x7f714c9f2790>"
      ]
     },
     "metadata": {},
     "output_type": "display_data"
    }
   ],
   "source": [
    "plt.plot(T[:100], Heading[:100])"
   ]
  },
  {
   "cell_type": "code",
   "execution_count": 37,
   "metadata": {
    "collapsed": false
   },
   "outputs": [
    {
     "data": {
      "text/plain": [
       "[<matplotlib.lines.Line2D at 0x7f714c81f650>]"
      ]
     },
     "execution_count": 37,
     "metadata": {},
     "output_type": "execute_result"
    },
    {
     "data": {
      "image/png": "[encoded data removed]",
      "text/plain": [
       "<matplotlib.figure.Figure at 0x7f714c887990>"
      ]
     },
     "metadata": {},
     "output_type": "display_data"
    }
   ],
   "source": [
    "plt.plot(T, np.sin(Heading))"
   ]
  },
  {
   "cell_type": "code",
   "execution_count": 38,
   "metadata": {
    "collapsed": false
   },
   "outputs": [
    {
     "data": {
      "text/plain": [
       "array([ 1.57079633])"
      ]
     },
     "execution_count": 38,
     "metadata": {},
     "output_type": "execute_result"
    }
   ],
   "source": [
    "from scipy.optimize import fsolve\n",
    "fsolve(np.cos, 1.5)"
   ]
  },
  {
   "cell_type": "code",
   "execution_count": 39,
   "metadata": {
    "collapsed": true
   },
   "outputs": [],
   "source": [
    "def test(x):\n",
    "    if x[0] > 1.55:\n",
    "        return np.array([float('inf'), np.exp(x[0]) - x[1]])\n",
    "    else:\n",
    "        return np.array([x[1]*np.cos(x[0]), np.exp(x[0]) - x[1]])"
   ]
  },
  {
   "cell_type": "code",
   "execution_count": 40,
   "metadata": {
    "collapsed": false
   },
   "outputs": [
    {
     "data": {
      "text/plain": [
       "  status: 5\n",
       " success: False\n",
       "     qtf: array([ 1.11440235, -0.99927157])\n",
       "    nfev: 15\n",
       "       r: array([ nan,  nan,  nan])\n",
       "     fun: array([ 0.21221161,  1.48168907])\n",
       "       x: array([ 1.5,  3. ])\n",
       " message: 'The iteration is not making good progress, as measured by the \\n  improvement from the last ten iterations.'\n",
       "    fjac: array([[ nan,  nan],\n",
       "       [ nan,  nan]])"
      ]
     },
     "execution_count": 40,
     "metadata": {},
     "output_type": "execute_result"
    }
   ],
   "source": [
    "from scipy.optimize import root\n",
    "root(test, np.array([1.5, 3.0]))"
   ]
  },
  {
   "cell_type": "code",
   "execution_count": null,
   "metadata": {
    "collapsed": true
   },
   "outputs": [],
   "source": []
  }
 ],
 "metadata": {
  "kernelspec": {
   "display_name": "Python 2",
   "language": "python",
   "name": "python2"
  },
  "language_info": {
   "codemirror_mode": {
    "name": "ipython",
    "version": 2
   },
   "file_extension": ".py",
   "mimetype": "text/x-python",
   "name": "python",
   "nbconvert_exporter": "python",
   "pygments_lexer": "ipython2",
   "version": "2.7.10"
  }
 },
 "nbformat": 4,
 "nbformat_minor": 0
}
