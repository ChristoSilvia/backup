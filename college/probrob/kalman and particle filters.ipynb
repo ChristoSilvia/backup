{
 "cells": [
  {
   "cell_type": "code",
   "execution_count": 10,
   "metadata": {
    "collapsed": false
   },
   "outputs": [],
   "source": [
    "%matplotlib inline\n",
    "import numpy as np\n",
    "import matplotlib.pyplot as plt"
   ]
  },
  {
   "cell_type": "code",
   "execution_count": 11,
   "metadata": {
    "collapsed": false
   },
   "outputs": [],
   "source": [
    "def gaussian(mean=None,var=None):\n",
    "    def f(X):\n",
    "        return np.linalg.det(2*np.pi*var)**(0.5) * np.exp(-0.5*np.dot((X - mean).T,np.dot(np.linalg.inv(var),X - mean)))\n",
    "    return f\n",
    "\n",
    "def gaussian1d(mean=None,var=None):\n",
    "    def f(X):\n",
    "        return (2*np.pi*var)**(0.5) * np.exp(-0.5*(x-mean)**2/var)\n",
    "    return f\n"
   ]
  },
  {
   "cell_type": "code",
   "execution_count": 12,
   "metadata": {
    "collapsed": false
   },
   "outputs": [
    {
     "data": {
      "text/plain": [
       "[<matplotlib.lines.Line2D at 0x7fe15dca9c90>]"
      ]
     },
     "execution_count": 12,
     "metadata": {},
     "output_type": "execute_result"
    },
    {
     "data": {
      "image/png": "[encoded data removed]",
      "text/plain": [
       "<matplotlib.figure.Figure at 0x7fe15ddd60d0>"
      ]
     },
     "metadata": {},
     "output_type": "display_data"
    }
   ],
   "source": [
    "X = np.linspace(-10,10)\n",
    "gauss = gaussian1d(mean=1.0, var=1.0)\n",
    "Y = np.array([gauss(x) for x in X])\n",
    "plt.plot(X,Y)"
   ]
  },
  {
   "cell_type": "code",
   "execution_count": 13,
   "metadata": {
    "collapsed": false
   },
   "outputs": [],
   "source": [
    "def ext_kalman_filter_factory(state_transfer=lambda control_input, posterior_mean:None,\n",
    "                              state_transfer_jacobian= lambda control_input, posterior_mean:None,\n",
    "                              state_transfer_noise=None,\n",
    "                              measurement_predictor=lambda predicted_mean:None,\n",
    "                              measurement_predictor_jacobian=lambda predicted_mean:None,\n",
    "                              measurement_noise=None):\n",
    "    def ext_kalman_filter(prior_mean, prior_variance, control_input, sensor_results):\n",
    "        mean_after_control = state_transfer(control_input, prior_mean)\n",
    "        variance_after_control = np.dot(state_transfer_jacobian(control_input,prior_mean),\n",
    "                                        np.dot(prior_variance,\n",
    "                                               state_transfer_jacobian(control_input, prior_mean).T)) + state_transfer_noise\n",
    "        kalman_gain = np.dot(variance_after_control,\n",
    "                             np.dot(measurement_predictor_jacobian(mean_after_control).T,\n",
    "                                    np.linalg.inv(np.dot(measurement_predictor_jacobian(mean_after_control),\n",
    "                                                         np.dot(variance_after_control,\n",
    "                                                                measurement_predictor_jacobian(mean_after_control).T)) + measurement_noise)))\n",
    "        posterior_mean = mean_after_control + np.dot(kalman_gain, sensor_results - measurement_predictor(mean_after_control))\n",
    "        posterior_variance = variance_after_control - np.dot(kalman_gain,\n",
    "                                                             np.dot(measurement_predictor_jacobian(posterior_mean),\n",
    "                                                                    variance_after_control))\n",
    "        return posterior_mean, posterior_variance\n",
    "    return ext_kalman_filter"
   ]
  },
  {
   "cell_type": "code",
   "execution_count": 14,
   "metadata": {
    "collapsed": false
   },
   "outputs": [],
   "source": [
    "def steering_robot_state_transfer(drive_dist, pose):\n",
    "    d = drive_dist[0,0]\n",
    "    x, y, theta = pose[0,0], pose[1,0], pose[2,0]\n",
    "    return np.array([[x + d*np.cos(theta)],\n",
    "                     [y + d*np.sin(theta)],\n",
    "                     [theta]])\n",
    "\n",
    "def steering_robot_state_jacobian(drive_dist, posterior_mean):\n",
    "    d = drive_dist[0,0]\n",
    "    x, y, theta = posterior_mean[0,0], posterior_mean[1,0], posterior_mean[2,0]\n",
    "    return np.array([[1.0, 0.0, -d*np.sin(theta)],\n",
    "                     [0.0, 1.0, d*np.cos(theta)],\n",
    "                     [0.0, 0.0, 1.0]])\n",
    "\n",
    "def measurement_predictor(pose):\n",
    "    y = pose[1,0]\n",
    "    return np.array([[y]])\n",
    "\n",
    "def measurement_jacobian(pose):\n",
    "    return np.array([[0.0, 1.0, 0.0]])\n",
    "\n",
    "kal = ext_kalman_filter_factory(state_transfer=steering_robot_state_transfer,\n",
    "                                state_transfer_jacobian=steering_robot_state_jacobian,\n",
    "                                state_transfer_noise=np.zeros((3,3)),\n",
    "                                measurement_predictor=measurement_predictor,\n",
    "                                measurement_predictor_jacobian=measurement_jacobian,\n",
    "                                measurement_noise=np.array([[0.1]]))"
   ]
  },
  {
   "cell_type": "code",
   "execution_count": 15,
   "metadata": {
    "collapsed": false
   },
   "outputs": [
    {
     "name": "stdout",
     "output_type": "stream",
     "text": [
      "[[ 1.        ]\n",
      " [ 5.97014925]\n",
      " [ 2.98507463]]\n",
      "[[ 0.01        0.          0.        ]\n",
      " [ 0.          0.09950249  0.04975124]\n",
      " [ 0.          0.04975124  5.02487562]]\n"
     ]
    }
   ],
   "source": [
    "mean, var = kal(np.array([[0.0],[0.0],[0.0]]), \n",
    "                np.array([[0.01,0.0,0.0],[0.0,10,0.0],[0.0,0.0,10.0]]),\n",
    "                np.array([[1.0]]),\n",
    "                np.array([[6.0]]))\n",
    "print mean\n",
    "print var"
   ]
  },
  {
   "cell_type": "code",
   "execution_count": 16,
   "metadata": {
    "collapsed": false
   },
   "outputs": [
    {
     "data": {
      "text/plain": [
       "<matplotlib.collections.PathCollection at 0x7fe15dc0ba10>"
      ]
     },
     "execution_count": 16,
     "metadata": {},
     "output_type": "execute_result"
    },
    {
     "name": "stderr",
     "output_type": "stream",
     "text": [
      "/home/chris/.anaconda2/lib/python2.7/site-packages/matplotlib/collections.py:590: FutureWarning: elementwise comparison failed; returning scalar instead, but in the future will perform elementwise comparison\n",
      "  if self._edgecolors == str('face'):\n"
     ]
    },
    {
     "data": {
      "image/png": "[encoded data removed]",
      "text/plain": [
       "<matplotlib.figure.Figure at 0x7fe15dd2be50>"
      ]
     },
     "metadata": {},
     "output_type": "display_data"
    }
   ],
   "source": [
    "import numpy.random as rand\n",
    "\n",
    "n_samples = 50\n",
    "mean = np.array([0,0,0])\n",
    "cov = np.array([[0.01,0.0,0],\n",
    "                [0.0,0.01,0],\n",
    "                [0,0,10000]])\n",
    "particles = rand.multivariate_normal(mean, cov, n_samples)\n",
    "plt.axis([-1,1,-1,1])\n",
    "plt.scatter(particles.T[0],particles.T[1])"
   ]
  },
  {
   "cell_type": "code",
   "execution_count": 17,
   "metadata": {
    "collapsed": false
   },
   "outputs": [],
   "source": [
    "def particle_filter_factory(state_dimension,\n",
    "                            prob_sample_given_control=lambda given_control,given_prior:None,\n",
    "                            prob_input_given_state=lambda get_sensor, in_state:None):\n",
    "    def particle_filter(prior_particles, control, sensor):\n",
    "        m = len(prior_particles)\n",
    "        temporary_particles = np.zeros((m, state_dimension))\n",
    "        temporary_weights = np.zeros(m)\n",
    "        for i in range(0,m):\n",
    "            xi = prob_sample_given_control(control,\n",
    "                                           prior_particles[i])\n",
    "            wi = prob_input_given_state(sensor, xi)\n",
    "            temporary_particles[i] = xi\n",
    "            temporary_weights[i] = wi\n",
    "        temporary_weights /= np.sum(temporary_weights)\n",
    "        \n",
    "        posterior_particles = []\n",
    "        for i in range(0,m):\n",
    "            j = rand.choice(m, replace=True, p=temporary_weights)           \n",
    "            posterior_particles.append(temporary_particles[j])\n",
    "        return np.array(posterior_particles)\n",
    "    return particle_filter\n",
    "        "
   ]
  },
  {
   "cell_type": "code",
   "execution_count": 18,
   "metadata": {
    "collapsed": false
   },
   "outputs": [
    {
     "data": {
      "text/plain": [
       "[-1.5, 1.5, -1.5, 1.5]"
      ]
     },
     "execution_count": 18,
     "metadata": {},
     "output_type": "execute_result"
    },
    {
     "data": {
      "image/png": "[encoded data removed]",
      "text/plain": [
       "<matplotlib.figure.Figure at 0x7fe16142c750>"
      ]
     },
     "metadata": {},
     "output_type": "display_data"
    }
   ],
   "source": [
    "def move(d, given_prior):\n",
    "    x, y, theta = given_prior[0], given_prior[1], given_prior[2]\n",
    "    return np.array([x + d*np.cos(theta), y + d*np.sin(theta), theta])\n",
    "\n",
    "\" A perfect radius sensor \"\n",
    "rad_sensor_std_div = 100.0\n",
    "def sample(sensor_data, state):\n",
    "    x, y = state[0], state[1]\n",
    "    return np.exp(-rad_sensor_std_div *(x - sensor_data)**2)\n",
    "    \n",
    "\n",
    "pf = particle_filter_factory(3,\n",
    "                             prob_sample_given_control=move,\n",
    "                             prob_input_given_state=sample)\n",
    "\n",
    "n_samples=500\n",
    "particles = rand.multivariate_normal(mean, cov, n_samples)\n",
    "plt.scatter(particles.T[0], particles.T[1], color='red')\n",
    "Xt = pf(particles, 1.0, 0.5)\n",
    "plt.scatter(Xt.T[0], Xt.T[1], color='blue'); plt.axis([-1.5,1.5,-1.5,1.5])"
   ]
  },
  {
   "cell_type": "code",
   "execution_count": null,
   "metadata": {
    "collapsed": false
   },
   "outputs": [],
   "source": []
  }
 ],
 "metadata": {
  "kernelspec": {
   "display_name": "Python 2",
   "language": "python",
   "name": "python2"
  },
  "language_info": {
   "codemirror_mode": {
    "name": "ipython",
    "version": 2
   },
   "file_extension": ".py",
   "mimetype": "text/x-python",
   "name": "python",
   "nbconvert_exporter": "python",
   "pygments_lexer": "ipython2",
   "version": "2.7.10"
  }
 },
 "nbformat": 4,
 "nbformat_minor": 0
}
