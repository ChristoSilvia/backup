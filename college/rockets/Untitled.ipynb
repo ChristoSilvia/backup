{
 "cells": [
  {
   "cell_type": "code",
   "execution_count": 66,
   "metadata": {
    "collapsed": true
   },
   "outputs": [],
   "source": [
    "%matplotlib inline\n",
    "import numpy as np\n",
    "import matplotlib.pyplot as plt\n",
    "from scipy.optimize import newton"
   ]
  },
  {
   "cell_type": "markdown",
   "metadata": {},
   "source": [
    "First Approximation:\n",
    "\n",
    "1. The rocket is of a fixed mass $M$.\n",
    "2. The rocket experiences constant gravity, of acceleration $g$.\n",
    "3. The rocket's engine can apply a constant thrust $F_{engine}$."
   ]
  },
  {
   "cell_type": "code",
   "execution_count": 67,
   "metadata": {
    "collapsed": true
   },
   "outputs": [],
   "source": [
    "g = 9.8 #m/sec^2\n",
    "f_engine_max = 756000 # kg m/sec^2, sea level thrust\n",
    "throttle = 0.60 # constant\n",
    "f_engine = throttle * f_engine_max\n",
    "m_rocket = 20000 #19 metric tons mass?"
   ]
  },
  {
   "cell_type": "markdown",
   "metadata": {},
   "source": [
    "The rocket starts off at a height $h$ with velocity $v$ in the downward direction.\n",
    "It is of mass $m$, and experiences a force of magnitude $m g$, so therefore by Newton's Second Law it accelerates\n",
    "    with acceleration $g$.\n",
    "Therefore, the rocket follows the following trajectory:\n",
    "\n",
    "$$y(t) = h - v t - \\frac 1 2 g t^2$$\n",
    "\n",
    "When it hits the ground, $y(t) = 0$.  \n",
    "Therefore, to find the impact time, we need to solve the quadratic equation $h - v t - \\frac 1 2 g t^2 = 0$.\n",
    "\n",
    "There are two solutions: $t_+ = - \\frac v g + \\sqrt{ \\left( \\frac v g \\right)^2 + 2 \\frac h g}$ \n",
    "    and $t_- = - \\frac v g - \\sqrt{ \\left( \\frac v g \\right)^2 + 2 \\frac h g}$.\n",
    "There are two solutions because this equation allows us to see what would have happened at negative times.\n",
    "We can safely discard $t_-$, because since we know that it is negative.\n",
    "Therefore, the impact will occur at time $t_+$.\n",
    "Below, we plot an example trajectory."
   ]
  },
  {
   "cell_type": "code",
   "execution_count": 68,
   "metadata": {
    "collapsed": true
   },
   "outputs": [],
   "source": [
    "h = 300.0 # meters\n",
    "v_initial = 40.0 # m/sec\n",
    "t_max = np.sqrt((v_initial/g)**2 + 2*h/g) - (v_initial/g)"
   ]
  },
  {
   "cell_type": "code",
   "execution_count": 69,
   "metadata": {
    "collapsed": true
   },
   "outputs": [],
   "source": [
    "T = np.linspace(0, t_max, 100)\n",
    "X = h - v_initial*T - 0.5*g*T**2"
   ]
  },
  {
   "cell_type": "code",
   "execution_count": 70,
   "metadata": {
    "collapsed": false
   },
   "outputs": [
    {
     "data": {
      "text/plain": [
       "[<matplotlib.lines.Line2D at 0x7f7550fa0810>]"
      ]
     },
     "execution_count": 70,
     "metadata": {},
     "output_type": "execute_result"
    },
    {
     "data": {
      "image/png": "[encoded data removed]",
      "text/plain": [
       "<matplotlib.figure.Figure at 0x7f75512c3d50>"
      ]
     },
     "metadata": {},
     "output_type": "display_data"
    }
   ],
   "source": [
    "plt.figure(figsize=(5,6)); plt.xlabel(\"Height (m)\"); plt.ylabel(\"Time (sec)\"); plt.title(\"Free-Falling Trajectory\")\n",
    "plt.plot(T,X)"
   ]
  },
  {
   "cell_type": "markdown",
   "metadata": {},
   "source": [
    "So that is how rockets fall, but how do they behave under thrust?\n",
    "If the rocket engine is firing with thrust $F_{engine}$, then the combined acceleration of the rocket (of mass $m$)\n",
    "    is $\\frac {F_{engine}} m - g$.\n",
    "For the engine to be effective, it needs to be thrusting with a higher force than gravity, so that the \n",
    "    acceleration is positive and downwards velocity is decreasing."
   ]
  },
  {
   "cell_type": "markdown",
   "metadata": {},
   "source": [
    "So how much altitude will a rocket engine of thrust $F$ take to stop a rocket of mass $m$, if it starts with\n",
    "    initial velocity $v$ moving downwards?\n",
    "If we set $y=0$ to be the position of the rocket at $t=0$, \n",
    "    and the acceleration $a$ of the rocket is $\\frac {F_{engine}} m - g$, then the position as a function of time is:\n",
    "\n",
    "$$ y(t) = - v t + \\frac 1 2 a t^2 $$\n",
    "\n",
    "and the velocity is:\n",
    "\n",
    "$$ v(t) = - v + a t $$\n",
    "\n",
    "We want to know what altitude ($y$) the rocket is at when its velocity is 0.\n",
    "First, let's find what time $t_{stop}$ the velocity is zero at:\n",
    "\n",
    "$\\begin{align}\n",
    "v(t_{stop}) & = - v + a t_{stop} \\nonumber \\\\\n",
    "0 & = - v + a t_{stop} \\nonumber \\\\\n",
    "t_{stop} & = \\frac v a \n",
    "\\end{align}$\n",
    "\n",
    "Therefore, the altitude at stop is \n",
    "$\\begin{align}\n",
    "h_{stop} & = - v \\frac v a + \\frac 1 2 a \\left( \\frac v a \\right)^2 \\nonumber \\\\\n",
    "h_{stop} & = - \\frac {v^2} a + \\frac 1 2 \\frac {v^2} a \\nonumber \\\\\n",
    "h_{stop} & = - \\frac {v^2} {2 a}\n",
    "\\end{align}$\n",
    "\n",
    "Thus the distance required to stop a rocket moving with velocity $v$ is $\\frac {v^2} {2 a}$."
   ]
  },
  {
   "cell_type": "markdown",
   "metadata": {},
   "source": [
    "To determine when to fire the rocket engine, we can plot the current-height and distance-to-stop curves,\n",
    "    and when the current height is equal to the stopping distance, the pilot should fire the engine:"
   ]
  },
  {
   "cell_type": "code",
   "execution_count": 71,
   "metadata": {
    "collapsed": false
   },
   "outputs": [],
   "source": [
    "a = f_engine/m_rocket - g\n",
    "V = v_initial + g * T\n",
    "H_stop = 0.5 * V**2 / a"
   ]
  },
  {
   "cell_type": "code",
   "execution_count": 72,
   "metadata": {
    "collapsed": false
   },
   "outputs": [
    {
     "data": {
      "text/plain": [
       "[<matplotlib.lines.Line2D at 0x7f7550ed47d0>]"
      ]
     },
     "execution_count": 72,
     "metadata": {},
     "output_type": "execute_result"
    },
    {
     "data": {
      "image/png": "[encoded data removed]",
      "text/plain": [
       "<matplotlib.figure.Figure at 0x7f7550f5f290>"
      ]
     },
     "metadata": {},
     "output_type": "display_data"
    }
   ],
   "source": [
    "plt.figure(figsize=(8,5)); plt.title(\"Altitude vs. Stopping Distance\"); plt.xlabel(\"Time\"); plt.ylabel(\"Altitude\")\n",
    "plt.plot(T,X, label=\"Stopping Distance\")\n",
    "plt.plot(T,H_stop, label=\"Altitude\")"
   ]
  },
  {
   "cell_type": "markdown",
   "metadata": {},
   "source": [
    "The stopping altitude occurs where $h_{stop}(t) = y(t)$.\n",
    "\n",
    "$\\begin{align}\n",
    "h_{stop}(t) & = y(t)\\\\\n",
    "\\frac {v(t)^2}{2 a} & = h_0 - v_0 t - \\frac 1 2 g t^2 \\\\\n",
    "\\frac {(v_0 + g t)^2}{2 a} & = h_0 - v_0 t - \\frac 1 2 g t^2 \\\\\n",
    "0 & = t^2 \\left[ \\frac {g^2}{2 a} + \\frac g 2 \\right]\n",
    "    + t \\left[ \\frac {v_0 g} {a} + v_0 \\right]\n",
    "    + \\left[ \\frac{v_0^2}{2 a} - h_0 \\right]\n",
    "\\end{align}$.\n",
    "\n",
    "This is a quadratic equation again, with two solutions. \n",
    "I will only show the positive one this time:\n",
    "\n",
    "$$ t_{fire} = \\sqrt{ \\left( \\frac {v_0} g \\right)^2\n",
    "        + 2 \\frac{ h_0 - \\frac{v_0^2}{2 a}}{g \\left( \\frac g a + 1 \\right)}} - \\frac {v_0} g $$\n",
    "        \n",
    "We can verify this by plotting it on the graph:"
   ]
  },
  {
   "cell_type": "code",
   "execution_count": 73,
   "metadata": {
    "collapsed": false
   },
   "outputs": [],
   "source": [
    "t_fire = np.sqrt((v_initial/g)**2 + 2*(h - (v_initial**2/(2*a)))/(g*(g/a + 1))) - (v_initial/g)\n",
    "x_fire = h - v_initial * t_fire - 0.5*g*t_fire**2\n",
    "v_fire = v_initial  + g * t_fire"
   ]
  },
  {
   "cell_type": "code",
   "execution_count": 74,
   "metadata": {
    "collapsed": false
   },
   "outputs": [
    {
     "data": {
      "text/plain": [
       "<matplotlib.collections.PathCollection at 0x7f7550e1f710>"
      ]
     },
     "execution_count": 74,
     "metadata": {},
     "output_type": "execute_result"
    },
    {
     "data": {
      "image/png": "[encoded data removed]",
      "text/plain": [
       "<matplotlib.figure.Figure at 0x7f7550f4ba90>"
      ]
     },
     "metadata": {},
     "output_type": "display_data"
    }
   ],
   "source": [
    "plt.figure(figsize=(8,5)); plt.title(\"Altitude vs. Stopping Distance\"); plt.xlabel(\"Time\"); plt.ylabel(\"Altitude\")\n",
    "plt.plot(T,X, label=\"Stopping Distance\")\n",
    "plt.plot(T,H_stop, label=\"Altitude\")\n",
    "plt.scatter(np.array([t_fire]),np.array([x_fire]))"
   ]
  },
  {
   "cell_type": "markdown",
   "metadata": {},
   "source": [
    "We can now make an updated plot, which will show the position of the rocket when it fires its\n",
    "    engines at $t_{fire}$."
   ]
  },
  {
   "cell_type": "code",
   "execution_count": 75,
   "metadata": {
    "collapsed": false
   },
   "outputs": [
    {
     "data": {
      "text/plain": [
       "<matplotlib.text.Text at 0x7f7550e290d0>"
      ]
     },
     "execution_count": 75,
     "metadata": {},
     "output_type": "execute_result"
    },
    {
     "data": {
      "image/png": "[encoded data removed]",
      "text/plain": [
       "<matplotlib.figure.Figure at 0x7f7550f56b10>"
      ]
     },
     "metadata": {},
     "output_type": "display_data"
    }
   ],
   "source": [
    "T_fall = np.linspace(0, t_fire)\n",
    "T_burn = np.linspace(t_fire, t_fire + v_fire/a)\n",
    "X_fall = h - v_initial*T_fall - 0.5*g*T_fall**2\n",
    "X_burn = x_fire - v_fire*(T_burn - t_fire) + 0.5*a*(T_burn - t_fire)**2\n",
    "plt.plot(T_fall, X_fall)\n",
    "plt.plot(T_burn, X_burn)\n",
    "plt.scatter(np.array([t_fire]),np.array([x_fire]))\n",
    "plt.grid(True); plt.xlabel(\"Time\"), plt.ylabel(\"Altitude\"); plt.title(\"Rocket Altitude During Descent and Burn\")"
   ]
  },
  {
   "cell_type": "code",
   "execution_count": 76,
   "metadata": {
    "collapsed": true
   },
   "outputs": [],
   "source": [
    "v_exhaust = 2.73e3 # m/sec, sea level (effective velocity)\n",
    "burn_rate = throttle * f_engine / v_exhaust # kg/ sec\n",
    "mass_fraction = 0.1 # 0.2 of the rocket is propellant and the remainder is structure"
   ]
  },
  {
   "cell_type": "code",
   "execution_count": 186,
   "metadata": {
    "collapsed": true
   },
   "outputs": [],
   "source": [
    "x_initial = 200000.0\n",
    "v_initial = -500.0"
   ]
  },
  {
   "cell_type": "code",
   "execution_count": 187,
   "metadata": {
    "collapsed": false
   },
   "outputs": [],
   "source": [
    "T = np.linspace(0, 40)\n",
    "v_without_fuel_use = v_initial + (f_engine/m_rocket - g)*T\n",
    "v_with_fuel_use = v_initial + f_engine/burn_rate*np.log(m_rocket/(m_rocket - burn_rate*T)) - g*T\n",
    "jerk_at_zero = f_engine*burn_rate/m_rocket**2\n",
    "accel_at_zero = f_engine/m_rocket - g\n",
    "v_approx = v_initial + accel_at_zero*T + 0.5*jerk_at_zero*T**2"
   ]
  },
  {
   "cell_type": "code",
   "execution_count": 188,
   "metadata": {
    "collapsed": true
   },
   "outputs": [],
   "source": [
    "v_desired = 0.0\n",
    "t_stop_approx = (np.sqrt(accel_at_zero**2 + 2*jerk_at_zero*(v_desired-v_initial)) - accel_at_zero)/jerk_at_zero\n",
    "# v_approx = v_initial - g*t_approx + f_engine/burn_rate*np.log(m_rocket/(m_rocket-burn_rate*t_approx))"
   ]
  },
  {
   "cell_type": "code",
   "execution_count": 189,
   "metadata": {
    "collapsed": false
   },
   "outputs": [],
   "source": [
    "t_stop = newton(lambda t: v_initial - g*t + f_engine/burn_rate*np.log(m_rocket/(m_rocket - burn_rate*t)),\n",
    "      t_stop_approx,\n",
    "      lambda t: f_engine/(m_rocket - burn_rate*t) - g)"
   ]
  },
  {
   "cell_type": "code",
   "execution_count": 190,
   "metadata": {
    "collapsed": false
   },
   "outputs": [
    {
     "data": {
      "text/plain": [
       "<matplotlib.collections.PathCollection at 0x7f7550127190>"
      ]
     },
     "execution_count": 190,
     "metadata": {},
     "output_type": "execute_result"
    },
    {
     "data": {
      "image/png": "[encoded data removed]",
      "text/plain": [
       "<matplotlib.figure.Figure at 0x7f754fb9cd90>"
      ]
     },
     "metadata": {},
     "output_type": "display_data"
    }
   ],
   "source": [
    "plt.plot(T, v_without_fuel_use)\n",
    "plt.plot(T, v_with_fuel_use)\n",
    "plt.plot(T, v_approx)\n",
    "plt.scatter([t_stop_approx],[v_desired], color=\"red\")\n",
    "plt.scatter([t_stop],[v_desired],color=\"blue\")"
   ]
  },
  {
   "cell_type": "code",
   "execution_count": 191,
   "metadata": {
    "collapsed": false
   },
   "outputs": [],
   "source": [
    "X_without_fuel_use = x_initial + v_initial*T + 0.5*(f_engine/m_rocket - g)*T**2\n",
    "X_with_fuel_use = x_initial + v_initial*T - 0.5*g*T**2 + f_engine/burn_rate**2*((burn_rate*T - m_rocket)*np.log(m_rocket/(m_rocket-burn_rate*T)) + burn_rate*T)"
   ]
  },
  {
   "cell_type": "code",
   "execution_count": 192,
   "metadata": {
    "collapsed": false
   },
   "outputs": [
    {
     "data": {
      "text/plain": [
       "[<matplotlib.lines.Line2D at 0x7f755010e6d0>]"
      ]
     },
     "execution_count": 192,
     "metadata": {},
     "output_type": "execute_result"
    },
    {
     "data": {
      "image/png": "[encoded data removed]",
      "text/plain": [
       "<matplotlib.figure.Figure at 0x7f754fe078d0>"
      ]
     },
     "metadata": {},
     "output_type": "display_data"
    }
   ],
   "source": [
    "plt.plot(T, X_without_fuel_use)\n",
    "plt.plot(T, X_with_fuel_use)"
   ]
  },
  {
   "cell_type": "code",
   "execution_count": 193,
   "metadata": {
    "collapsed": false
   },
   "outputs": [],
   "source": [
    "V_freefall = v_initial  - g * T\n",
    "X_freefall = x_initial + v_initial * T - 0.5 * g * T**2"
   ]
  },
  {
   "cell_type": "code",
   "execution_count": 194,
   "metadata": {
    "collapsed": false
   },
   "outputs": [],
   "source": [
    "T_stop_approx = (np.sqrt(accel_at_zero**2 + 2*jerk_at_zero*(v_desired-V_freefall)) - accel_at_zero)/jerk_at_zero"
   ]
  },
  {
   "cell_type": "code",
   "execution_count": 195,
   "metadata": {
    "collapsed": false
   },
   "outputs": [],
   "source": [
    "def v_from_initial(v_current):\n",
    "    def v(t):\n",
    "        return v_current - g*t + f_engine/burn_rate*np.log(m_rocket/(m_rocket - burn_rate*t))\n",
    "    return v\n",
    "\n",
    "def a(t):\n",
    "    return f_engine/(m_rocket - burn_rate*t)\n",
    "\n",
    "T_stop = np.array([\n",
    "        newton(v_from_initial(v), t, a) for t, v in zip(T_stop_approx, V_freefall)\n",
    "    ])"
   ]
  },
  {
   "cell_type": "code",
   "execution_count": 196,
   "metadata": {
    "collapsed": false
   },
   "outputs": [
    {
     "data": {
      "text/plain": [
       "array([ 33.32774227,  33.78657047,  34.24343744,  34.69835753,\n",
       "        35.15134494,  35.6024137 ,  36.05157767,  36.49885057,\n",
       "        36.94424596,  37.38777723,  37.82945765,  38.26930033,\n",
       "        38.70731823,  39.14352417,  39.57793082,  40.01055074,\n",
       "        40.44139632,  40.87047984,  41.29781344,  41.72340911,\n",
       "        42.14727875,  42.5694341 ,  42.98988679,  43.40864832,\n",
       "        43.82573009,  44.24114335,  44.65489925,  45.06700882,\n",
       "        45.47748298,  45.88633254,  46.29356818,  46.69920049,\n",
       "        47.10323995,  47.50569692,  47.90658167,  48.30590437,\n",
       "        48.70367507,  49.09990372,  49.4946002 ,  49.88777426,\n",
       "        50.27943558,  50.66959371,  51.05825813,  51.44543824,\n",
       "        51.83114333,  52.21538258,  52.59816513,  52.9795    ,\n",
       "        53.35939613,  53.73786237])"
      ]
     },
     "execution_count": 196,
     "metadata": {},
     "output_type": "execute_result"
    }
   ],
   "source": [
    "T_stop"
   ]
  },
  {
   "cell_type": "code",
   "execution_count": 197,
   "metadata": {
    "collapsed": true
   },
   "outputs": [],
   "source": [
    "D_stop = np.abs(v_initial*T_stop - 0.5*g*T_stop**2 - f_engine/burn_rate**2*((burn_rate*T_stop - m_rocket)*np.log(m_rocket/(m_rocket-burn_rate*T_stop)) + burn_rate*T_stop))"
   ]
  },
  {
   "cell_type": "code",
   "execution_count": 198,
   "metadata": {
    "collapsed": false
   },
   "outputs": [
    {
     "data": {
      "image/png": "[encoded data removed]",
      "text/plain": [
       "<matplotlib.figure.Figure at 0x7f754f9e0990>"
      ]
     },
     "metadata": {},
     "output_type": "display_data"
    }
   ],
   "source": [
    "plt.plot(T, X_freefall)\n",
    "plt.plot(T, D_stop)\n",
    "plt.grid(True)"
   ]
  },
  {
   "cell_type": "code",
   "execution_count": 199,
   "metadata": {
    "collapsed": true
   },
   "outputs": [],
   "source": [
    "def x(t_fire):\n",
    "    return x_initial + v_initial*t_fire - 0.5*g*t_fire**2"
   ]
  },
  {
   "cell_type": "code",
   "execution_count": 200,
   "metadata": {
    "collapsed": true
   },
   "outputs": [],
   "source": [
    "def d(t_fire):\n",
    "    v = v_initial - g * t_fire\n",
    "    t_stop = t_stopping_burn(t_fire)\n",
    "    d_stop = np.abs(v*t_stop - 0.5*g*t_stop**2 + f_engine/burn_rate**2*(burn_rate*t_stop - (m_rocket - burn_rate*t_stop)*np.log(m_rocket/(m_rocket-burn_rate*t_stop))))\n",
    "    return d_stop"
   ]
  },
  {
   "cell_type": "code",
   "execution_count": 201,
   "metadata": {
    "collapsed": true
   },
   "outputs": [],
   "source": [
    "def t_stopping_burn(t_fire):\n",
    "    v = v_initial - g * t_fire\n",
    "    t_stop_approx = (np.sqrt(accel_at_zero**2 + 2*jerk_at_zero*(v_desired-v)) - accel_at_zero)/jerk_at_zero\n",
    "    t_stop = newton(v_from_initial(v), t_stop_approx, a)\n",
    "    return t_stop"
   ]
  },
  {
   "cell_type": "code",
   "execution_count": 202,
   "metadata": {
    "collapsed": false
   },
   "outputs": [],
   "source": [
    "t_fire = newton(lambda t: x(t) - d(t), 10)"
   ]
  },
  {
   "cell_type": "code",
   "execution_count": 203,
   "metadata": {
    "collapsed": false
   },
   "outputs": [
    {
     "data": {
      "text/plain": [
       "115.32434930603328"
      ]
     },
     "execution_count": 203,
     "metadata": {},
     "output_type": "execute_result"
    }
   ],
   "source": [
    "t_fire"
   ]
  },
  {
   "cell_type": "code",
   "execution_count": 204,
   "metadata": {
    "collapsed": false
   },
   "outputs": [
    {
     "data": {
      "text/plain": [
       "83.484961986513241"
      ]
     },
     "execution_count": 204,
     "metadata": {},
     "output_type": "execute_result"
    }
   ],
   "source": [
    "t_stopping_burn(t_fire)"
   ]
  },
  {
   "cell_type": "code",
   "execution_count": 205,
   "metadata": {
    "collapsed": false
   },
   "outputs": [
    {
     "data": {
      "text/plain": [
       "-1318.1526274678299"
      ]
     },
     "execution_count": 205,
     "metadata": {},
     "output_type": "execute_result"
    }
   ],
   "source": [
    "v= v_initial - g*t_stopping_burn(t_fire)\n",
    "v"
   ]
  },
  {
   "cell_type": "code",
   "execution_count": 206,
   "metadata": {
    "collapsed": false
   },
   "outputs": [
    {
     "data": {
      "text/plain": [
       "72.039657350108897"
      ]
     },
     "execution_count": 206,
     "metadata": {},
     "output_type": "execute_result"
    }
   ],
   "source": [
    "t_stop_approx = (np.sqrt(accel_at_zero**2 + 2*jerk_at_zero*(v_desired-v)) - accel_at_zero)/jerk_at_zero\n",
    "t_stop = newton(v_from_initial(v), t_stop_approx, a)\n",
    "t_stop"
   ]
  },
  {
   "cell_type": "code",
   "execution_count": 207,
   "metadata": {
    "collapsed": false
   },
   "outputs": [
    {
     "data": {
      "text/plain": [
       "77169.26818696945"
      ]
     },
     "execution_count": 207,
     "metadata": {},
     "output_type": "execute_result"
    }
   ],
   "source": [
    "x(t_fire)"
   ]
  },
  {
   "cell_type": "code",
   "execution_count": 208,
   "metadata": {
    "collapsed": false
   },
   "outputs": [
    {
     "data": {
      "text/plain": [
       "77169.268186969508"
      ]
     },
     "execution_count": 208,
     "metadata": {},
     "output_type": "execute_result"
    }
   ],
   "source": [
    "d(t_fire)"
   ]
  },
  {
   "cell_type": "code",
   "execution_count": 209,
   "metadata": {
    "collapsed": false
   },
   "outputs": [
    {
     "data": {
      "text/plain": [
       "0.5838595740979956"
      ]
     },
     "execution_count": 209,
     "metadata": {},
     "output_type": "execute_result"
    }
   ],
   "source": [
    "(m_rocket - burn_rate * t_stopping_burn(t_fire))/m_rocket"
   ]
  },
  {
   "cell_type": "code",
   "execution_count": 210,
   "metadata": {
    "collapsed": true
   },
   "outputs": [],
   "source": [
    "T_falling = np.linspace(0, t_fire)\n",
    "T_firing = np.linspace(t_fire, t_fire + t_stopping_burn(t_fire))"
   ]
  },
  {
   "cell_type": "code",
   "execution_count": 211,
   "metadata": {
    "collapsed": false
   },
   "outputs": [],
   "source": [
    "t_fire_nofuel = np.sqrt((v_initial/g)**2 + 2*(x_initial - (v_initial**2/(2*(f_engine/m_rocket - g))))/(g*(g/(f_engine/m_rocket - g) + 1))) + (v_initial/g)"
   ]
  },
  {
   "cell_type": "code",
   "execution_count": 212,
   "metadata": {
    "collapsed": false
   },
   "outputs": [
    {
     "data": {
      "text/plain": [
       "106.00804701812191"
      ]
     },
     "execution_count": 212,
     "metadata": {},
     "output_type": "execute_result"
    }
   ],
   "source": [
    "t_fire_nofuel"
   ]
  },
  {
   "cell_type": "code",
   "execution_count": 221,
   "metadata": {
    "collapsed": true
   },
   "outputs": [],
   "source": [
    "T_falling_nofuel = np.linspace(0, t_fire_nofuel)\n",
    "T_firing_nofuel = np.linspace(t_fire_nofuel, t_fire_nofuel + t_stopping_burn(t_fire_nofuel))"
   ]
  },
  {
   "cell_type": "code",
   "execution_count": 229,
   "metadata": {
    "collapsed": false
   },
   "outputs": [
    {
     "data": {
      "text/plain": [
       "80.284121022783623"
      ]
     },
     "execution_count": 229,
     "metadata": {},
     "output_type": "execute_result"
    }
   ],
   "source": [
    "t_stopping_burn(t_fire_nofuel)"
   ]
  },
  {
   "cell_type": "code",
   "execution_count": 222,
   "metadata": {
    "collapsed": true
   },
   "outputs": [],
   "source": [
    "X_falling = x_initial + v_initial *T_falling - 0.5*g*T_falling**2\n",
    "\n",
    "X_firing = d(t_fire) + (v_initial - g*t_fire)*(T_firing - t_fire)\\\n",
    "    - 0.5*g*(T_firing - t_fire)**2\\\n",
    "    + f_engine/burn_rate**2*(burn_rate * (T_firing - t_fire) - (m_rocket - burn_rate*(T_firing - t_fire))*np.log(m_rocket/(m_rocket-burn_rate*(T_firing - t_fire))))"
   ]
  },
  {
   "cell_type": "code",
   "execution_count": 223,
   "metadata": {
    "collapsed": true
   },
   "outputs": [],
   "source": [
    "X_falling_nofuel = x_initial + v_initial *T_falling_nofuel - 0.5*g*T_falling_nofuel**2\n",
    "\n",
    "X_firing_nofuel = X_falling_nofuel[-1] + (v_initial - g*t_fire_nofuel)*(T_firing_nofuel - t_fire_nofuel)\\\n",
    "    - 0.5*g*(T_firing_nofuel - t_fire_nofuel)**2\\\n",
    "    + f_engine/burn_rate**2*(burn_rate * (T_firing_nofuel - t_fire_nofuel) - (m_rocket - burn_rate*(T_firing_nofuel - t_fire))*np.log(m_rocket/(m_rocket-burn_rate*(T_firing_nofuel - t_fire_nofuel))))"
   ]
  },
  {
   "cell_type": "code",
   "execution_count": 237,
   "metadata": {
    "collapsed": false
   },
   "outputs": [
    {
     "data": {
      "text/plain": [
       "<matplotlib.text.Text at 0x7f754ef6b090>"
      ]
     },
     "execution_count": 237,
     "metadata": {},
     "output_type": "execute_result"
    },
    {
     "data": {
      "image/png": "[encoded data removed]",
      "text/plain": [
       "<matplotlib.figure.Figure at 0x7f754f42ad90>"
      ]
     },
     "metadata": {},
     "output_type": "display_data"
    }
   ],
   "source": [
    "plt.figure(figsize=(10,8))\n",
    "plt.plot(T_falling_nofuel, 1e-3*X_falling_nofuel, color=\"green\")\n",
    "plt.plot(T_firing_nofuel, 1e-3*X_firing_nofuel, color=\"blue\")\n",
    "plt.scatter([t_fire_nofuel], [1e-3*X_falling_nofuel[-1]], color=\"purple\")\n",
    "plt.plot(T_falling, 1e-3*X_falling, color=\"red\")\n",
    "plt.plot(T_firing, 1e-3*X_firing, color=\"orange\")\n",
    "plt.scatter([t_fire], [1e-3*X_falling[-1]], color=\"yellow\")\n",
    "plt.grid(True)\n",
    "#plt.axis([175,200,0,1])\n",
    "plt.xlabel(\"Time (sec)\")\n",
    "plt.ylabel(\"Altitude (km)\")\n",
    "plt.title(\"Landing Trajectory, Mass-Adjusted\")"
   ]
  },
  {
   "cell_type": "code",
   "execution_count": null,
   "metadata": {
    "collapsed": true
   },
   "outputs": [],
   "source": []
  }
 ],
 "metadata": {
  "kernelspec": {
   "display_name": "Python 2",
   "language": "python",
   "name": "python2"
  },
  "language_info": {
   "codemirror_mode": {
    "name": "ipython",
    "version": 2
   },
   "file_extension": ".py",
   "mimetype": "text/x-python",
   "name": "python",
   "nbconvert_exporter": "python",
   "pygments_lexer": "ipython2",
   "version": "2.7.10"
  }
 },
 "nbformat": 4,
 "nbformat_minor": 0
}
