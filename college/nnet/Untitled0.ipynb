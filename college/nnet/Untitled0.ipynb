{
 "metadata": {
  "name": "",
  "signature": "sha256:c9359efd4ad8f8f8de5df872e26a73722c2d6f7e7bdef81dbc462aeee878fbb3"
 },
 "nbformat": 3,
 "nbformat_minor": 0,
 "worksheets": [
  {
   "cells": [
    {
     "cell_type": "code",
     "collapsed": false,
     "input": [
      "from graphtex import tex2svg\n",
      "\n",
      "from IPython.display import display\n",
      "from IPython.core.display import Image as IImage, SVG\n",
      "\n",
      "import tempfile\n",
      "import subprocess\n",
      "\n",
      "def draw_tikz(tikz_strlist, width=1200, use_png=True):\n",
      "    \"\"\" Draws the insides of a tikzpicture tex element.\n",
      "        Draws to ipython noteput.\n",
      "        Optionally draws using a png, which saves the image.\"\"\"\n",
      "    tikzpicture = [r'\\begin{tikzpicture}[]','\\n\\n'] + tikz_strlist + [r'\\end{tikzpicture}','\\n']\n",
      "    \n",
      "                "
     ],
     "language": "python",
     "metadata": {},
     "outputs": [
      {
       "ename": "ImportError",
       "evalue": "No module named graphtex",
       "output_type": "pyerr",
       "traceback": [
        "\u001b[1;31m---------------------------------------------------------------------------\u001b[0m\n\u001b[1;31mImportError\u001b[0m                               Traceback (most recent call last)",
        "\u001b[1;32m<ipython-input-2-b30f6e15284c>\u001b[0m in \u001b[0;36m<module>\u001b[1;34m()\u001b[0m\n\u001b[1;32m----> 1\u001b[1;33m \u001b[1;32mfrom\u001b[0m \u001b[0mgraphtex\u001b[0m \u001b[1;32mimport\u001b[0m \u001b[0mtex2svg\u001b[0m\u001b[1;33m\u001b[0m\u001b[0m\n\u001b[0m\u001b[0;32m      2\u001b[0m \u001b[1;33m\u001b[0m\u001b[0m\n\u001b[0;32m      3\u001b[0m \u001b[1;32mfrom\u001b[0m \u001b[0mIPython\u001b[0m\u001b[1;33m.\u001b[0m\u001b[0mdisplay\u001b[0m \u001b[1;32mimport\u001b[0m \u001b[0mdisplay\u001b[0m\u001b[1;33m\u001b[0m\u001b[0m\n\u001b[0;32m      4\u001b[0m \u001b[1;32mfrom\u001b[0m \u001b[0mIPython\u001b[0m\u001b[1;33m.\u001b[0m\u001b[0mcore\u001b[0m\u001b[1;33m.\u001b[0m\u001b[0mdisplay\u001b[0m \u001b[1;32mimport\u001b[0m \u001b[0mImage\u001b[0m \u001b[1;32mas\u001b[0m \u001b[0mIImage\u001b[0m\u001b[1;33m,\u001b[0m \u001b[0mSVG\u001b[0m\u001b[1;33m\u001b[0m\u001b[0m\n\u001b[0;32m      5\u001b[0m \u001b[1;33m\u001b[0m\u001b[0m\n",
        "\u001b[1;31mImportError\u001b[0m: No module named graphtex"
       ]
      }
     ],
     "prompt_number": 2
    },
    {
     "cell_type": "code",
     "collapsed": false,
     "input": [
      "%load_ext tikzmagic"
     ],
     "language": "python",
     "metadata": {},
     "outputs": [
      {
       "output_type": "stream",
       "stream": "stdout",
       "text": [
        "The tikzmagic extension is already loaded. To reload it, use:\n",
        "  %reload_ext tikzmagic\n"
       ]
      }
     ],
     "prompt_number": 29
    },
    {
     "cell_type": "code",
     "collapsed": false,
     "input": [
      "%%tikz --scale 2 --size 300,300 -f jpg\n",
      "\\draw (0,0) rectangle (1,1);\n",
      "\\filldraw (0.5,0.5) circle (0.1);"
     ],
     "language": "python",
     "metadata": {},
     "outputs": [
      {
       "jpeg": "[encoded data removed]",
       "metadata": {},
       "output_type": "display_data"
      }
     ],
     "prompt_number": 14
    },
    {
     "cell_type": "code",
     "collapsed": false,
     "input": [
      "%%tikz -l arrows,matrix\n",
      "\\matrix (m) [matrix of math nodes, row sep=3em, column sep=4em] {\n",
      "A & B \\\\\n",
      "C & D \\\\\n",
      "};\n",
      "\\path[-stealth, line width=.4mm]\n",
      "(m-1-1) edge node [left ] {$ac$} (m-2-1)\n",
      "(m-1-1) edge node [above] {$ab$} (m-1-2)\n",
      "(m-1-2) edge node [right] {$bd$} (m-2-2)\n",
      "(m-2-1) edge node [below] {$cd$} (m-2-2);"
     ],
     "language": "python",
     "metadata": {},
     "outputs": [
      {
       "metadata": {},
       "output_type": "display_data",
       "png": "[encoded data removed]"
      }
     ],
     "prompt_number": 27
    },
    {
     "cell_type": "code",
     "collapsed": false,
     "input": [],
     "language": "python",
     "metadata": {},
     "outputs": []
    }
   ],
   "metadata": {}
  }
 ]
}