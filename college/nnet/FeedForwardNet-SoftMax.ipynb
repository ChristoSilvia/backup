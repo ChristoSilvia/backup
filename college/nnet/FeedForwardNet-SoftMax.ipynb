{
 "cells": [
  {
   "cell_type": "markdown",
   "metadata": {},
   "source": [
    "follows [this blog post](http://neuralnetworksanddeeplearning.com/chap6.html)"
   ]
  },
  {
   "cell_type": "code",
   "execution_count": 1,
   "metadata": {
    "collapsed": false
   },
   "outputs": [
    {
     "name": "stderr",
     "output_type": "stream",
     "text": [
      "INFO: Loading help data...\n"
     ]
    }
   ],
   "source": [
    "using PyPlot"
   ]
  },
  {
   "cell_type": "code",
   "execution_count": 2,
   "metadata": {
    "collapsed": false
   },
   "outputs": [
    {
     "data": {
      "text/plain": [
       "\"neural-networks-and-deep-learning/data/\""
      ]
     },
     "execution_count": 2,
     "metadata": {},
     "output_type": "execute_result"
    }
   ],
   "source": [
    "data_directory = \"neural-networks-and-deep-learning/data/\""
   ]
  },
  {
   "cell_type": "code",
   "execution_count": 3,
   "metadata": {
    "collapsed": false
   },
   "outputs": [],
   "source": [
    "training_data = readcsv(join([data_directory, \"training.csv\"]))';"
   ]
  },
  {
   "cell_type": "code",
   "execution_count": 4,
   "metadata": {
    "collapsed": false
   },
   "outputs": [],
   "source": [
    "training_answers = readcsv(join([data_directory, \"training_answers.csv\"]))[:];"
   ]
  },
  {
   "cell_type": "code",
   "execution_count": 5,
   "metadata": {
    "collapsed": true
   },
   "outputs": [],
   "source": [
    "validation_data = readcsv(join([data_directory, \"validation.csv\"]))';"
   ]
  },
  {
   "cell_type": "code",
   "execution_count": 6,
   "metadata": {
    "collapsed": true
   },
   "outputs": [],
   "source": [
    "validation_answers = readcsv(join([data_directory, \"validation_answers.csv\"]));"
   ]
  },
  {
   "cell_type": "code",
   "execution_count": 116,
   "metadata": {
    "collapsed": false
   },
   "outputs": [
    {
     "data": {
      "text/plain": [
       "mnist_show (generic function with 1 method)"
      ]
     },
     "execution_count": 116,
     "metadata": {},
     "output_type": "execute_result"
    }
   ],
   "source": [
    "function mnist_show( image )\n",
    "    imshow(reshape(training_data[:,i],(28,28))',cmap=\"Greys\")\n",
    "end"
   ]
  },
  {
   "cell_type": "code",
   "execution_count": 9,
   "metadata": {
    "collapsed": false
   },
   "outputs": [
    {
     "name": "stdout",
     "output_type": "stream",
     "text": [
      "Label: 1"
     ]
    },
    {
     "data": {
      "image/png": "[encoded data removed]",
      "text/plain": [
       "Figure(PyObject <matplotlib.figure.Figure object at 0xa89626ac>)"
      ]
     },
     "metadata": {},
     "output_type": "display_data"
    }
   ],
   "source": [
    "i = rand(1:50000)\n",
    "imshow(reshape(training_data[:,i],(28,28))',cmap=\"Greys\")\n",
    "@printf(\"Label: %i\", training_answers[i])"
   ]
  },
  {
   "cell_type": "code",
   "execution_count": 39,
   "metadata": {
    "collapsed": false
   },
   "outputs": [
    {
     "data": {
      "text/plain": [
       "feedforward (generic function with 1 method)"
      ]
     },
     "execution_count": 39,
     "metadata": {},
     "output_type": "execute_result"
    }
   ],
   "source": [
    "function feedforward(weights, biases, activations, f)\n",
    "    for i = 1:length(weights)-1\n",
    "        activations = f(weights[i] * activations + biases[i])\n",
    "    end\n",
    "    return softmax(weights[end] * activations + biases[end])\n",
    "end"
   ]
  },
  {
   "cell_type": "code",
   "execution_count": 12,
   "metadata": {
    "collapsed": false
   },
   "outputs": [
    {
     "data": {
      "text/plain": [
       "sigmoid (generic function with 1 method)"
      ]
     },
     "execution_count": 12,
     "metadata": {},
     "output_type": "execute_result"
    }
   ],
   "source": [
    "function sigmoid(x)\n",
    "    return 1.0 ./ (1.0 + exp(-x))\n",
    "end"
   ]
  },
  {
   "cell_type": "code",
   "execution_count": 29,
   "metadata": {
    "collapsed": false
   },
   "outputs": [
    {
     "data": {
      "text/plain": [
       "softmax (generic function with 1 method)"
      ]
     },
     "execution_count": 29,
     "metadata": {},
     "output_type": "execute_result"
    }
   ],
   "source": [
    "function softmax(x :: Array{Float64,1})\n",
    "    a = exp(x)\n",
    "    return a ./ sum(a)\n",
    "end"
   ]
  },
  {
   "cell_type": "code",
   "execution_count": 14,
   "metadata": {
    "collapsed": false
   },
   "outputs": [
    {
     "data": {
      "text/plain": [
       "d_sigmoid (generic function with 1 method)"
      ]
     },
     "execution_count": 14,
     "metadata": {},
     "output_type": "execute_result"
    }
   ],
   "source": [
    "function d_sigmoid(x)\n",
    "    a = exp(-x)\n",
    "    return a ./ ( 1 + a).^2\n",
    "end"
   ]
  },
  {
   "cell_type": "code",
   "execution_count": 15,
   "metadata": {
    "collapsed": false
   },
   "outputs": [
    {
     "data": {
      "text/plain": [
       "2-element Array{Any,1}:\n",
       " [0.807183,0.429188,0.651976,1.02587,-0.535464,0.501295,-0.60924,-1.97168,0.622192,1.31319  …  -2.2191,-0.304558,-1.11295,0.745449,1.78667,0.284827,1.89845,1.20861,1.30499,-0.641277]\n",
       " [-0.640765,-1.11325,0.152054,0.0142478,0.909836,0.0547737,-0.167473,0.490425,-0.97359,-1.51644]                                                                                      "
      ]
     },
     "execution_count": 15,
     "metadata": {},
     "output_type": "execute_result"
    }
   ],
   "source": [
    "n_input = 28 * 28\n",
    "n_hidden = 30\n",
    "n_output = 10\n",
    "weights = {randn(n_hidden, n_input), randn(n_output, n_nidden)}\n",
    "biases = {randn(n_hidden), randn(n_output)}"
   ]
  },
  {
   "cell_type": "code",
   "execution_count": 33,
   "metadata": {
    "collapsed": false
   },
   "outputs": [
    {
     "data": {
      "text/plain": [
       "backprop (generic function with 1 method)"
      ]
     },
     "execution_count": 33,
     "metadata": {},
     "output_type": "execute_result"
    }
   ],
   "source": [
    "function backprop(weights, biases, input, answer, f, df, s)\n",
    "    n = length(weights)\n",
    "    \n",
    "    function propagator(input, i)\n",
    "        weighted_sum = weights[i] * input + biases[i]\n",
    "        \n",
    "        if i == n\n",
    "            backpropagator = softmax(weighted_sum)\n",
    "            backpropagator[answer] -= 1\n",
    "        else\n",
    "            layer_output = f(weighted_sum)\n",
    "            d_layer_output = df(weighted_sum)\n",
    "        \n",
    "            backpropagator = propagator(layer_output, i+1) .* d_layer_output\n",
    "        end\n",
    "        biases[i] -= s * backpropagator\n",
    "        weights[i] -= s * backpropagator * input'\n",
    "        return weights[i]' * backpropagator\n",
    "    end\n",
    "    propagator(input, 1)\n",
    "end"
   ]
  },
  {
   "cell_type": "code",
   "execution_count": 34,
   "metadata": {
    "collapsed": false
   },
   "outputs": [],
   "source": [
    "training_inted = convert(Array{Int32,1}, training_answers);"
   ]
  },
  {
   "cell_type": "code",
   "execution_count": 80,
   "metadata": {
    "collapsed": false
   },
   "outputs": [
    {
     "name": "stdout",
     "output_type": "stream",
     "text": [
      "Epoch 1: 0.951200\n",
      "Epoch 2: 0.952300\n",
      "Epoch 3: 0.951800\n",
      "Epoch 4: 0.952300\n",
      "Epoch 5: 0.952700\n",
      "Epoch 6: 0.952600\n",
      "Epoch 7: 0.953400\n",
      "Epoch 8: 0.953100\n",
      "Epoch 9: 0.953400\n",
      "Epoch 10: 0.953400\n"
     ]
    }
   ],
   "source": [
    "for j = 1:10\n",
    "    for i = 1:50000\n",
    "        backprop(weights, biases, training_data[:,i], training_inted[i]+1, sigmoid, d_sigmoid, 0.01);\n",
    "    end\n",
    "    \n",
    "    n = length(validation_answers)\n",
    "    accuracy = 0\n",
    "    for i = 1:n\n",
    "        if indmax(feedforward(weights, biases, validation_data[:,i], sigmoid))-1 == validation_answers[i]\n",
    "            accuracy += 1\n",
    "        end\n",
    "    end\n",
    "    @printf(\"Epoch %d: %f\\n\", j, accuracy/n)\n",
    "end"
   ]
  },
  {
   "cell_type": "code",
   "execution_count": 123,
   "metadata": {
    "collapsed": false
   },
   "outputs": [
    {
     "name": "stdout",
     "output_type": "stream",
     "text": [
      "Image number: 23249\n",
      "Image Label: 7\n",
      "Network Guess: 7"
     ]
    },
    {
     "data": {
      "image/png": "[encoded data removed]",
      "text/plain": [
       "Figure(PyObject <matplotlib.figure.Figure object at 0xa58a66ac>)"
      ]
     },
     "metadata": {},
     "output_type": "display_data"
    }
   ],
   "source": [
    "i = rand(1:50000)\n",
    "network_guess = indmax(feedforward(weights,biases, training_data[:,i], sigmoid))-1\n",
    "@printf(\"Image number: %d\\nImage Label: %d\\nNetwork Guess: %d\", i, training_answers[i], network_guess)\n",
    "subplot(211)\n",
    "imshow(reshape(training_data[:,i],(28,28))',cmap=\"Greys\")\n",
    "subplot(212)\n",
    "axis([0.0,10.0,0.0,1.1])\n",
    "bar([0:9],[ (training_answers[i] == j ? 1.0 : 0.0) for j in 0:9 ], color=\"red\")\n",
    "bar([0:9],feedforward(weights,biases, training_data[:,i], sigmoid));"
   ]
  },
  {
   "cell_type": "code",
   "execution_count": 101,
   "metadata": {
    "collapsed": false
   },
   "outputs": [
    {
     "name": "stdout",
     "output_type": "stream",
     "text": [
      "Network Accuracy: 0.953400"
     ]
    }
   ],
   "source": [
    "n = length(validation_answers)\n",
    "accuracy = 0\n",
    "for i = 1:n\n",
    "    if indmax(feedforward(weights, biases, validation_data[:,i], sigmoid))-1 == validation_answers[i]\n",
    "        accuracy += 1\n",
    "    end\n",
    "end\n",
    "@printf(\"Network Accuracy: %f\", accuracy/n)"
   ]
  },
  {
   "cell_type": "code",
   "execution_count": 114,
   "metadata": {
    "collapsed": true
   },
   "outputs": [],
   "source": [
    "wrong_indices = zeros(Bool, length(validation_answers))\n",
    "for i = 1:length(validation_answers)\n",
    "    wrong_indices[i] = indmax(feedforward(weights, biases, validation_data[:,i], sigmoid))-1 != validation_answers[i]\n",
    "end"
   ]
  },
  {
   "cell_type": "code",
   "execution_count": 115,
   "metadata": {
    "collapsed": false
   },
   "outputs": [
    {
     "data": {
      "text/plain": [
       "784x466 Array{Float64,2}:\n",
       " 0.0  0.0  0.0  0.0  0.0  0.0  0.0  0.0  …  0.0  0.0  0.0  0.0  0.0  0.0  0.0\n",
       " 0.0  0.0  0.0  0.0  0.0  0.0  0.0  0.0     0.0  0.0  0.0  0.0  0.0  0.0  0.0\n",
       " 0.0  0.0  0.0  0.0  0.0  0.0  0.0  0.0     0.0  0.0  0.0  0.0  0.0  0.0  0.0\n",
       " 0.0  0.0  0.0  0.0  0.0  0.0  0.0  0.0     0.0  0.0  0.0  0.0  0.0  0.0  0.0\n",
       " 0.0  0.0  0.0  0.0  0.0  0.0  0.0  0.0     0.0  0.0  0.0  0.0  0.0  0.0  0.0\n",
       " 0.0  0.0  0.0  0.0  0.0  0.0  0.0  0.0  …  0.0  0.0  0.0  0.0  0.0  0.0  0.0\n",
       " 0.0  0.0  0.0  0.0  0.0  0.0  0.0  0.0     0.0  0.0  0.0  0.0  0.0  0.0  0.0\n",
       " 0.0  0.0  0.0  0.0  0.0  0.0  0.0  0.0     0.0  0.0  0.0  0.0  0.0  0.0  0.0\n",
       " 0.0  0.0  0.0  0.0  0.0  0.0  0.0  0.0     0.0  0.0  0.0  0.0  0.0  0.0  0.0\n",
       " 0.0  0.0  0.0  0.0  0.0  0.0  0.0  0.0     0.0  0.0  0.0  0.0  0.0  0.0  0.0\n",
       " 0.0  0.0  0.0  0.0  0.0  0.0  0.0  0.0  …  0.0  0.0  0.0  0.0  0.0  0.0  0.0\n",
       " 0.0  0.0  0.0  0.0  0.0  0.0  0.0  0.0     0.0  0.0  0.0  0.0  0.0  0.0  0.0\n",
       " 0.0  0.0  0.0  0.0  0.0  0.0  0.0  0.0     0.0  0.0  0.0  0.0  0.0  0.0  0.0\n",
       " ⋮                        ⋮              ⋱       ⋮                        ⋮  \n",
       " 0.0  0.0  0.0  0.0  0.0  0.0  0.0  0.0     0.0  0.0  0.0  0.0  0.0  0.0  0.0\n",
       " 0.0  0.0  0.0  0.0  0.0  0.0  0.0  0.0     0.0  0.0  0.0  0.0  0.0  0.0  0.0\n",
       " 0.0  0.0  0.0  0.0  0.0  0.0  0.0  0.0     0.0  0.0  0.0  0.0  0.0  0.0  0.0\n",
       " 0.0  0.0  0.0  0.0  0.0  0.0  0.0  0.0  …  0.0  0.0  0.0  0.0  0.0  0.0  0.0\n",
       " 0.0  0.0  0.0  0.0  0.0  0.0  0.0  0.0     0.0  0.0  0.0  0.0  0.0  0.0  0.0\n",
       " 0.0  0.0  0.0  0.0  0.0  0.0  0.0  0.0     0.0  0.0  0.0  0.0  0.0  0.0  0.0\n",
       " 0.0  0.0  0.0  0.0  0.0  0.0  0.0  0.0     0.0  0.0  0.0  0.0  0.0  0.0  0.0\n",
       " 0.0  0.0  0.0  0.0  0.0  0.0  0.0  0.0     0.0  0.0  0.0  0.0  0.0  0.0  0.0\n",
       " 0.0  0.0  0.0  0.0  0.0  0.0  0.0  0.0  …  0.0  0.0  0.0  0.0  0.0  0.0  0.0\n",
       " 0.0  0.0  0.0  0.0  0.0  0.0  0.0  0.0     0.0  0.0  0.0  0.0  0.0  0.0  0.0\n",
       " 0.0  0.0  0.0  0.0  0.0  0.0  0.0  0.0     0.0  0.0  0.0  0.0  0.0  0.0  0.0\n",
       " 0.0  0.0  0.0  0.0  0.0  0.0  0.0  0.0     0.0  0.0  0.0  0.0  0.0  0.0  0.0"
      ]
     },
     "execution_count": 115,
     "metadata": {},
     "output_type": "execute_result"
    }
   ],
   "source": [
    "wrong = validation_data[:, wrong_indices]"
   ]
  },
  {
   "cell_type": "code",
   "execution_count": 129,
   "metadata": {
    "collapsed": false
   },
   "outputs": [
    {
     "name": "stdout",
     "output_type": "stream",
     "text": [
      "Image number: 30\n",
      "Network Guess: 3\n"
     ]
    },
    {
     "data": {
      "image/png": "[encoded data removed]",
      "text/plain": [
       "Figure(PyObject <matplotlib.figure.Figure object at 0xa4dae90c>)"
      ]
     },
     "metadata": {},
     "output_type": "display_data"
    }
   ],
   "source": [
    "i = rand(1:466)\n",
    "network_guess = indmax(feedforward(weights,biases, wrong[:,i], sigmoid))-1\n",
    "@printf(\"Image number: %d\\nNetwork Guess: %d\\n\", i, network_guess)\n",
    "subplot(211)\n",
    "mnist_show(wrong[:,i])\n",
    "subplot(212)\n",
    "axis([0.0,10.0,0.0,1.1])\n",
    "bar([0:9],[ (training_answers[i] == j ? 1.0 : 0.0) for j in 0:9 ], color=\"red\")\n",
    "bar([0:9],feedforward(weights,biases, wrong[:,i], sigmoid));"
   ]
  },
  {
   "cell_type": "code",
   "execution_count": null,
   "metadata": {
    "collapsed": true
   },
   "outputs": [],
   "source": []
  }
 ],
 "metadata": {
  "kernelspec": {
   "display_name": "Julia 0.3.6",
   "language": "julia",
   "name": "julia 0.3"
  },
  "language_info": {
   "name": "julia",
   "version": "0.3.6"
  }
 },
 "nbformat": 4,
 "nbformat_minor": 0
}
