{
 "metadata": {
  "name": "",
  "signature": "sha256:c47a45eed52fcd62eef674be3dd584a9136de83cef091ffff4c86d6d8e8a6e6a"
 },
 "nbformat": 3,
 "nbformat_minor": 0,
 "worksheets": [
  {
   "cells": [
    {
     "cell_type": "code",
     "collapsed": false,
     "input": [
      "%matplotlib inline\n",
      "import matplotlib.pyplot as plt\n",
      "import matplotlib.mlab as mlab\n",
      "import numpy as np\n",
      "from scipy.integrate import odeint\n",
      "\n",
      "s = 0.1\n",
      "x0 = 0.0\n",
      "y0 = 0.0\n",
      "\n",
      "def gaussian(x,y):\n",
      "    return np.exp(-s*((x-x0)*(x-x0) + (y-y0)*(y-y0)))\n",
      "\n",
      "def yp(ys, x):\n",
      "    y = ys[0]\n",
      "    v = ys[1]\n",
      "    return [ v, -2*s*((y - y0) - v*(x-x0))*np.sqrt(1 + v*v) ]\n",
      "            \n",
      "X = np.arange(-4.0, 8.0,0.0001)\n",
      "YofX = odeint(yp, [0.01,10000.0], X)\n",
      "x = np.arange(-4.0,8.0,0.01)\n",
      "y = np.arange(-4.0,4.0,0.01)\n",
      "Xg,Yg = np.meshgrid(x,y)\n",
      "Z = mlab.bivariate_normal(Xg,Yg,s,s,x0,y0)\n",
      "print YofX.T\n",
      "\n",
      "plt.figure()\n",
      "CS = plt.contour(Xg, Yg, Z, np.logspace(1,-4, 6))\n",
      "\n",
      "plt.plot(X,YofX.T[0])    "
     ],
     "language": "python",
     "metadata": {},
     "outputs": [
      {
       "output_type": "stream",
       "stream": "stdout",
       "text": [
        "Excess work done on this call (perhaps wrong Dfun type).\n",
        "Run with full_output = 1 to get quantitative information.\n",
        "[[  1.00000000e-02   7.44733053e-01   1.20438744e+00 ...,   0.00000000e+00\n",
        "    0.00000000e+00   0.00000000e+00]\n",
        " [  1.00000000e+04   5.55554773e+03   3.84612919e+03 ...,   0.00000000e+00\n",
        "    0.00000000e+00   0.00000000e+00]]"
       ]
      },
      {
       "output_type": "stream",
       "stream": "stdout",
       "text": [
        "\n"
       ]
      },
      {
       "metadata": {},
       "output_type": "pyout",
       "prompt_number": 103,
       "text": [
        "[<matplotlib.lines.Line2D at 0x8f07764c>]"
       ]
      },
      {
       "metadata": {},
       "output_type": "display_data",
       "png": "[encoded data removed]",
       "text": [
        "<matplotlib.figure.Figure at 0x8fe289cc>"
       ]
      }
     ],
     "prompt_number": 103
    },
    {
     "cell_type": "code",
     "collapsed": false,
     "input": [
      "s = 4.0\n",
      "rprime0 = 0.00\n",
      "r0 = 3.0\n",
      "\n",
      "def n(r):\n",
      "    return np.exp(-s*r*r)\n",
      "\n",
      "def drdtheta(r,theta):\n",
      "    return r * np.sqrt(((n(r)*r)/(n(r0)*r0))**2*(r0**2/(rprime0**2 + r0**2)) - 1.0)\n",
      "\n",
      "Theta = np.arange(1.0,8.0,0.01)\n",
      "R = odeint(drdtheta, r0, Theta).T[0]\n",
      "\n",
      "#print R, Theta\n",
      "plt.plot(R * np.cos(Theta), R * np.sin(Theta))\n"
     ],
     "language": "python",
     "metadata": {},
     "outputs": [
      {
       "metadata": {},
       "output_type": "pyout",
       "prompt_number": 102,
       "text": [
        "[<matplotlib.lines.Line2D at 0x8fdd648c>]"
       ]
      },
      {
       "metadata": {},
       "output_type": "display_data",
       "png": "[encoded data removed]",
       "text": [
        "<matplotlib.figure.Figure at 0x9034f42c>"
       ]
      }
     ],
     "prompt_number": 102
    },
    {
     "cell_type": "code",
     "collapsed": false,
     "input": [],
     "language": "python",
     "metadata": {},
     "outputs": []
    }
   ],
   "metadata": {}
  }
 ]
}