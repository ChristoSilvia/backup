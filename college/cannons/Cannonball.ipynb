{
 "cells": [
  {
   "cell_type": "code",
   "execution_count": 29,
   "metadata": {
    "collapsed": true
   },
   "outputs": [],
   "source": [
    "%matplotlib inline\n",
    "import numpy as np\n",
    "from scipy.integrate import ode\n",
    "import matplotlib.pyplot as plt"
   ]
  },
  {
   "cell_type": "markdown",
   "metadata": {},
   "source": [
    "Consider a cannon with a cannonball a distance $x$ from its left wall.\n",
    "\n",
    "To the left of the cannonball, there is an ideal gas with pressure $p$ and volume $V$.\n",
    "\n",
    "The cannonball has mass $m$ and cross-sectional area $A$, and is assumed to be cylindrical.\n",
    "\n",
    "Since the cannon barrel also has cross sectional area $A$, the total volume is therefore:\n",
    "\n",
    "$V = A x$\n",
    "\n",
    "The total energy is:\n",
    "\n",
    "$E = p V + \\frac 1 2 m \\dot{x}^2 $\n",
    "\n",
    "Therefore, since the total energy is conserved, the pressure is \n",
    "    given by:\n",
    "    \n",
    "$ p(x, \\dot{x}) = \\frac{E_0 - \\frac 1 2 \\dot{x}^2}{A x}$\n",
    "\n",
    "The total force on the cannonball is $p A$ (assuming no ambient\n",
    "    atmosphere), so therefore the\n",
    "    acceleration of the cannonball (by $F = m a$) is:\n",
    "    \n",
    "$ \\ddot{x} = \\frac{ E_0/m - \\frac 1 2 \\dot{x}^2}{x} $"
   ]
  },
  {
   "cell_type": "markdown",
   "metadata": {},
   "source": [
    "The cannonball will achieve its maximum velocity when the force is zero, or when all of the energy of the gas has been transmitted to the cannonball. This happens when:\n",
    "\n",
    "$ E_0 = \\frac 1 2 m \\dot{x}^2 $\n",
    "\n",
    "or \n",
    "\n",
    "$ \\dot{x} = \\sqrt{ 2 \\frac {E_0} m } $"
   ]
  },
  {
   "cell_type": "code",
   "execution_count": 64,
   "metadata": {
    "collapsed": true
   },
   "outputs": [],
   "source": [
    "x_initial = 0.1 #m\n",
    "gun_diameter = 0.1 #m\n",
    "A = np.pi*gun_diameter**2/4.0\n",
    "sea_level_pressure = 101325.0 # pascals\n",
    "sea_level_density = 1.22 # kg/m^3\n",
    "shell_mass = 2.0 # kg\n",
    "vacuum_exit_velocity = 400.0 # m/sec\n",
    "energy_mass_ratio = 0.5*vacuum_exit_velocity**2 "
   ]
  },
  {
   "cell_type": "code",
   "execution_count": 68,
   "metadata": {
    "collapsed": false
   },
   "outputs": [],
   "source": [
    "def func(t, y):\n",
    "    return np.array([y[1], \n",
    "        (energy_mass_ratio - 0.5*y[1]**2)/y[0] -\\\n",
    "        (sea_level_pressure + 0.5*sea_level_density*y[1]**2)*A/shell_mass])"
   ]
  },
  {
   "cell_type": "code",
   "execution_count": 69,
   "metadata": {
    "collapsed": false
   },
   "outputs": [
    {
     "data": {
      "text/plain": [
       "<scipy.integrate._ode.ode at 0x7f1ecbfbe110>"
      ]
     },
     "execution_count": 69,
     "metadata": {},
     "output_type": "execute_result"
    }
   ],
   "source": [
    "integrator = ode(func)\n",
    "integrator.set_integrator(\"dopri5\")"
   ]
  },
  {
   "cell_type": "code",
   "execution_count": 70,
   "metadata": {
    "collapsed": false
   },
   "outputs": [
    {
     "data": {
      "text/plain": [
       "array([ 256.69647226,  146.7027067 ])"
      ]
     },
     "execution_count": 70,
     "metadata": {},
     "output_type": "execute_result"
    }
   ],
   "source": [
    "integrator.set_initial_value(np.array([x_initial, 0.0]))\n",
    "integrator.integrate(1.0)"
   ]
  },
  {
   "cell_type": "code",
   "execution_count": 71,
   "metadata": {
    "collapsed": false
   },
   "outputs": [
    {
     "data": {
      "text/plain": [
       "array([ 321.79738712,  -11.68581127])"
      ]
     },
     "execution_count": 71,
     "metadata": {},
     "output_type": "execute_result"
    }
   ],
   "source": [
    "integrator.integrate(2.0)"
   ]
  },
  {
   "cell_type": "code",
   "execution_count": 95,
   "metadata": {
    "collapsed": true
   },
   "outputs": [],
   "source": [
    "t_max = 0.02\n",
    "dt = 0.0001\n",
    "T = np.linspace(0,t_max, int(t_max/dt)+1)"
   ]
  },
  {
   "cell_type": "code",
   "execution_count": 96,
   "metadata": {
    "collapsed": false
   },
   "outputs": [],
   "source": [
    "X = np.array([integrator.integrate(t)[0] for t in T])\n",
    "V = np.array([integrator.integrate(t)[1] for t in T])"
   ]
  },
  {
   "cell_type": "code",
   "execution_count": 97,
   "metadata": {
    "collapsed": false
   },
   "outputs": [
    {
     "data": {
      "text/plain": [
       "[0.0, 0.02, -20.0, 420.0]"
      ]
     },
     "execution_count": 97,
     "metadata": {},
     "output_type": "execute_result"
    },
    {
     "data": {
      "image/png": "[encoded data removed]",
      "text/plain": [
       "<matplotlib.figure.Figure at 0x7f1ecb54b510>"
      ]
     },
     "metadata": {},
     "output_type": "display_data"
    }
   ],
   "source": [
    "plt.plot(T,V, label=\"shell velocity\")\n",
    "plt.plot(T, T*0.0 + vacuum_exit_velocity, label=\"no-drag max shell velocity\")\n",
    "plt.xlabel(\"Time\")\n",
    "plt.ylabel(\"Shell Velocity\")\n",
    "plt.legend(loc=4)\n",
    "plt.title(\"Velocity vs. Time of Shell in Barrel\")\n",
    "plt.axis([0.0, t_max, -0.05*vacuum_exit_velocity, 1.05 * vacuum_exit_velocity])"
   ]
  },
  {
   "cell_type": "code",
   "execution_count": 99,
   "metadata": {
    "collapsed": false
   },
   "outputs": [
    {
     "data": {
      "text/plain": [
       "<matplotlib.text.Text at 0x7f1ecb9dd150>"
      ]
     },
     "execution_count": 99,
     "metadata": {},
     "output_type": "execute_result"
    },
    {
     "data": {
      "image/png": "[encoded data removed]",
      "text/plain": [
       "<matplotlib.figure.Figure at 0x7f1ecb58a150>"
      ]
     },
     "metadata": {},
     "output_type": "display_data"
    }
   ],
   "source": [
    "plt.plot(X, V)\n",
    "plt.xlabel(\"Distance Down the Barrel\")\n",
    "plt.ylabel(\"Velocity\")\n",
    "plt.title(\"Shell Speed within a closed barrel\")"
   ]
  },
  {
   "cell_type": "code",
   "execution_count": null,
   "metadata": {
    "collapsed": true
   },
   "outputs": [],
   "source": []
  },
  {
   "cell_type": "code",
   "execution_count": null,
   "metadata": {
    "collapsed": true
   },
   "outputs": [],
   "source": []
  }
 ],
 "metadata": {
  "kernelspec": {
   "display_name": "Python 2",
   "language": "python",
   "name": "python2"
  },
  "language_info": {
   "codemirror_mode": {
    "name": "ipython",
    "version": 2
   },
   "file_extension": ".py",
   "mimetype": "text/x-python",
   "name": "python",
   "nbconvert_exporter": "python",
   "pygments_lexer": "ipython2",
   "version": "2.7.10"
  }
 },
 "nbformat": 4,
 "nbformat_minor": 0
}
